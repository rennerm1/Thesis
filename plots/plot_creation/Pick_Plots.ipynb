{
 "cells": [
  {
   "cell_type": "code",
   "execution_count": 5,
   "id": "14540da2-071c-43fa-96a2-4a949c6bfb06",
   "metadata": {},
   "outputs": [],
   "source": [
    "import numpy as np\n",
    "import pandas as pd\n",
    "import matplotlib.pyplot as plt\n",
    "import matplotlib.ticker as plticker\n",
    "import warnings\n",
    "warnings.filterwarnings('ignore')"
   ]
  },
  {
   "cell_type": "code",
   "execution_count": 2,
   "id": "356176ba-bf5e-4b0e-b8ee-e71308e45f2e",
   "metadata": {},
   "outputs": [],
   "source": [
    "tex_fonts = {\n",
    "    \"text.usetex\": True,\n",
    "    \"font.family\": \"serif\",\n",
    "    \"font.sans-serif\": [\"Palatino\"],\n",
    "    \"axes.labelsize\": 12,\n",
    "    \"font.size\": 12,\n",
    "    \"legend.fontsize\": 10,\n",
    "    \"xtick.labelsize\": 11,\n",
    "    \"ytick.labelsize\": 11\n",
    "}\n",
    "\n",
    "plt.rcParams.update(tex_fonts)"
   ]
  },
  {
   "cell_type": "code",
   "execution_count": 3,
   "id": "dafb7149-b1a6-44d8-8f82-a991abc92c6c",
   "metadata": {},
   "outputs": [],
   "source": [
    "def set_size(width_pt, fraction=1, subplots=(1, 1)):\n",
    "\n",
    "    # Width of figure (in pts)\n",
    "    fig_width_pt = width_pt * fraction\n",
    "    # Convert from pt to inches\n",
    "    inches_per_pt = 1 / 72.27\n",
    "\n",
    "    # Golden ratio to set aesthetic figure height\n",
    "    golden_ratio = (5**.5 - 1) / 2\n",
    "\n",
    "    # Figure width in inches\n",
    "    fig_width_in = fig_width_pt * inches_per_pt\n",
    "    # Figure height in inches\n",
    "    fig_height_in = fig_width_in * golden_ratio * (subplots[0] / subplots[1])\n",
    "\n",
    "    return (fig_width_in, fig_height_in)\n"
   ]
  },
  {
   "cell_type": "code",
   "execution_count": 4,
   "id": "e8b06aad-01e8-4758-9631-a44bdae62886",
   "metadata": {},
   "outputs": [
    {
     "data": {
      "text/html": [
       "<div>\n",
       "<style scoped>\n",
       "    .dataframe tbody tr th:only-of-type {\n",
       "        vertical-align: middle;\n",
       "    }\n",
       "\n",
       "    .dataframe tbody tr th {\n",
       "        vertical-align: top;\n",
       "    }\n",
       "\n",
       "    .dataframe thead th {\n",
       "        text-align: right;\n",
       "    }\n",
       "</style>\n",
       "<table border=\"1\" class=\"dataframe\">\n",
       "  <thead>\n",
       "    <tr style=\"text-align: right;\">\n",
       "      <th></th>\n",
       "      <th>Customers_N</th>\n",
       "      <th>Distance</th>\n",
       "      <th>Time</th>\n",
       "      <th>Stops</th>\n",
       "      <th>Stops_h</th>\n",
       "      <th>FixedDC_Cost</th>\n",
       "      <th>Trans_Cost</th>\n",
       "      <th>Variable_DC</th>\n",
       "      <th>Fixed_V</th>\n",
       "      <th>Total_Cost</th>\n",
       "      <th>Var_per_order</th>\n",
       "      <th>Trans_per_order</th>\n",
       "      <th>Transp_order_with_V</th>\n",
       "      <th>FixedDC_per_order</th>\n",
       "      <th>Total_Cost_per_order</th>\n",
       "      <th>Items</th>\n",
       "      <th>Cost_per_item</th>\n",
       "      <th>City</th>\n",
       "      <th>Scenario</th>\n",
       "    </tr>\n",
       "  </thead>\n",
       "  <tbody>\n",
       "    <tr>\n",
       "      <th>20</th>\n",
       "      <td>100</td>\n",
       "      <td>239403.0</td>\n",
       "      <td>44034.0</td>\n",
       "      <td>104.0</td>\n",
       "      <td>8.5</td>\n",
       "      <td>560</td>\n",
       "      <td>255.11</td>\n",
       "      <td>391.90</td>\n",
       "      <td>90.0</td>\n",
       "      <td>1297.01</td>\n",
       "      <td>3.92</td>\n",
       "      <td>2.55</td>\n",
       "      <td>3.45</td>\n",
       "      <td>5.6</td>\n",
       "      <td>12.97</td>\n",
       "      <td>4557.0</td>\n",
       "      <td>0.28</td>\n",
       "      <td>Wuerzburg</td>\n",
       "      <td>Fulfillment_Centre</td>\n",
       "    </tr>\n",
       "    <tr>\n",
       "      <th>21</th>\n",
       "      <td>100</td>\n",
       "      <td>214327.0</td>\n",
       "      <td>43512.0</td>\n",
       "      <td>103.0</td>\n",
       "      <td>8.5</td>\n",
       "      <td>560</td>\n",
       "      <td>248.09</td>\n",
       "      <td>376.59</td>\n",
       "      <td>67.5</td>\n",
       "      <td>1252.18</td>\n",
       "      <td>3.77</td>\n",
       "      <td>2.48</td>\n",
       "      <td>3.16</td>\n",
       "      <td>5.6</td>\n",
       "      <td>12.52</td>\n",
       "      <td>4379.0</td>\n",
       "      <td>0.29</td>\n",
       "      <td>Wuerzburg</td>\n",
       "      <td>Fulfillment_Centre</td>\n",
       "    </tr>\n",
       "    <tr>\n",
       "      <th>22</th>\n",
       "      <td>100</td>\n",
       "      <td>212442.0</td>\n",
       "      <td>43108.0</td>\n",
       "      <td>103.0</td>\n",
       "      <td>8.6</td>\n",
       "      <td>560</td>\n",
       "      <td>245.81</td>\n",
       "      <td>390.44</td>\n",
       "      <td>67.5</td>\n",
       "      <td>1263.75</td>\n",
       "      <td>3.90</td>\n",
       "      <td>2.46</td>\n",
       "      <td>3.13</td>\n",
       "      <td>5.6</td>\n",
       "      <td>12.64</td>\n",
       "      <td>4540.0</td>\n",
       "      <td>0.28</td>\n",
       "      <td>Wuerzburg</td>\n",
       "      <td>Fulfillment_Centre</td>\n",
       "    </tr>\n",
       "    <tr>\n",
       "      <th>23</th>\n",
       "      <td>100</td>\n",
       "      <td>203943.0</td>\n",
       "      <td>43469.0</td>\n",
       "      <td>103.0</td>\n",
       "      <td>8.5</td>\n",
       "      <td>560</td>\n",
       "      <td>246.01</td>\n",
       "      <td>407.38</td>\n",
       "      <td>67.5</td>\n",
       "      <td>1280.89</td>\n",
       "      <td>4.07</td>\n",
       "      <td>2.46</td>\n",
       "      <td>3.14</td>\n",
       "      <td>5.6</td>\n",
       "      <td>12.81</td>\n",
       "      <td>4737.0</td>\n",
       "      <td>0.27</td>\n",
       "      <td>Wuerzburg</td>\n",
       "      <td>Fulfillment_Centre</td>\n",
       "    </tr>\n",
       "    <tr>\n",
       "      <th>24</th>\n",
       "      <td>100</td>\n",
       "      <td>208490.0</td>\n",
       "      <td>43539.0</td>\n",
       "      <td>103.0</td>\n",
       "      <td>8.5</td>\n",
       "      <td>560</td>\n",
       "      <td>247.17</td>\n",
       "      <td>394.83</td>\n",
       "      <td>67.5</td>\n",
       "      <td>1269.50</td>\n",
       "      <td>3.95</td>\n",
       "      <td>2.47</td>\n",
       "      <td>3.15</td>\n",
       "      <td>5.6</td>\n",
       "      <td>12.70</td>\n",
       "      <td>4591.0</td>\n",
       "      <td>0.28</td>\n",
       "      <td>Wuerzburg</td>\n",
       "      <td>Fulfillment_Centre</td>\n",
       "    </tr>\n",
       "    <tr>\n",
       "      <th>25</th>\n",
       "      <td>100</td>\n",
       "      <td>205840.0</td>\n",
       "      <td>42688.0</td>\n",
       "      <td>103.0</td>\n",
       "      <td>8.7</td>\n",
       "      <td>560</td>\n",
       "      <td>242.59</td>\n",
       "      <td>405.06</td>\n",
       "      <td>67.5</td>\n",
       "      <td>1275.15</td>\n",
       "      <td>4.05</td>\n",
       "      <td>2.43</td>\n",
       "      <td>3.10</td>\n",
       "      <td>5.6</td>\n",
       "      <td>12.75</td>\n",
       "      <td>4710.0</td>\n",
       "      <td>0.27</td>\n",
       "      <td>Wuerzburg</td>\n",
       "      <td>Fulfillment_Centre</td>\n",
       "    </tr>\n",
       "    <tr>\n",
       "      <th>26</th>\n",
       "      <td>100</td>\n",
       "      <td>198211.0</td>\n",
       "      <td>43724.0</td>\n",
       "      <td>103.0</td>\n",
       "      <td>8.5</td>\n",
       "      <td>560</td>\n",
       "      <td>246.21</td>\n",
       "      <td>379.00</td>\n",
       "      <td>67.5</td>\n",
       "      <td>1252.71</td>\n",
       "      <td>3.79</td>\n",
       "      <td>2.46</td>\n",
       "      <td>3.14</td>\n",
       "      <td>5.6</td>\n",
       "      <td>12.53</td>\n",
       "      <td>4407.0</td>\n",
       "      <td>0.28</td>\n",
       "      <td>Wuerzburg</td>\n",
       "      <td>Fulfillment_Centre</td>\n",
       "    </tr>\n",
       "    <tr>\n",
       "      <th>27</th>\n",
       "      <td>100</td>\n",
       "      <td>229096.0</td>\n",
       "      <td>44204.0</td>\n",
       "      <td>104.0</td>\n",
       "      <td>8.5</td>\n",
       "      <td>560</td>\n",
       "      <td>254.08</td>\n",
       "      <td>370.75</td>\n",
       "      <td>90.0</td>\n",
       "      <td>1274.83</td>\n",
       "      <td>3.71</td>\n",
       "      <td>2.54</td>\n",
       "      <td>3.44</td>\n",
       "      <td>5.6</td>\n",
       "      <td>12.75</td>\n",
       "      <td>4311.0</td>\n",
       "      <td>0.30</td>\n",
       "      <td>Wuerzburg</td>\n",
       "      <td>Fulfillment_Centre</td>\n",
       "    </tr>\n",
       "    <tr>\n",
       "      <th>28</th>\n",
       "      <td>100</td>\n",
       "      <td>219447.0</td>\n",
       "      <td>43142.0</td>\n",
       "      <td>104.0</td>\n",
       "      <td>8.7</td>\n",
       "      <td>560</td>\n",
       "      <td>247.23</td>\n",
       "      <td>398.95</td>\n",
       "      <td>90.0</td>\n",
       "      <td>1296.18</td>\n",
       "      <td>3.99</td>\n",
       "      <td>2.47</td>\n",
       "      <td>3.37</td>\n",
       "      <td>5.6</td>\n",
       "      <td>12.96</td>\n",
       "      <td>4639.0</td>\n",
       "      <td>0.28</td>\n",
       "      <td>Wuerzburg</td>\n",
       "      <td>Fulfillment_Centre</td>\n",
       "    </tr>\n",
       "    <tr>\n",
       "      <th>29</th>\n",
       "      <td>100</td>\n",
       "      <td>223115.0</td>\n",
       "      <td>43732.0</td>\n",
       "      <td>104.0</td>\n",
       "      <td>8.6</td>\n",
       "      <td>560</td>\n",
       "      <td>250.73</td>\n",
       "      <td>386.14</td>\n",
       "      <td>90.0</td>\n",
       "      <td>1286.87</td>\n",
       "      <td>3.86</td>\n",
       "      <td>2.51</td>\n",
       "      <td>3.41</td>\n",
       "      <td>5.6</td>\n",
       "      <td>12.87</td>\n",
       "      <td>4490.0</td>\n",
       "      <td>0.29</td>\n",
       "      <td>Wuerzburg</td>\n",
       "      <td>Fulfillment_Centre</td>\n",
       "    </tr>\n",
       "  </tbody>\n",
       "</table>\n",
       "</div>"
      ],
      "text/plain": [
       "    Customers_N  Distance     Time  Stops  Stops_h  FixedDC_Cost  Trans_Cost  \\\n",
       "20          100  239403.0  44034.0  104.0      8.5           560      255.11   \n",
       "21          100  214327.0  43512.0  103.0      8.5           560      248.09   \n",
       "22          100  212442.0  43108.0  103.0      8.6           560      245.81   \n",
       "23          100  203943.0  43469.0  103.0      8.5           560      246.01   \n",
       "24          100  208490.0  43539.0  103.0      8.5           560      247.17   \n",
       "25          100  205840.0  42688.0  103.0      8.7           560      242.59   \n",
       "26          100  198211.0  43724.0  103.0      8.5           560      246.21   \n",
       "27          100  229096.0  44204.0  104.0      8.5           560      254.08   \n",
       "28          100  219447.0  43142.0  104.0      8.7           560      247.23   \n",
       "29          100  223115.0  43732.0  104.0      8.6           560      250.73   \n",
       "\n",
       "    Variable_DC  Fixed_V  Total_Cost  Var_per_order  Trans_per_order  \\\n",
       "20       391.90     90.0     1297.01           3.92             2.55   \n",
       "21       376.59     67.5     1252.18           3.77             2.48   \n",
       "22       390.44     67.5     1263.75           3.90             2.46   \n",
       "23       407.38     67.5     1280.89           4.07             2.46   \n",
       "24       394.83     67.5     1269.50           3.95             2.47   \n",
       "25       405.06     67.5     1275.15           4.05             2.43   \n",
       "26       379.00     67.5     1252.71           3.79             2.46   \n",
       "27       370.75     90.0     1274.83           3.71             2.54   \n",
       "28       398.95     90.0     1296.18           3.99             2.47   \n",
       "29       386.14     90.0     1286.87           3.86             2.51   \n",
       "\n",
       "    Transp_order_with_V  FixedDC_per_order  Total_Cost_per_order   Items  \\\n",
       "20                 3.45                5.6                 12.97  4557.0   \n",
       "21                 3.16                5.6                 12.52  4379.0   \n",
       "22                 3.13                5.6                 12.64  4540.0   \n",
       "23                 3.14                5.6                 12.81  4737.0   \n",
       "24                 3.15                5.6                 12.70  4591.0   \n",
       "25                 3.10                5.6                 12.75  4710.0   \n",
       "26                 3.14                5.6                 12.53  4407.0   \n",
       "27                 3.44                5.6                 12.75  4311.0   \n",
       "28                 3.37                5.6                 12.96  4639.0   \n",
       "29                 3.41                5.6                 12.87  4490.0   \n",
       "\n",
       "    Cost_per_item       City            Scenario  \n",
       "20           0.28  Wuerzburg  Fulfillment_Centre  \n",
       "21           0.29  Wuerzburg  Fulfillment_Centre  \n",
       "22           0.28  Wuerzburg  Fulfillment_Centre  \n",
       "23           0.27  Wuerzburg  Fulfillment_Centre  \n",
       "24           0.28  Wuerzburg  Fulfillment_Centre  \n",
       "25           0.27  Wuerzburg  Fulfillment_Centre  \n",
       "26           0.28  Wuerzburg  Fulfillment_Centre  \n",
       "27           0.30  Wuerzburg  Fulfillment_Centre  \n",
       "28           0.28  Wuerzburg  Fulfillment_Centre  \n",
       "29           0.29  Wuerzburg  Fulfillment_Centre  "
      ]
     },
     "execution_count": 4,
     "metadata": {},
     "output_type": "execute_result"
    }
   ],
   "source": [
    "wue_F=  pd.read_hdf(\"wue_F_merged.h5\", \"wue_F\")\n",
    "wue_F100 = wue_F[wue_F[\"Customers_N\"] == 100]\n",
    "wue_F100"
   ]
  },
  {
   "cell_type": "code",
   "execution_count": 6,
   "id": "1aeda977-f2bf-49c4-849c-503688379d90",
   "metadata": {},
   "outputs": [
    {
     "data": {
      "text/plain": [
       "Customers_N                100.000\n",
       "Distance                215431.400\n",
       "Time                     43515.200\n",
       "Stops                      103.400\n",
       "Stops_h                      8.560\n",
       "FixedDC_Cost               560.000\n",
       "Trans_Cost                 248.303\n",
       "Variable_DC                390.104\n",
       "Fixed_V                     76.500\n",
       "Total_Cost                1274.907\n",
       "Var_per_order                3.901\n",
       "Trans_per_order              2.483\n",
       "Transp_order_with_V          3.249\n",
       "FixedDC_per_order            5.600\n",
       "Total_Cost_per_order        12.750\n",
       "Items                     4536.100\n",
       "Cost_per_item                0.282\n",
       "dtype: float64"
      ]
     },
     "execution_count": 6,
     "metadata": {},
     "output_type": "execute_result"
    }
   ],
   "source": [
    "wue_F100.mean()"
   ]
  },
  {
   "cell_type": "code",
   "execution_count": 97,
   "id": "9eb588d2-06e9-471c-ae32-e812f82a9309",
   "metadata": {},
   "outputs": [],
   "source": [
    "def pick_wue_F(var_factor):\n",
    "    Customers = 100\n",
    "    Items = 4536\n",
    "    basket_size = (100/100) * 100\n",
    "    COGS = 80\n",
    "    Delivery_inc = (5/100)*100\n",
    "    marketing = (2/100)*100\n",
    "    cost_order_manipulation =  ((var_factor*Items)/Customers) + 3.249 + 5.6  \n",
    "    cost_order = (cost_order_manipulation/100)*100\n",
    "    prof_picking = (basket_size - COGS - marketing - cost_order + Delivery_inc)\n",
    "    \n",
    "    return(prof_picking)"
   ]
  },
  {
   "cell_type": "code",
   "execution_count": 186,
   "id": "df3640bf-e859-4a41-af5e-886afc9c89d0",
   "metadata": {},
   "outputs": [],
   "source": [
    "pick_amount_F = [200, 220, 240, 260, 280, 300, 320, 340, 360, 380, 400] #420, 440, 460, 480, 500]"
   ]
  },
  {
   "cell_type": "code",
   "execution_count": 187,
   "id": "0dc2a5ab-a27b-46c7-9a3a-2e87752bad8b",
   "metadata": {},
   "outputs": [
    {
     "data": {
      "text/plain": [
       "11"
      ]
     },
     "execution_count": 187,
     "metadata": {},
     "output_type": "execute_result"
    }
   ],
   "source": [
    "len(pick_amount_F)"
   ]
  },
  {
   "cell_type": "code",
   "execution_count": 188,
   "id": "a2925256-a0d3-4244-b2e9-8a3a50b9dffe",
   "metadata": {},
   "outputs": [],
   "source": [
    "var_factors_F = [0.11, 0.103, 0.098, 0.093, 0.089,\n",
    "                 0.086, 0.083, 0.08, 0.077, 0.075,\n",
    "                 0.073] #0.071, 0.07, 0.068,  0.067,0.066 ] "
   ]
  },
  {
   "cell_type": "code",
   "execution_count": null,
   "id": "be21df93-c4d6-4101-ba45-d590f269df98",
   "metadata": {},
   "outputs": [],
   "source": [
    "0.11, 0.103, 0.098, 0.093, 0.089, 0.086, 0.083, 0.08, 0.077, 0.075, 0.073, 0.071, 0.07, 0.068,  0.067,0.066 "
   ]
  },
  {
   "cell_type": "code",
   "execution_count": 189,
   "id": "4b607697-da4c-444f-9de4-b86c72d1f33b",
   "metadata": {},
   "outputs": [
    {
     "data": {
      "text/plain": [
       "11"
      ]
     },
     "execution_count": 189,
     "metadata": {},
     "output_type": "execute_result"
    }
   ],
   "source": [
    "len(var_factors_F)"
   ]
  },
  {
   "cell_type": "code",
   "execution_count": 190,
   "id": "95129293-90d6-4c91-b8ac-adc5f644de62",
   "metadata": {},
   "outputs": [
    {
     "data": {
      "text/plain": [
       "[9.161399999999999,\n",
       " 9.47892,\n",
       " 9.70572,\n",
       " 9.932519999999998,\n",
       " 10.113960000000002,\n",
       " 10.25004,\n",
       " 10.38612,\n",
       " 10.5222,\n",
       " 10.658280000000001,\n",
       " 10.749,\n",
       " 10.83972]"
      ]
     },
     "execution_count": 190,
     "metadata": {},
     "output_type": "execute_result"
    }
   ],
   "source": [
    "pick_wue_F_list= [pick_wue_F(var_factor) for var_factor in var_factors_F]\n",
    "#pick_wue_F_list.reverse()\n",
    "pick_wue_F_list"
   ]
  },
  {
   "cell_type": "code",
   "execution_count": 191,
   "id": "552820b2-9f10-4284-b1c1-bb160b9bd3e7",
   "metadata": {},
   "outputs": [
    {
     "data": {
      "image/png": "[encoded data removed]",
      "text/plain": [
       "<Figure size 443.337x273.998 with 1 Axes>"
      ]
     },
     "metadata": {},
     "output_type": "display_data"
    }
   ],
   "source": [
    "plt.style.use(\"seaborn-ticks\")\n",
    "\n",
    "fig, ax1 = plt.subplots(1,1, figsize=set_size(445))\n",
    "\n",
    "ax1.plot(pick_amount_F, pick_wue_F_list)\n",
    "#ax1.plot(F_picking_amount, basket_profs_D)\n",
    "#ax1.plot(F_picking_amount, basket_profs_F)\n",
    "fig.tight_layout()\n",
    "plt.show()"
   ]
  },
  {
   "cell_type": "code",
   "execution_count": 116,
   "id": "40b8226f-30ba-4060-8da3-a8f909acde8e",
   "metadata": {},
   "outputs": [],
   "source": [
    "pick_amount_IS = list(range(40,160,10))"
   ]
  },
  {
   "cell_type": "code",
   "execution_count": 117,
   "id": "509e3020-ebf8-4581-9b5a-5729229ab654",
   "metadata": {},
   "outputs": [
    {
     "data": {
      "text/plain": [
       "[40, 50, 60, 70, 80, 90, 100, 110, 120, 130, 140, 150]"
      ]
     },
     "execution_count": 117,
     "metadata": {},
     "output_type": "execute_result"
    }
   ],
   "source": [
    "pick_amount_IS"
   ]
  },
  {
   "cell_type": "code",
   "execution_count": 118,
   "id": "936bd21d-93e5-4717-9775-da9bcc81f1b6",
   "metadata": {},
   "outputs": [],
   "source": [
    "var_factors_IS = [0.409, 0.335, 0.286, 0.25, 0.224, 0.203, 0.187, 0.173, 0.162, 0.152, 0.144, 0.137]"
   ]
  },
  {
   "cell_type": "code",
   "execution_count": 41,
   "id": "2cd8ce7b-31e8-4271-a0f1-13d553e64753",
   "metadata": {},
   "outputs": [
    {
     "data": {
      "text/plain": [
       "Customers_N                100.000\n",
       "Distance                154559.200\n",
       "Time                     40737.800\n",
       "Stops                      103.000\n",
       "Stops_h                      9.100\n",
       "FixedDC_Cost               480.000\n",
       "Trans_Cost                 223.973\n",
       "Variable_DC               1208.517\n",
       "Fixed_V                     67.500\n",
       "Total_Cost                1979.990\n",
       "Var_per_order               12.085\n",
       "Trans_per_order              2.240\n",
       "Transp_order_with_V          2.915\n",
       "FixedDC_per_order            4.800\n",
       "Total_Cost_per_order        19.799\n",
       "Items                     4543.300\n",
       "Cost_per_item                0.437\n",
       "dtype: float64"
      ]
     },
     "execution_count": 41,
     "metadata": {},
     "output_type": "execute_result"
    }
   ],
   "source": [
    "wue_IS_100 = pd.read_hdf(\"results/Wue_IS100/wue_IS_100_merged.h5\", \"wue_IS_100\")\n",
    "wue_IS_100.mean()"
   ]
  },
  {
   "cell_type": "code",
   "execution_count": 119,
   "id": "29de8cd9-7a48-421e-b6ea-46a5487388a7",
   "metadata": {},
   "outputs": [],
   "source": [
    "def pick_wue_IS(var_factor):\n",
    "    Customers = 100\n",
    "    Items = 4543\n",
    "    basket_size = (100/100) * 100\n",
    "    COGS = 80\n",
    "    Delivery_inc = (5/100)*100\n",
    "    marketing = (2/100)*100\n",
    "    cost_order_manipulation =  ((var_factor*Items)/Customers) + 2.915 +4.8  \n",
    "    cost_order = (cost_order_manipulation/100)*100\n",
    "    prof_picking = (basket_size - COGS - marketing - cost_order + Delivery_inc)\n",
    "    \n",
    "    return(prof_picking)"
   ]
  },
  {
   "cell_type": "code",
   "execution_count": 120,
   "id": "7112c4dc-7ddd-4e99-986c-2d77b1b1f63d",
   "metadata": {},
   "outputs": [
    {
     "data": {
      "text/plain": [
       "[-3.2958700000000007,\n",
       " 0.06594999999999729,\n",
       " 2.292020000000001,\n",
       " 3.9274999999999984,\n",
       " 5.10868,\n",
       " 6.062709999999999,\n",
       " 6.7895900000000005,\n",
       " 7.425609999999999,\n",
       " 7.9253399999999985,\n",
       " 8.379640000000002,\n",
       " 8.743079999999999,\n",
       " 9.061090000000002]"
      ]
     },
     "execution_count": 120,
     "metadata": {},
     "output_type": "execute_result"
    }
   ],
   "source": [
    "wue_IS_pick= [pick_wue_IS(var_factor) for var_factor in var_factors_IS]\n",
    "wue_IS_pick"
   ]
  },
  {
   "cell_type": "code",
   "execution_count": 121,
   "id": "5ea5db2a-777c-4a0f-9f41-37f5ed291e5c",
   "metadata": {},
   "outputs": [
    {
     "data": {
      "image/png": "[encoded data removed]",
      "text/plain": [
       "<Figure size 443.337x273.998 with 1 Axes>"
      ]
     },
     "metadata": {},
     "output_type": "display_data"
    }
   ],
   "source": [
    "plt.style.use(\"seaborn-ticks\")\n",
    "\n",
    "fig, ax1 = plt.subplots(1,1, figsize=set_size(445))\n",
    "\n",
    "ax1.plot(pick_amount_F, pick_wue_F_list)\n",
    "ax1.plot(pick_amount_IS, wue_IS_pick)\n",
    "#ax1.plot(F_picking_amount, basket_profs_F)\n",
    "fig.tight_layout()\n",
    "plt.show()"
   ]
  },
  {
   "cell_type": "code",
   "execution_count": 47,
   "id": "10235864-dadf-49c5-b091-c1e6a2ab0245",
   "metadata": {},
   "outputs": [
    {
     "data": {
      "text/plain": [
       "Customers_N                100.000\n",
       "Distance                213952.400\n",
       "Time                     44029.600\n",
       "Stops                      103.300\n",
       "Stops_h                      8.460\n",
       "FixedDC_Cost               480.000\n",
       "Trans_Cost                 250.512\n",
       "Variable_DC                662.270\n",
       "Fixed_V                     74.250\n",
       "Total_Cost                1467.032\n",
       "Var_per_order                6.622\n",
       "Trans_per_order              2.506\n",
       "Transp_order_with_V          3.248\n",
       "FixedDC_per_order            4.800\n",
       "Total_Cost_per_order        14.670\n",
       "Items                     4536.100\n",
       "Cost_per_item                0.325\n",
       "dtype: float64"
      ]
     },
     "execution_count": 47,
     "metadata": {},
     "output_type": "execute_result"
    }
   ],
   "source": [
    "wue_D_100 =  pd.read_hdf(\"results/Wue_D100/wue_D_100_merged.h5\", \"wue_D_100\")\n",
    "wue_D_avg = wue_D_100.mean()\n",
    "wue_D_avg"
   ]
  },
  {
   "cell_type": "code",
   "execution_count": 176,
   "id": "cd79ae1b-072a-4abb-89f1-f9841dfdd25a",
   "metadata": {},
   "outputs": [
    {
     "data": {
      "text/plain": [
       "8"
      ]
     },
     "execution_count": 176,
     "metadata": {},
     "output_type": "execute_result"
    }
   ],
   "source": [
    "D_pick_amount = list(range(100, 220, 15))\n",
    "len(D_pick_amount)"
   ]
  },
  {
   "cell_type": "code",
   "execution_count": 177,
   "id": "f9481876-c6fa-497b-a004-3af2db04d971",
   "metadata": {},
   "outputs": [
    {
     "data": {
      "text/plain": [
       "[100, 115, 130, 145, 160, 175, 190, 205]"
      ]
     },
     "execution_count": 177,
     "metadata": {},
     "output_type": "execute_result"
    }
   ],
   "source": [
    "D_pick_amount"
   ]
  },
  {
   "cell_type": "code",
   "execution_count": 178,
   "id": "5c0626c0-67cd-46f5-a865-6cd9d48669e8",
   "metadata": {},
   "outputs": [],
   "source": [
    "var_factors_D = [0.176, 0.156, 0.141, 0.13, 0.12, 0.112, 0.105, 0.099]"
   ]
  },
  {
   "cell_type": "code",
   "execution_count": 179,
   "id": "5a93146b-01ad-44da-93f4-beac02890570",
   "metadata": {},
   "outputs": [],
   "source": [
    "def pick_wue_D(var_factor):\n",
    "    Customers = 100\n",
    "    Items = 4543\n",
    "    basket_size = (100/100) * 100\n",
    "    COGS = 80\n",
    "    Delivery_inc = (5/100)*100\n",
    "    marketing = (2/100)*100\n",
    "    cost_order_manipulation =  ((var_factor*Items)/Customers) + 3.248 +4.8  \n",
    "    cost_order = (cost_order_manipulation/100)*100\n",
    "    prof_picking = (basket_size - COGS - marketing - cost_order + Delivery_inc)\n",
    "    \n",
    "    return(prof_picking)"
   ]
  },
  {
   "cell_type": "code",
   "execution_count": 180,
   "id": "214fb1ac-524a-426a-9e4a-13d4f1a7ab65",
   "metadata": {},
   "outputs": [
    {
     "data": {
      "text/plain": [
       "[6.956319999999998,\n",
       " 7.8649200000000015,\n",
       " 8.54637,\n",
       " 9.046100000000001,\n",
       " 9.500399999999999,\n",
       " 9.86384,\n",
       " 10.181849999999999,\n",
       " 10.45443]"
      ]
     },
     "execution_count": 180,
     "metadata": {},
     "output_type": "execute_result"
    }
   ],
   "source": [
    "wue_D_pick= [pick_wue_D(var_factor) for var_factor in var_factors_D]\n",
    "wue_D_pick"
   ]
  },
  {
   "cell_type": "code",
   "execution_count": 181,
   "id": "2e946f17-1f4b-4674-98d4-38257101b53f",
   "metadata": {},
   "outputs": [
    {
     "data": {
      "image/png": "[encoded data removed]",
      "text/plain": [
       "<Figure size 443.337x273.998 with 1 Axes>"
      ]
     },
     "metadata": {},
     "output_type": "display_data"
    }
   ],
   "source": [
    "plt.style.use(\"seaborn-ticks\")\n",
    "\n",
    "fig, ax1 = plt.subplots(1,1, figsize=set_size(445))\n",
    "\n",
    "ax1.plot(pick_amount_F, pick_wue_F_list)\n",
    "ax1.plot(pick_amount_IS, wue_IS_pick)\n",
    "ax1.plot(D_pick_amount, wue_D_pick)\n",
    "fig.tight_layout()\n",
    "plt.show()"
   ]
  },
  {
   "cell_type": "code",
   "execution_count": 182,
   "id": "b05de294-fa20-4adc-ab80-95e5545c1e5c",
   "metadata": {},
   "outputs": [
    {
     "data": {
      "image/png": "[encoded data removed]",
      "text/plain": [
       "<Figure size 443.337x273.998 with 2 Axes>"
      ]
     },
     "metadata": {},
     "output_type": "display_data"
    }
   ],
   "source": [
    "plt.style.use(\"seaborn-ticks\")\n",
    "\n",
    "fig, (ax1,ax2) = plt.subplots(1,2, figsize=set_size(445))\n",
    "\n",
    "ax1.plot(pick_amount_IS, wue_IS_pick, label=\"In Store\", color=\"#207720\")\n",
    "ax1.plot(D_pick_amount, wue_D_pick, label = \"Darkstore\", color=\"#234990\")\n",
    "ax1.plot(pick_amount_F, pick_wue_F_list, label= \"FC\", color = \"#E23726\")\n",
    "\n",
    "loc =plticker.MultipleLocator(base=60)\n",
    "ax1.xaxis.set_major_locator(loc)\n",
    "\n",
    "ax1.set_ylabel(\"\\\\textbf{Margin \\%}\")\n",
    "fig.supxlabel(\"\\\\textbf{Items/hour}\", y = 0.05, fontsize=12)\n",
    "ax1.yaxis.grid(True)\n",
    "\n",
    "handles, labels = ax1.get_legend_handles_labels()\n",
    "fig.legend(handles, labels, loc='lower left', frameon=True,\n",
    "           fancybox=True, ncol=1, borderpad=0.1, labelspacing = 0.2, borderaxespad=0.1)\n",
    "\n",
    "fig.tight_layout()\n",
    "plt.show()"
   ]
  },
  {
   "cell_type": "code",
   "execution_count": 136,
   "id": "5d09f870-0d31-4610-8b9a-b57e189aa802",
   "metadata": {},
   "outputs": [
    {
     "data": {
      "text/html": [
       "<div>\n",
       "<style scoped>\n",
       "    .dataframe tbody tr th:only-of-type {\n",
       "        vertical-align: middle;\n",
       "    }\n",
       "\n",
       "    .dataframe tbody tr th {\n",
       "        vertical-align: top;\n",
       "    }\n",
       "\n",
       "    .dataframe thead th {\n",
       "        text-align: right;\n",
       "    }\n",
       "</style>\n",
       "<table border=\"1\" class=\"dataframe\">\n",
       "  <thead>\n",
       "    <tr style=\"text-align: right;\">\n",
       "      <th></th>\n",
       "      <th>Customers_N</th>\n",
       "      <th>Distance</th>\n",
       "      <th>Time</th>\n",
       "      <th>Stops</th>\n",
       "      <th>Stops_h</th>\n",
       "      <th>FixedDC_Cost</th>\n",
       "      <th>Trans_Cost</th>\n",
       "      <th>Variable_DC</th>\n",
       "      <th>Fixed_V</th>\n",
       "      <th>Total_Cost</th>\n",
       "      <th>Var_per_order</th>\n",
       "      <th>Trans_per_order</th>\n",
       "      <th>Transp_order_with_V</th>\n",
       "      <th>FixedDC_per_order</th>\n",
       "      <th>Total_Cost_per_order</th>\n",
       "      <th>Items</th>\n",
       "      <th>Cost_per_item</th>\n",
       "      <th>City</th>\n",
       "      <th>Scenario</th>\n",
       "    </tr>\n",
       "  </thead>\n",
       "  <tbody>\n",
       "    <tr>\n",
       "      <th>20</th>\n",
       "      <td>100</td>\n",
       "      <td>143108.00</td>\n",
       "      <td>37456.00</td>\n",
       "      <td>103.000000</td>\n",
       "      <td>9.9</td>\n",
       "      <td>560</td>\n",
       "      <td>206.11</td>\n",
       "      <td>391.90</td>\n",
       "      <td>67.500000</td>\n",
       "      <td>1225.51</td>\n",
       "      <td>3.92</td>\n",
       "      <td>2.06</td>\n",
       "      <td>2.74</td>\n",
       "      <td>5.6</td>\n",
       "      <td>12.26</td>\n",
       "      <td>4557.0</td>\n",
       "      <td>0.27</td>\n",
       "      <td>Albstadt</td>\n",
       "      <td>Fulfillment_Centre</td>\n",
       "    </tr>\n",
       "    <tr>\n",
       "      <th>21</th>\n",
       "      <td>100</td>\n",
       "      <td>155763.87</td>\n",
       "      <td>38270.97</td>\n",
       "      <td>102.999928</td>\n",
       "      <td>9.7</td>\n",
       "      <td>560</td>\n",
       "      <td>212.31</td>\n",
       "      <td>376.59</td>\n",
       "      <td>67.499939</td>\n",
       "      <td>1216.40</td>\n",
       "      <td>3.77</td>\n",
       "      <td>2.12</td>\n",
       "      <td>2.80</td>\n",
       "      <td>5.6</td>\n",
       "      <td>12.16</td>\n",
       "      <td>4379.0</td>\n",
       "      <td>0.28</td>\n",
       "      <td>Albstadt</td>\n",
       "      <td>Fulfillment_Centre</td>\n",
       "    </tr>\n",
       "    <tr>\n",
       "      <th>22</th>\n",
       "      <td>100</td>\n",
       "      <td>159333.00</td>\n",
       "      <td>38827.00</td>\n",
       "      <td>104.000000</td>\n",
       "      <td>9.6</td>\n",
       "      <td>560</td>\n",
       "      <td>215.63</td>\n",
       "      <td>390.44</td>\n",
       "      <td>90.000000</td>\n",
       "      <td>1256.07</td>\n",
       "      <td>3.90</td>\n",
       "      <td>2.16</td>\n",
       "      <td>3.06</td>\n",
       "      <td>5.6</td>\n",
       "      <td>12.56</td>\n",
       "      <td>4540.0</td>\n",
       "      <td>0.28</td>\n",
       "      <td>Albstadt</td>\n",
       "      <td>Fulfillment_Centre</td>\n",
       "    </tr>\n",
       "    <tr>\n",
       "      <th>23</th>\n",
       "      <td>100</td>\n",
       "      <td>175066.00</td>\n",
       "      <td>40188.00</td>\n",
       "      <td>104.000000</td>\n",
       "      <td>9.3</td>\n",
       "      <td>560</td>\n",
       "      <td>225.02</td>\n",
       "      <td>407.38</td>\n",
       "      <td>90.000000</td>\n",
       "      <td>1282.40</td>\n",
       "      <td>4.07</td>\n",
       "      <td>2.25</td>\n",
       "      <td>3.15</td>\n",
       "      <td>5.6</td>\n",
       "      <td>12.82</td>\n",
       "      <td>4737.0</td>\n",
       "      <td>0.27</td>\n",
       "      <td>Albstadt</td>\n",
       "      <td>Fulfillment_Centre</td>\n",
       "    </tr>\n",
       "    <tr>\n",
       "      <th>24</th>\n",
       "      <td>100</td>\n",
       "      <td>143774.00</td>\n",
       "      <td>36896.00</td>\n",
       "      <td>103.000000</td>\n",
       "      <td>10.0</td>\n",
       "      <td>560</td>\n",
       "      <td>203.53</td>\n",
       "      <td>394.83</td>\n",
       "      <td>67.500000</td>\n",
       "      <td>1225.86</td>\n",
       "      <td>3.95</td>\n",
       "      <td>2.04</td>\n",
       "      <td>2.71</td>\n",
       "      <td>5.6</td>\n",
       "      <td>12.26</td>\n",
       "      <td>4591.0</td>\n",
       "      <td>0.27</td>\n",
       "      <td>Albstadt</td>\n",
       "      <td>Fulfillment_Centre</td>\n",
       "    </tr>\n",
       "    <tr>\n",
       "      <th>25</th>\n",
       "      <td>100</td>\n",
       "      <td>170925.00</td>\n",
       "      <td>39032.00</td>\n",
       "      <td>104.000000</td>\n",
       "      <td>9.6</td>\n",
       "      <td>560</td>\n",
       "      <td>218.71</td>\n",
       "      <td>405.06</td>\n",
       "      <td>90.000000</td>\n",
       "      <td>1273.77</td>\n",
       "      <td>4.05</td>\n",
       "      <td>2.19</td>\n",
       "      <td>3.09</td>\n",
       "      <td>5.6</td>\n",
       "      <td>12.74</td>\n",
       "      <td>4710.0</td>\n",
       "      <td>0.27</td>\n",
       "      <td>Albstadt</td>\n",
       "      <td>Fulfillment_Centre</td>\n",
       "    </tr>\n",
       "    <tr>\n",
       "      <th>26</th>\n",
       "      <td>100</td>\n",
       "      <td>176251.00</td>\n",
       "      <td>40054.00</td>\n",
       "      <td>104.000000</td>\n",
       "      <td>9.3</td>\n",
       "      <td>560</td>\n",
       "      <td>224.59</td>\n",
       "      <td>379.00</td>\n",
       "      <td>90.000000</td>\n",
       "      <td>1253.59</td>\n",
       "      <td>3.79</td>\n",
       "      <td>2.25</td>\n",
       "      <td>3.15</td>\n",
       "      <td>5.6</td>\n",
       "      <td>12.54</td>\n",
       "      <td>4407.0</td>\n",
       "      <td>0.28</td>\n",
       "      <td>Albstadt</td>\n",
       "      <td>Fulfillment_Centre</td>\n",
       "    </tr>\n",
       "    <tr>\n",
       "      <th>27</th>\n",
       "      <td>100</td>\n",
       "      <td>195801.00</td>\n",
       "      <td>40952.00</td>\n",
       "      <td>104.000000</td>\n",
       "      <td>9.1</td>\n",
       "      <td>560</td>\n",
       "      <td>232.42</td>\n",
       "      <td>370.75</td>\n",
       "      <td>90.000000</td>\n",
       "      <td>1253.17</td>\n",
       "      <td>3.71</td>\n",
       "      <td>2.32</td>\n",
       "      <td>3.22</td>\n",
       "      <td>5.6</td>\n",
       "      <td>12.53</td>\n",
       "      <td>4311.0</td>\n",
       "      <td>0.29</td>\n",
       "      <td>Albstadt</td>\n",
       "      <td>Fulfillment_Centre</td>\n",
       "    </tr>\n",
       "    <tr>\n",
       "      <th>28</th>\n",
       "      <td>100</td>\n",
       "      <td>160514.00</td>\n",
       "      <td>39207.00</td>\n",
       "      <td>104.000000</td>\n",
       "      <td>9.5</td>\n",
       "      <td>560</td>\n",
       "      <td>217.67</td>\n",
       "      <td>398.95</td>\n",
       "      <td>90.000000</td>\n",
       "      <td>1266.62</td>\n",
       "      <td>3.99</td>\n",
       "      <td>2.18</td>\n",
       "      <td>3.08</td>\n",
       "      <td>5.6</td>\n",
       "      <td>12.67</td>\n",
       "      <td>4639.0</td>\n",
       "      <td>0.27</td>\n",
       "      <td>Albstadt</td>\n",
       "      <td>Fulfillment_Centre</td>\n",
       "    </tr>\n",
       "    <tr>\n",
       "      <th>29</th>\n",
       "      <td>100</td>\n",
       "      <td>171211.99</td>\n",
       "      <td>39180.00</td>\n",
       "      <td>102.999999</td>\n",
       "      <td>9.5</td>\n",
       "      <td>560</td>\n",
       "      <td>219.47</td>\n",
       "      <td>386.14</td>\n",
       "      <td>67.499979</td>\n",
       "      <td>1233.11</td>\n",
       "      <td>3.86</td>\n",
       "      <td>2.19</td>\n",
       "      <td>2.87</td>\n",
       "      <td>5.6</td>\n",
       "      <td>12.33</td>\n",
       "      <td>4490.0</td>\n",
       "      <td>0.27</td>\n",
       "      <td>Albstadt</td>\n",
       "      <td>Fulfillment_Centre</td>\n",
       "    </tr>\n",
       "  </tbody>\n",
       "</table>\n",
       "</div>"
      ],
      "text/plain": [
       "    Customers_N   Distance      Time       Stops  Stops_h  FixedDC_Cost  \\\n",
       "20          100  143108.00  37456.00  103.000000      9.9           560   \n",
       "21          100  155763.87  38270.97  102.999928      9.7           560   \n",
       "22          100  159333.00  38827.00  104.000000      9.6           560   \n",
       "23          100  175066.00  40188.00  104.000000      9.3           560   \n",
       "24          100  143774.00  36896.00  103.000000     10.0           560   \n",
       "25          100  170925.00  39032.00  104.000000      9.6           560   \n",
       "26          100  176251.00  40054.00  104.000000      9.3           560   \n",
       "27          100  195801.00  40952.00  104.000000      9.1           560   \n",
       "28          100  160514.00  39207.00  104.000000      9.5           560   \n",
       "29          100  171211.99  39180.00  102.999999      9.5           560   \n",
       "\n",
       "    Trans_Cost  Variable_DC    Fixed_V  Total_Cost  Var_per_order  \\\n",
       "20      206.11       391.90  67.500000     1225.51           3.92   \n",
       "21      212.31       376.59  67.499939     1216.40           3.77   \n",
       "22      215.63       390.44  90.000000     1256.07           3.90   \n",
       "23      225.02       407.38  90.000000     1282.40           4.07   \n",
       "24      203.53       394.83  67.500000     1225.86           3.95   \n",
       "25      218.71       405.06  90.000000     1273.77           4.05   \n",
       "26      224.59       379.00  90.000000     1253.59           3.79   \n",
       "27      232.42       370.75  90.000000     1253.17           3.71   \n",
       "28      217.67       398.95  90.000000     1266.62           3.99   \n",
       "29      219.47       386.14  67.499979     1233.11           3.86   \n",
       "\n",
       "    Trans_per_order  Transp_order_with_V  FixedDC_per_order  \\\n",
       "20             2.06                 2.74                5.6   \n",
       "21             2.12                 2.80                5.6   \n",
       "22             2.16                 3.06                5.6   \n",
       "23             2.25                 3.15                5.6   \n",
       "24             2.04                 2.71                5.6   \n",
       "25             2.19                 3.09                5.6   \n",
       "26             2.25                 3.15                5.6   \n",
       "27             2.32                 3.22                5.6   \n",
       "28             2.18                 3.08                5.6   \n",
       "29             2.19                 2.87                5.6   \n",
       "\n",
       "    Total_Cost_per_order   Items  Cost_per_item      City            Scenario  \n",
       "20                 12.26  4557.0           0.27  Albstadt  Fulfillment_Centre  \n",
       "21                 12.16  4379.0           0.28  Albstadt  Fulfillment_Centre  \n",
       "22                 12.56  4540.0           0.28  Albstadt  Fulfillment_Centre  \n",
       "23                 12.82  4737.0           0.27  Albstadt  Fulfillment_Centre  \n",
       "24                 12.26  4591.0           0.27  Albstadt  Fulfillment_Centre  \n",
       "25                 12.74  4710.0           0.27  Albstadt  Fulfillment_Centre  \n",
       "26                 12.54  4407.0           0.28  Albstadt  Fulfillment_Centre  \n",
       "27                 12.53  4311.0           0.29  Albstadt  Fulfillment_Centre  \n",
       "28                 12.67  4639.0           0.27  Albstadt  Fulfillment_Centre  \n",
       "29                 12.33  4490.0           0.27  Albstadt  Fulfillment_Centre  "
      ]
     },
     "execution_count": 136,
     "metadata": {},
     "output_type": "execute_result"
    }
   ],
   "source": [
    "alb_F=  pd.read_hdf(\"alb_F_merged.h5\", \"alb_F\")\n",
    "alb_F100 = alb_F[alb_F[\"Customers_N\"] == 100]\n",
    "alb_F100"
   ]
  },
  {
   "cell_type": "code",
   "execution_count": 137,
   "id": "82db1c0d-8bb4-4e8e-b251-3f6d98c9f405",
   "metadata": {},
   "outputs": [
    {
     "data": {
      "text/plain": [
       "Customers_N                100.000000\n",
       "Distance                165174.786000\n",
       "Time                     39006.297000\n",
       "Stops                      103.599993\n",
       "Stops_h                      9.550000\n",
       "FixedDC_Cost               560.000000\n",
       "Trans_Cost                 217.546000\n",
       "Variable_DC                390.104000\n",
       "Fixed_V                     80.999992\n",
       "Total_Cost                1248.650000\n",
       "Var_per_order                3.901000\n",
       "Trans_per_order              2.176000\n",
       "Transp_order_with_V          2.987000\n",
       "FixedDC_per_order            5.600000\n",
       "Total_Cost_per_order        12.487000\n",
       "Items                     4536.100000\n",
       "Cost_per_item                0.275000\n",
       "dtype: float64"
      ]
     },
     "execution_count": 137,
     "metadata": {},
     "output_type": "execute_result"
    }
   ],
   "source": [
    "alb_F100.mean()"
   ]
  },
  {
   "cell_type": "code",
   "execution_count": 192,
   "id": "9a388011-b6e4-4242-8054-9810b5fcf18e",
   "metadata": {},
   "outputs": [],
   "source": [
    "def pick_alb_F(var_factor):\n",
    "    Customers = 100\n",
    "    Items = 4536\n",
    "    basket_size = (100/100) * 100\n",
    "    COGS = 80\n",
    "    Delivery_inc = (5/100)*100\n",
    "    marketing = (2/100)*100\n",
    "    cost_order_manipulation =  ((var_factor*Items)/Customers) + 2.987 + 5.6  \n",
    "    cost_order = (cost_order_manipulation/100)*100\n",
    "    prof_picking = (basket_size - COGS - marketing - cost_order + Delivery_inc)\n",
    "    \n",
    "    return(prof_picking)"
   ]
  },
  {
   "cell_type": "code",
   "execution_count": 193,
   "id": "e2621b5c-6963-4561-92d1-e597a778a028",
   "metadata": {},
   "outputs": [
    {
     "data": {
      "text/plain": [
       "[9.4234,\n",
       " 9.740920000000003,\n",
       " 9.967720000000002,\n",
       " 10.19452,\n",
       " 10.37596,\n",
       " 10.51204,\n",
       " 10.64812,\n",
       " 10.7842,\n",
       " 10.92028,\n",
       " 11.011000000000001,\n",
       " 11.10172]"
      ]
     },
     "execution_count": 193,
     "metadata": {},
     "output_type": "execute_result"
    }
   ],
   "source": [
    "alb_F_pick = [pick_alb_F(var_factor) for var_factor in var_factors_F]\n",
    "\n",
    "alb_F_pick "
   ]
  },
  {
   "cell_type": "code",
   "execution_count": 140,
   "id": "c26ce589-49af-427d-8523-be802c300993",
   "metadata": {},
   "outputs": [
    {
     "data": {
      "image/png": "[encoded data removed]",
      "text/plain": [
       "<Figure size 443.337x273.998 with 2 Axes>"
      ]
     },
     "metadata": {},
     "output_type": "display_data"
    }
   ],
   "source": [
    "plt.style.use(\"seaborn-ticks\")\n",
    "\n",
    "fig, (ax1,ax2) = plt.subplots(1,2, figsize=set_size(445))\n",
    "\n",
    "ax1.plot(pick_amount_IS, wue_IS_pick, label=\"In Store\", color=\"#207720\")\n",
    "ax1.plot(D_pick_amount, wue_D_pick, label = \"Darkstore\", color=\"#234990\")\n",
    "ax1.plot(pick_amount_F, pick_wue_F_list, label= \"FC\", color = \"#E23726\")\n",
    "\n",
    "ax2.plot(pick_amount_F, alb_F_pick)\n",
    "\n",
    "loc =plticker.MultipleLocator(base=60)\n",
    "ax1.xaxis.set_major_locator(loc)\n",
    "\n",
    "ax1.set_ylabel(\"\\\\textbf{Margin \\%}\")\n",
    "fig.supxlabel(\"\\\\textbf{Items/hour}\", y = 0.05, fontsize=12)\n",
    "ax1.yaxis.grid(True)\n",
    "\n",
    "handles, labels = ax1.get_legend_handles_labels()\n",
    "fig.legend(handles, labels, loc='lower left', frameon=True,\n",
    "           fancybox=True, ncol=1, borderpad=0.1, labelspacing = 0.2, borderaxespad=0.1)\n",
    "\n",
    "fig.tight_layout()\n",
    "plt.show()"
   ]
  },
  {
   "cell_type": "code",
   "execution_count": 141,
   "id": "c47b63a2-e3cf-4e77-8c73-447689bcf80e",
   "metadata": {},
   "outputs": [],
   "source": [
    "alb_IS_100 = pd.read_hdf(\"results/Alb_IS100/alb_IS_100_merged.h5\", \"alb_IS_100\")\n",
    "alb_D_100 =  pd.read_hdf(\"results/Alb_D100/alb_D_100_merged.h5\", \"alb_D_100\")"
   ]
  },
  {
   "cell_type": "code",
   "execution_count": 142,
   "id": "adae0148-e970-42ec-b0fb-77c5ae6256a7",
   "metadata": {},
   "outputs": [
    {
     "data": {
      "text/plain": [
       "Customers_N                100.000\n",
       "Distance                131673.400\n",
       "Time                     36791.500\n",
       "Stops                      103.000\n",
       "Stops_h                     10.080\n",
       "FixedDC_Cost               480.000\n",
       "Trans_Cost                 200.853\n",
       "Variable_DC               1205.113\n",
       "Fixed_V                     67.500\n",
       "Total_Cost                1953.466\n",
       "Var_per_order               12.051\n",
       "Trans_per_order              2.011\n",
       "Transp_order_with_V          2.683\n",
       "FixedDC_per_order            4.800\n",
       "Total_Cost_per_order        19.533\n",
       "Items                     4530.500\n",
       "Cost_per_item                0.431\n",
       "dtype: float64"
      ]
     },
     "execution_count": 142,
     "metadata": {},
     "output_type": "execute_result"
    }
   ],
   "source": [
    "alb_IS_100.mean()"
   ]
  },
  {
   "cell_type": "code",
   "execution_count": 143,
   "id": "0bfe7f21-dfeb-47d8-a220-17ee053cf6f9",
   "metadata": {},
   "outputs": [],
   "source": [
    "def pick_alb_IS(var_factor):\n",
    "    Customers = 100\n",
    "    Items = 4530\n",
    "    basket_size = (100/100) * 100\n",
    "    COGS = 80\n",
    "    Delivery_inc = (5/100)*100\n",
    "    marketing = (2/100)*100\n",
    "    cost_order_manipulation =  ((var_factor*Items)/Customers) + 2.683 +4.8  \n",
    "    cost_order = (cost_order_manipulation/100)*100\n",
    "    prof_picking = (basket_size - COGS - marketing - cost_order + Delivery_inc)\n",
    "    \n",
    "    return(prof_picking)"
   ]
  },
  {
   "cell_type": "code",
   "execution_count": 144,
   "id": "37ddf47d-745a-4105-b8de-bdc8f0efbc65",
   "metadata": {},
   "outputs": [
    {
     "data": {
      "text/plain": [
       "[-3.0106999999999964,\n",
       " 0.3414999999999999,\n",
       " 2.5611999999999995,\n",
       " 4.192,\n",
       " 5.3698000000000015,\n",
       " 6.321100000000001,\n",
       " 7.045899999999998,\n",
       " 7.6800999999999995,\n",
       " 8.178399999999998,\n",
       " 8.6314,\n",
       " 8.9938,\n",
       " 9.310900000000002]"
      ]
     },
     "execution_count": 144,
     "metadata": {},
     "output_type": "execute_result"
    }
   ],
   "source": [
    "alb_IS_pick = [pick_alb_IS(var_factor) for var_factor in var_factors_IS]\n",
    "\n",
    "alb_IS_pick "
   ]
  },
  {
   "cell_type": "code",
   "execution_count": 145,
   "id": "40058159-bd40-4a29-8821-bcb9376a4335",
   "metadata": {},
   "outputs": [
    {
     "data": {
      "image/png": "[encoded data removed]",
      "text/plain": [
       "<Figure size 443.337x273.998 with 2 Axes>"
      ]
     },
     "metadata": {},
     "output_type": "display_data"
    }
   ],
   "source": [
    "plt.style.use(\"seaborn-ticks\")\n",
    "\n",
    "fig, (ax1,ax2) = plt.subplots(1,2, figsize=set_size(445))\n",
    "\n",
    "ax1.plot(pick_amount_IS, wue_IS_pick, label=\"In Store\", color=\"#207720\")\n",
    "ax1.plot(D_pick_amount, wue_D_pick, label = \"Darkstore\", color=\"#234990\")\n",
    "ax1.plot(pick_amount_F, pick_wue_F_list, label= \"FC\", color = \"#E23726\")\n",
    "\n",
    "ax2.plot(pick_amount_F, alb_F_pick)\n",
    "ax2.plot(pick_amount_IS, alb_IS_pick)\n",
    "\n",
    "loc =plticker.MultipleLocator(base=60)\n",
    "ax1.xaxis.set_major_locator(loc)\n",
    "\n",
    "ax1.set_ylabel(\"\\\\textbf{Margin \\%}\")\n",
    "fig.supxlabel(\"\\\\textbf{Items/hour}\", y = 0.05, fontsize=12)\n",
    "ax1.yaxis.grid(True)\n",
    "\n",
    "handles, labels = ax1.get_legend_handles_labels()\n",
    "fig.legend(handles, labels, loc='lower left', frameon=True,\n",
    "           fancybox=True, ncol=1, borderpad=0.1, labelspacing = 0.2, borderaxespad=0.1)\n",
    "\n",
    "fig.tight_layout()\n",
    "plt.show()"
   ]
  },
  {
   "cell_type": "code",
   "execution_count": 146,
   "id": "ed24a92b-4693-4539-86a7-5585a519e55b",
   "metadata": {},
   "outputs": [
    {
     "data": {
      "text/plain": [
       "Customers_N                100.000000\n",
       "Distance                150439.582000\n",
       "Time                     37959.296000\n",
       "Stops                      102.999989\n",
       "Stops_h                      9.780000\n",
       "FixedDC_Cost               480.000000\n",
       "Trans_Cost                 209.853000\n",
       "Variable_DC                662.270000\n",
       "Fixed_V                     67.499991\n",
       "Total_Cost                1419.623000\n",
       "Var_per_order                6.622000\n",
       "Trans_per_order              2.099000\n",
       "Transp_order_with_V          2.773000\n",
       "FixedDC_per_order            4.800000\n",
       "Total_Cost_per_order        14.196000\n",
       "Items                     4536.100000\n",
       "Cost_per_item                0.314000\n",
       "dtype: float64"
      ]
     },
     "execution_count": 146,
     "metadata": {},
     "output_type": "execute_result"
    }
   ],
   "source": [
    "alb_D_100.mean()"
   ]
  },
  {
   "cell_type": "code",
   "execution_count": 183,
   "id": "5121a6d5-bdbc-4f45-8be4-76c21c239e58",
   "metadata": {},
   "outputs": [],
   "source": [
    "def pick_alb_D(var_factor):\n",
    "    Customers = 100\n",
    "    Items = 4536\n",
    "    basket_size = (100/100) * 100\n",
    "    COGS = 80\n",
    "    Delivery_inc = (5/100)*100\n",
    "    marketing = (2/100)*100\n",
    "    cost_order_manipulation =  ((var_factor*Items)/Customers) + 2.773 +4.8  \n",
    "    cost_order = (cost_order_manipulation/100)*100\n",
    "    prof_picking = (basket_size - COGS - marketing - cost_order + Delivery_inc)\n",
    "    \n",
    "    return(prof_picking)"
   ]
  },
  {
   "cell_type": "code",
   "execution_count": 184,
   "id": "a66c18c2-f9f1-4dfd-94bb-6a80d5f44820",
   "metadata": {},
   "outputs": [
    {
     "data": {
      "text/plain": [
       "[7.443640000000004,\n",
       " 8.350840000000003,\n",
       " 9.03124,\n",
       " 9.5302,\n",
       " 9.983800000000002,\n",
       " 10.34668,\n",
       " 10.664200000000001,\n",
       " 10.93636]"
      ]
     },
     "execution_count": 184,
     "metadata": {},
     "output_type": "execute_result"
    }
   ],
   "source": [
    "alb_D_pick = [pick_alb_D(var_factor) for var_factor in var_factors_D]\n",
    "\n",
    "alb_D_pick "
   ]
  },
  {
   "cell_type": "code",
   "execution_count": 200,
   "id": "7f3b3bdb-9e93-4cd6-ad73-d242896227df",
   "metadata": {},
   "outputs": [
    {
     "data": {
      "image/png": "[encoded data removed]",
      "text/plain": [
       "<Figure size 443.337x273.998 with 2 Axes>"
      ]
     },
     "metadata": {},
     "output_type": "display_data"
    }
   ],
   "source": [
    "plt.style.use(\"seaborn-ticks\")\n",
    "\n",
    "fig, (ax1,ax2) = plt.subplots(1,2, figsize=set_size(445))\n",
    "\n",
    "ax1.set_title(\"\\\\textbf{Albstadt}\", fontsize=14)\n",
    "ax2.set_title(\"\\\\textbf{Würzburg}\", fontsize=14)\n",
    "ax1.set_ylabel(\"\\\\textbf{Margin \\%}\")\n",
    "fig.supxlabel(\"\\\\textbf{Picking Rate per hour}\", y = 0.05, fontsize=12)\n",
    "\n",
    "\n",
    "ax1.plot(pick_amount_IS, alb_IS_pick, label=\"In Store\", color=\"#207720\")\n",
    "ax1.plot(D_pick_amount, alb_D_pick, label = \"Darkstore\", color=\"#234990\")\n",
    "ax1.plot(pick_amount_F, alb_F_pick, label= \"FC\", color = \"#E23726\")\n",
    "\n",
    "ax2.plot(pick_amount_IS, wue_IS_pick, label=\"In Store\", color=\"#207720\")\n",
    "ax2.plot(D_pick_amount, wue_D_pick, label = \"Darkstore\", color=\"#234990\")\n",
    "ax2.plot(pick_amount_F, pick_wue_F_list, label= \"FC\", color = \"#E23726\")\n",
    "\n",
    "\n",
    "\n",
    "ax1.set_ylim(ymax = 12, ymin =-3.8)\n",
    "ax2.set_ylim(ymax=12, ymin=-3.8)\n",
    "\n",
    "ax1.set_xlim(xmax = 420, xmin =20)\n",
    "ax2.set_xlim(xmax=420, xmin=20)\n",
    "\n",
    "ax1.axhline(y=0,xmin=0,xmax=420,c=\"black\",linewidth=1.3,zorder=0)\n",
    "ax2.axhline(y=0,xmin=0,xmax=420,c=\"black\",linewidth=1.3,zorder=0)\n",
    "\n",
    "loc =plticker.MultipleLocator(base=60)\n",
    "ax1.xaxis.set_major_locator(loc)\n",
    "\n",
    "ax2.xaxis.set_major_locator(loc)\n",
    "\n",
    "\n",
    "ax1.set_yticks([-2.5, 0, 2.5, 5, 7.5, 10],[\"$-2.5\\%$\", \"$0\\%$\", \n",
    "                    \"$2.5\\%$\", \"$5\\%$\", \"$7.5\\%$\",\"$10\\%$\" ], rotation=0)\n",
    "ax2.set_yticks([-2.5, 0, 2.5, 5, 7.5, 10],[\"$-2.5\\%$\", \"$0\\%$\", \n",
    "                    \"$2.5\\%$\", \"$5\\%$\", \"$7.5\\%$\",\"$10\\%$\" ], rotation=0)\n",
    "\n",
    "ax1.yaxis.grid(True)\n",
    "ax2.yaxis.grid(True)\n",
    "\n",
    "handles, labels = ax1.get_legend_handles_labels()\n",
    "fig.legend(handles, labels, loc='lower left', frameon=True,\n",
    "           fancybox=True, ncol=1, borderpad=0.1, labelspacing = 0.2, borderaxespad=0.1)\n",
    "\n",
    "fig.tight_layout()\n",
    "plt.show()\n",
    "fig.savefig(\"result_graph/pick_rates.svg\", format=\"svg\")"
   ]
  },
  {
   "cell_type": "code",
   "execution_count": null,
   "id": "6234cd1d-40c5-471f-92aa-10f3ad853d1d",
   "metadata": {},
   "outputs": [],
   "source": []
  }
 ],
 "metadata": {
  "kernelspec": {
   "display_name": "Python 3 (ipykernel)",
   "language": "python",
   "name": "python3"
  },
  "language_info": {
   "codemirror_mode": {
    "name": "ipython",
    "version": 3
   },
   "file_extension": ".py",
   "mimetype": "text/x-python",
   "name": "python",
   "nbconvert_exporter": "python",
   "pygments_lexer": "ipython3",
   "version": "3.9.7"
  }
 },
 "nbformat": 4,
 "nbformat_minor": 5
}
