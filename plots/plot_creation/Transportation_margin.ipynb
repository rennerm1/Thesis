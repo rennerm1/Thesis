{
 "cells": [
  {
   "cell_type": "code",
   "execution_count": 1,
   "id": "0a409c6a-84e5-4c6d-8dd9-607e50203a63",
   "metadata": {},
   "outputs": [],
   "source": [
    "import numpy as np\n",
    "import pandas as pd\n",
    "import matplotlib.pyplot as plt\n",
    "import matplotlib.ticker as plticker\n",
    "import warnings\n",
    "warnings.filterwarnings('ignore')"
   ]
  },
  {
   "cell_type": "code",
   "execution_count": 2,
   "id": "c4c1780e-5060-4724-ba35-d1c739493271",
   "metadata": {},
   "outputs": [],
   "source": [
    "tex_fonts = {\n",
    "    \"text.usetex\": True,\n",
    "    \"font.family\": \"serif\",\n",
    "    \"font.sans-serif\": [\"Palatino\"],\n",
    "    \"axes.labelsize\": 12,\n",
    "    \"font.size\": 12,\n",
    "    \"legend.fontsize\": 10,\n",
    "    \"xtick.labelsize\": 11,\n",
    "    \"ytick.labelsize\": 11\n",
    "}\n",
    "\n",
    "plt.rcParams.update(tex_fonts)"
   ]
  },
  {
   "cell_type": "code",
   "execution_count": 3,
   "id": "60fe3b75-1552-4eec-89f5-be87ed97c1f6",
   "metadata": {},
   "outputs": [],
   "source": [
    "def set_size(width_pt, fraction=1, subplots=(1, 1)):\n",
    "\n",
    "    # Width of figure (in pts)\n",
    "    fig_width_pt = width_pt * fraction\n",
    "    # Convert from pt to inches\n",
    "    inches_per_pt = 1 / 72.27\n",
    "\n",
    "    # Golden ratio to set aesthetic figure height\n",
    "    golden_ratio = (5**.5 - 1) / 2\n",
    "\n",
    "    # Figure width in inches\n",
    "    fig_width_in = fig_width_pt * inches_per_pt\n",
    "    # Figure height in inches\n",
    "    fig_height_in = fig_width_in * golden_ratio * (subplots[0] / subplots[1])\n",
    "\n",
    "    return (fig_width_in, fig_height_in)\n"
   ]
  },
  {
   "cell_type": "code",
   "execution_count": 4,
   "id": "5f59f12f-5020-4bc9-9b87-7fc2b8b11e3f",
   "metadata": {},
   "outputs": [],
   "source": [
    "wue_IS = pd.read_hdf(\"wue_IS_merged.h5\",\"wue_IS\")\n",
    "wue_D = pd.read_hdf(\"wue_D_merged.h5\",\"wue_D\")\n",
    "wue_F = pd.read_hdf(\"wue_F_merged.h5\",\"wue_F\")\n",
    "alb_IS = pd.read_hdf(\"alb_IS_merged.h5\",\"alb_IS\")\n",
    "alb_D = pd.read_hdf(\"alb_D_merged.h5\",\"alb_D\")\n",
    "alb_F = pd.read_hdf(\"alb_F_merged.h5\",\"alb_F\")"
   ]
  },
  {
   "cell_type": "code",
   "execution_count": 5,
   "id": "8f0c09aa-9cce-4991-a92a-446e4af73058",
   "metadata": {},
   "outputs": [],
   "source": [
    "\n",
    "wue_IS100 = wue_IS[wue_IS[\"Customers_N\"] == 100]\n",
    "wue_D100 = wue_D[wue_D[\"Customers_N\"] == 100]\n",
    "wue_F100 = wue_F[wue_F[\"Customers_N\"] == 100]\n",
    "alb_IS100 = alb_IS[alb_IS[\"Customers_N\"] == 100]\n",
    "alb_D100 = alb_D[alb_D[\"Customers_N\"] == 100]\n",
    "alb_F100 = alb_F[alb_F[\"Customers_N\"] == 100]"
   ]
  },
  {
   "cell_type": "code",
   "execution_count": 6,
   "id": "ee27d132-6b17-484c-9a1e-79d7be5c4ffd",
   "metadata": {},
   "outputs": [
    {
     "data": {
      "text/plain": [
       "10.08"
      ]
     },
     "execution_count": 6,
     "metadata": {},
     "output_type": "execute_result"
    }
   ],
   "source": [
    "alb_IS100[\"Stops_h\"].mean()"
   ]
  },
  {
   "cell_type": "code",
   "execution_count": 7,
   "id": "8fc44d78-de1a-4fe2-83a6-7fcca5e18b90",
   "metadata": {},
   "outputs": [
    {
     "data": {
      "text/plain": [
       "2.011"
      ]
     },
     "execution_count": 7,
     "metadata": {},
     "output_type": "execute_result"
    }
   ],
   "source": [
    "alb_IS100[\"Trans_per_order\"].mean()"
   ]
  },
  {
   "cell_type": "code",
   "execution_count": 8,
   "id": "d247f97a-2d99-4629-9709-ab65e6bd41e2",
   "metadata": {},
   "outputs": [
    {
     "data": {
      "text/plain": [
       "131673.4"
      ]
     },
     "execution_count": 8,
     "metadata": {},
     "output_type": "execute_result"
    }
   ],
   "source": [
    "alb_IS100[\"Distance\"].mean()"
   ]
  },
  {
   "cell_type": "code",
   "execution_count": 9,
   "id": "6a5a69b0-78c1-4905-874d-cf64cbf929a8",
   "metadata": {},
   "outputs": [
    {
     "data": {
      "text/plain": [
       "36791.5"
      ]
     },
     "execution_count": 9,
     "metadata": {},
     "output_type": "execute_result"
    }
   ],
   "source": [
    "alb_IS100[\"Time\"].mean()"
   ]
  },
  {
   "cell_type": "code",
   "execution_count": 10,
   "id": "79f41409-c901-4965-babc-5b6048e23200",
   "metadata": {},
   "outputs": [
    {
     "data": {
      "text/plain": [
       "3.5755795469587257"
      ]
     },
     "execution_count": 10,
     "metadata": {},
     "output_type": "execute_result"
    }
   ],
   "source": [
    "(alb_IS100[\"Distance\"]/alb_IS100[\"Time\"]).mean()"
   ]
  },
  {
   "cell_type": "code",
   "execution_count": 11,
   "id": "3a9f30d5-7ee0-4bd3-9bac-868b7345ca30",
   "metadata": {},
   "outputs": [
    {
     "data": {
      "text/plain": [
       "3.79269287748068"
      ]
     },
     "execution_count": 11,
     "metadata": {},
     "output_type": "execute_result"
    }
   ],
   "source": [
    "(wue_IS100[\"Distance\"]/wue_IS100[\"Time\"]).mean()"
   ]
  },
  {
   "cell_type": "code",
   "execution_count": 12,
   "id": "bec2248c-fb21-48b9-9bdf-832c8948ff08",
   "metadata": {},
   "outputs": [
    {
     "data": {
      "text/plain": [
       "Customers_N                100.000\n",
       "Distance                131673.400\n",
       "Time                     36791.500\n",
       "Stops                      103.000\n",
       "Stops_h                     10.080\n",
       "FixedDC_Cost               480.000\n",
       "Trans_Cost                 200.853\n",
       "Variable_DC               1205.113\n",
       "Fixed_V                     67.500\n",
       "Total_Cost                1953.466\n",
       "Var_per_order               12.051\n",
       "Trans_per_order              2.011\n",
       "Transp_order_with_V          2.683\n",
       "FixedDC_per_order            4.800\n",
       "Total_Cost_per_order        19.533\n",
       "Items                     4530.500\n",
       "Cost_per_item                0.431\n",
       "dtype: float64"
      ]
     },
     "execution_count": 12,
     "metadata": {},
     "output_type": "execute_result"
    }
   ],
   "source": [
    "alb_IS100.mean()"
   ]
  },
  {
   "cell_type": "code",
   "execution_count": 15,
   "id": "3681b062-41c8-4c6e-b921-00cb1eca9a78",
   "metadata": {},
   "outputs": [],
   "source": [
    "import math"
   ]
  },
  {
   "cell_type": "code",
   "execution_count": 16,
   "id": "d922c30c-6571-4258-8f5e-d1bb6a4758c6",
   "metadata": {},
   "outputs": [],
   "source": [
    "def margin_fun_time_alb_IS(x):\n",
    "    time = x\n",
    "    stops = 103\n",
    "    Dist_pred = time * 3.5755795469587257\n",
    "    Cost_T = time * 0.004815\n",
    "    Cost_D = Dist_pred * 0.00018\n",
    "    Total_C = Cost_T + Cost_D\n",
    "    Cost_order_tran = Total_C/100\n",
    "    Stops_min = (time/60)/stops\n",
    "    Stops_h = 60/Stops_min\n",
    "    \n",
    "    basket_size = 100\n",
    "    COGS= 80\n",
    "    Delivery_inc = 5\n",
    "    #marketing = (2/basket_size)*100\n",
    "    transp_c = Cost_order_tran\n",
    "    vehicle_req = math.ceil(time/25200)\n",
    "    vehicle_fix = (vehicle_req*22.5)/100\n",
    "    if vehicle_fix <= 0.675:\n",
    "        cost_order_abs = (4.8 + 12.051 + transp_c + 0.675)\n",
    "    else:\n",
    "        cost_order_abs = (4.8 + 12.051 + transp_c + vehicle_fix)\n",
    "    cost_order = (cost_order_abs/80)*100\n",
    "    basket_prof = (basket_size - COGS  - cost_order + Delivery_inc)\n",
    "    \n",
    "    return(basket_prof)"
   ]
  },
  {
   "cell_type": "code",
   "execution_count": 17,
   "id": "b724ac58-d115-4c89-bd4a-608ca6cebfb5",
   "metadata": {},
   "outputs": [
    {
     "data": {
      "text/plain": [
       "0.5821219902206529"
      ]
     },
     "execution_count": 17,
     "metadata": {},
     "output_type": "execute_result"
    }
   ],
   "source": [
    "margin_fun_time_alb_IS(36791.500)"
   ]
  },
  {
   "cell_type": "code",
   "execution_count": 21,
   "id": "36906dd1-9d09-4bfe-9ad1-85eb10d01725",
   "metadata": {},
   "outputs": [
    {
     "ename": "NameError",
     "evalue": "name 'cost_order' is not defined",
     "output_type": "error",
     "traceback": [
      "\u001b[1;31m---------------------------------------------------------------------------\u001b[0m",
      "\u001b[1;31mNameError\u001b[0m                                 Traceback (most recent call last)",
      "\u001b[1;32m~\\AppData\\Local\\Temp/ipykernel_58896/3147342389.py\u001b[0m in \u001b[0;36m<module>\u001b[1;34m\u001b[0m\n\u001b[1;32m----> 1\u001b[1;33m \u001b[0mcost_order\u001b[0m\u001b[1;33m\u001b[0m\u001b[1;33m\u001b[0m\u001b[0m\n\u001b[0m",
      "\u001b[1;31mNameError\u001b[0m: name 'cost_order' is not defined"
     ]
    }
   ],
   "source": [
    "cost_order"
   ]
  },
  {
   "cell_type": "code",
   "execution_count": null,
   "id": "7c143787-db57-4b75-a269-868cf5a967b8",
   "metadata": {},
   "outputs": [],
   "source": [
    "#Distances for 2-12 stops/h\n",
    "2 = 185000\n",
    "3 = 123500\n",
    "4 = 92600\n",
    "5 = 74200\n",
    "6 = 61800\n",
    "7 = 53000\n",
    "8 = 46350\n",
    "9 = 41180\n",
    "10 = 37080\n",
    "11 = 33700\n",
    "12 = 30900"
   ]
  },
  {
   "cell_type": "code",
   "execution_count": 18,
   "id": "2212b7e3-319f-432e-a5c2-5ff1a3a8c13f",
   "metadata": {},
   "outputs": [],
   "source": [
    "distances = [185000, 123500, 92600, 74200, 61800, 53000, 46350, 41180, 37080, 33700,30900]"
   ]
  },
  {
   "cell_type": "code",
   "execution_count": 19,
   "id": "8fb2ddc1-52ab-47d9-8320-824e18d8d188",
   "metadata": {},
   "outputs": [
    {
     "data": {
      "text/plain": [
       "[2, 3, 4, 5, 6, 7, 8, 9, 10, 11, 12]"
      ]
     },
     "execution_count": 19,
     "metadata": {},
     "output_type": "execute_result"
    }
   ],
   "source": [
    "stops_hour = list(range(2,13,1))\n",
    "stops_hour"
   ]
  },
  {
   "cell_type": "code",
   "execution_count": 24,
   "id": "cea78312-0d70-4b41-ab1f-0e35a957d0f8",
   "metadata": {},
   "outputs": [
    {
     "data": {
      "text/plain": [
       "[-10.936772486421567,\n",
       " -5.896720416611156,\n",
       " -3.5070844986088474,\n",
       " -1.9703555053647612,\n",
       " -1.1242718360046098,\n",
       " -0.5238253609748291,\n",
       " -0.0700788770034606,\n",
       " 0.2826834270765417,\n",
       " 0.5624368983972339,\n",
       " 0.7930629308518533,\n",
       " 0.9841140819976957]"
      ]
     },
     "execution_count": 24,
     "metadata": {},
     "output_type": "execute_result"
    }
   ],
   "source": [
    "alb_is_list = list(map(margin_fun_time_alb_IS, distances))\n",
    "alb_is_list"
   ]
  },
  {
   "cell_type": "code",
   "execution_count": 25,
   "id": "62a49e7d-13f5-4ce3-ad73-3c50511fc52f",
   "metadata": {},
   "outputs": [
    {
     "data": {
      "image/png": "[encoded data removed]",
      "text/plain": [
       "<Figure size 443.337x273.998 with 1 Axes>"
      ]
     },
     "metadata": {},
     "output_type": "display_data"
    }
   ],
   "source": [
    "plt.style.use(\"seaborn-ticks\")\n",
    "\n",
    "fig, ax1 = plt.subplots(1,1, figsize=set_size(445))\n",
    "ax1.plot(stops_hour, alb_is_list)\n",
    "plt.show()"
   ]
  },
  {
   "cell_type": "code",
   "execution_count": 34,
   "id": "1f7bc1ea-6117-49b0-bdf2-17239676b578",
   "metadata": {},
   "outputs": [
    {
     "data": {
      "text/plain": [
       "Customers_N                100.000000\n",
       "Distance                150439.582000\n",
       "Time                     37959.296000\n",
       "Stops                      102.999989\n",
       "Stops_h                      9.780000\n",
       "FixedDC_Cost               480.000000\n",
       "Trans_Cost                 209.853000\n",
       "Variable_DC                662.270000\n",
       "Fixed_V                     67.499991\n",
       "Total_Cost                1419.623000\n",
       "Var_per_order                6.622000\n",
       "Trans_per_order              2.099000\n",
       "Transp_order_with_V          2.773000\n",
       "FixedDC_per_order            4.800000\n",
       "Total_Cost_per_order        14.196000\n",
       "Items                     4536.100000\n",
       "Cost_per_item                0.314000\n",
       "dtype: float64"
      ]
     },
     "execution_count": 34,
     "metadata": {},
     "output_type": "execute_result"
    }
   ],
   "source": [
    "alb_D100.mean()"
   ]
  },
  {
   "cell_type": "code",
   "execution_count": 35,
   "id": "d06d3d50-e4f8-4220-80ed-4cac78413c57",
   "metadata": {},
   "outputs": [
    {
     "data": {
      "text/plain": [
       "3.9621765718721695"
      ]
     },
     "execution_count": 35,
     "metadata": {},
     "output_type": "execute_result"
    }
   ],
   "source": [
    "(alb_D100[\"Distance\"]/alb_D100[\"Time\"]).mean()"
   ]
  },
  {
   "cell_type": "code",
   "execution_count": 26,
   "id": "838c0d85-4c96-4790-ad9a-c7a4c789c19c",
   "metadata": {},
   "outputs": [],
   "source": [
    "def margin_fun_time_alb_D(x):\n",
    "    time = x\n",
    "    stops = 103\n",
    "    Dist_pred = time * 3.9621765718721695\n",
    "    Cost_T = time * 0.004815\n",
    "    Cost_D = Dist_pred * 0.00018\n",
    "    Total_C = Cost_T + Cost_D\n",
    "    Cost_order_tran = Total_C/100\n",
    "    Stops_min = (time/60)/stops\n",
    "    Stops_h = 60/Stops_min\n",
    "    \n",
    "    basket_size = 100\n",
    "    COGS= 80\n",
    "    Delivery_inc = 5\n",
    "    transp_c = Cost_order_tran\n",
    "    vehicle_req = math.ceil(time/25200)\n",
    "    vehicle_fix = (vehicle_req*22.5)/100\n",
    "    if vehicle_fix <= 0.675:\n",
    "        cost_order_abs = (4.8 + 6.622000 + transp_c + 0.675)\n",
    "    else:\n",
    "        cost_order_abs = (4.8 + 6.622000 + transp_c + vehicle_fix)\n",
    "    cost_order = (cost_order_abs/80)*100\n",
    "    basket_prof = (basket_size - COGS - cost_order + Delivery_inc)\n",
    "    \n",
    "    return(basket_prof)"
   ]
  },
  {
   "cell_type": "code",
   "execution_count": 27,
   "id": "caa2cc24-ec1a-47d4-a7bd-6d19d224675a",
   "metadata": {},
   "outputs": [
    {
     "data": {
      "text/plain": [
       "[-4.31144349804179,\n",
       " 0.7821039350910226,\n",
       " 3.1986180112504385,\n",
       " 4.75135212132594,\n",
       " 5.608221847681172,\n",
       " 6.2163229438042436,\n",
       " 6.67585388576088,\n",
       " 7.033113279733183,\n",
       " 7.316433108608706,\n",
       " 7.54999921143779,\n",
       " 7.743485923840584]"
      ]
     },
     "execution_count": 27,
     "metadata": {},
     "output_type": "execute_result"
    }
   ],
   "source": [
    "alb_D_list = list(map(margin_fun_time_alb_D, distances))\n",
    "alb_D_list"
   ]
  },
  {
   "cell_type": "code",
   "execution_count": 28,
   "id": "193fc3e2-d11e-449f-af8a-37ff9a0071f7",
   "metadata": {},
   "outputs": [
    {
     "data": {
      "image/png": "[encoded data removed]",
      "text/plain": [
       "<Figure size 443.337x273.998 with 1 Axes>"
      ]
     },
     "metadata": {},
     "output_type": "display_data"
    }
   ],
   "source": [
    "plt.style.use(\"seaborn-ticks\")\n",
    "\n",
    "fig, ax1 = plt.subplots(1,1, figsize=set_size(445))\n",
    "ax1.plot(stops_hour, alb_is_list)\n",
    "ax1.plot(stops_hour, alb_D_list)\n",
    "plt.show()"
   ]
  },
  {
   "cell_type": "code",
   "execution_count": 40,
   "id": "c7722ccf-b224-4aea-a5a5-75b4cd924f71",
   "metadata": {},
   "outputs": [
    {
     "data": {
      "text/plain": [
       "Customers_N                100.000000\n",
       "Distance                165174.786000\n",
       "Time                     39006.297000\n",
       "Stops                      103.599993\n",
       "Stops_h                      9.550000\n",
       "FixedDC_Cost               560.000000\n",
       "Trans_Cost                 217.546000\n",
       "Variable_DC                390.104000\n",
       "Fixed_V                     80.999992\n",
       "Total_Cost                1248.650000\n",
       "Var_per_order                3.901000\n",
       "Trans_per_order              2.176000\n",
       "Transp_order_with_V          2.987000\n",
       "FixedDC_per_order            5.600000\n",
       "Total_Cost_per_order        12.487000\n",
       "Items                     4536.100000\n",
       "Cost_per_item                0.275000\n",
       "dtype: float64"
      ]
     },
     "execution_count": 40,
     "metadata": {},
     "output_type": "execute_result"
    }
   ],
   "source": [
    "alb_F100.mean()"
   ]
  },
  {
   "cell_type": "code",
   "execution_count": 41,
   "id": "d5706623-b9e3-4153-a5f3-53a738ad893e",
   "metadata": {},
   "outputs": [
    {
     "data": {
      "text/plain": [
       "4.227186230941266"
      ]
     },
     "execution_count": 41,
     "metadata": {},
     "output_type": "execute_result"
    }
   ],
   "source": [
    "(alb_F100[\"Distance\"]/alb_F100[\"Time\"]).mean()"
   ]
  },
  {
   "cell_type": "code",
   "execution_count": 29,
   "id": "d9784132-2af9-42ad-8c10-d5031a6384ce",
   "metadata": {},
   "outputs": [],
   "source": [
    "def margin_fun_time_alb_F(x):\n",
    "    time = x\n",
    "    stops = 103\n",
    "    Dist_pred = time * 4.227186230941266\n",
    "    Cost_T = time * 0.004815\n",
    "    Cost_D = Dist_pred * 0.00018\n",
    "    Total_C = Cost_T + Cost_D\n",
    "    Cost_order_tran = Total_C/100\n",
    "    Stops_min = (time/60)/stops\n",
    "    Stops_h = 60/Stops_min\n",
    "    \n",
    "    basket_size = 100\n",
    "    COGS= 80\n",
    "    Delivery_inc = 5\n",
    "    #marketing = (2/basket_size)*100\n",
    "    transp_c = Cost_order_tran\n",
    "    vehicle_req = math.ceil(time/25200)\n",
    "    vehicle_fix = (vehicle_req*22.5)/100\n",
    "    if vehicle_fix <= 0.675:\n",
    "        cost_order_abs = (5.6 + 3.901000 + transp_c + 0.675)\n",
    "    else:\n",
    "        cost_order_abs = (5.6 + 3.901000 + transp_c + vehicle_fix)\n",
    "    cost_order = (cost_order_abs/80)*100\n",
    "    basket_prof = (basket_size - COGS - cost_order + Delivery_inc)\n",
    "    \n",
    "    return(basket_prof)"
   ]
  },
  {
   "cell_type": "code",
   "execution_count": 30,
   "id": "3847cd20-1921-4a84-ba61-ab4f34d4edd7",
   "metadata": {},
   "outputs": [
    {
     "data": {
      "text/plain": [
       "[-2.0205037686293004,\n",
       " 3.1097143760771964,\n",
       " 5.544653248783387,\n",
       " 7.108358758744355,\n",
       " 7.97262225458762,\n",
       " 8.585970541960254,\n",
       " 9.049466690940713,\n",
       " 9.409808809772136,\n",
       " 9.695573352752568,\n",
       " 9.931154854038876,\n",
       " 10.126311127293807]"
      ]
     },
     "execution_count": 30,
     "metadata": {},
     "output_type": "execute_result"
    }
   ],
   "source": [
    "alb_F_list = list(map(margin_fun_time_alb_F, distances))\n",
    "alb_F_list"
   ]
  },
  {
   "cell_type": "code",
   "execution_count": 31,
   "id": "f65d0565-8af1-4ed4-9f76-be33aebb5a4d",
   "metadata": {},
   "outputs": [
    {
     "data": {
      "image/png": "[encoded data removed]",
      "text/plain": [
       "<Figure size 443.337x273.998 with 1 Axes>"
      ]
     },
     "metadata": {},
     "output_type": "display_data"
    }
   ],
   "source": [
    "plt.style.use(\"seaborn-ticks\")\n",
    "\n",
    "fig, ax1 = plt.subplots(1,1, figsize=set_size(445))\n",
    "ax1.plot(stops_hour, alb_is_list)\n",
    "ax1.plot(stops_hour, alb_D_list)\n",
    "ax1.plot(stops_hour, alb_F_list)\n",
    "plt.show()"
   ]
  },
  {
   "cell_type": "code",
   "execution_count": 46,
   "id": "93b2648e-5375-4352-84a4-a6f21aff63c7",
   "metadata": {},
   "outputs": [
    {
     "data": {
      "text/plain": [
       "Customers_N                100.000\n",
       "Distance                154559.200\n",
       "Time                     40737.800\n",
       "Stops                      103.000\n",
       "Stops_h                      9.100\n",
       "FixedDC_Cost               480.000\n",
       "Trans_Cost                 223.973\n",
       "Variable_DC               1208.517\n",
       "Fixed_V                     67.500\n",
       "Total_Cost                1979.990\n",
       "Var_per_order               12.085\n",
       "Trans_per_order              2.240\n",
       "Transp_order_with_V          2.915\n",
       "FixedDC_per_order            4.800\n",
       "Total_Cost_per_order        19.799\n",
       "Items                     4543.300\n",
       "Cost_per_item                0.437\n",
       "dtype: float64"
      ]
     },
     "execution_count": 46,
     "metadata": {},
     "output_type": "execute_result"
    }
   ],
   "source": [
    "wue_IS100.mean()"
   ]
  },
  {
   "cell_type": "code",
   "execution_count": 47,
   "id": "dfbad307-332d-474c-a164-f05b7f6a7a86",
   "metadata": {},
   "outputs": [
    {
     "data": {
      "text/plain": [
       "3.79269287748068"
      ]
     },
     "execution_count": 47,
     "metadata": {},
     "output_type": "execute_result"
    }
   ],
   "source": [
    "(wue_IS100[\"Distance\"]/wue_IS100[\"Time\"]).mean()"
   ]
  },
  {
   "cell_type": "code",
   "execution_count": 32,
   "id": "8922ad6f-2d5f-4142-8c0b-eeeffa703b6f",
   "metadata": {},
   "outputs": [],
   "source": [
    "def margin_fun_time_wue_IS(x):\n",
    "    time = x\n",
    "    stops = 103\n",
    "    Dist_pred = time *3.79269287748068\n",
    "    Cost_T = time * 0.004815\n",
    "    Cost_D = Dist_pred * 0.00018\n",
    "    Total_C = Cost_T + Cost_D\n",
    "    Cost_order_tran = Total_C/100\n",
    "    Stops_min = (time/60)/stops\n",
    "    Stops_h = 60/Stops_min\n",
    "    \n",
    "    basket_size = 100\n",
    "    COGS= 80\n",
    "    Delivery_inc = 5\n",
    "    transp_c = Cost_order_tran\n",
    "    vehicle_req = math.ceil(time/25200)\n",
    "    vehicle_fix = (vehicle_req*22.5)/100\n",
    "    if vehicle_fix <= 0.675:\n",
    "        cost_order_abs = (4.8 + 12.085 + transp_c + 0.675)\n",
    "    else:\n",
    "        cost_order_abs = (4.8 + 12.085 + transp_c + vehicle_fix)\n",
    "\n",
    "\n",
    "    cost_order = (cost_order_abs/80)*100\n",
    "    basket_prof = (basket_size - COGS - cost_order + Delivery_inc)\n",
    "    \n",
    "    return(basket_prof)"
   ]
  },
  {
   "cell_type": "code",
   "execution_count": 33,
   "id": "3cb7b0fa-ad8b-4685-90f3-35a10ec88cb6",
   "metadata": {},
   "outputs": [
    {
     "data": {
      "text/plain": [
       "[-11.069645910251339,\n",
       " -5.999550783329948,\n",
       " -3.5948200610231034,\n",
       " -2.0491025758954002,\n",
       " -1.1969614446136916,\n",
       " -0.5922161256395704,\n",
       " -0.1352210834602694,\n",
       " 0.22006679143702357,\n",
       " 0.5018231332317846,\n",
       " 0.7341003125650296,\n",
       " 0.9265192776931528]"
      ]
     },
     "execution_count": 33,
     "metadata": {},
     "output_type": "execute_result"
    }
   ],
   "source": [
    "wue_IS_list = list(map(margin_fun_time_wue_IS, distances))\n",
    "wue_IS_list"
   ]
  },
  {
   "cell_type": "code",
   "execution_count": 34,
   "id": "67766c46-6211-4ca4-b25a-7e464495c782",
   "metadata": {},
   "outputs": [],
   "source": [
    "def margin_fun_time_wue_IS(x):\n",
    "    time = x\n",
    "    stops = 103\n",
    "    Dist_pred = time *3.79269287748068\n",
    "    Cost_T = time * 0.004815\n",
    "    Cost_D = Dist_pred * 0.00018\n",
    "    Total_C = Cost_T + Cost_D\n",
    "    Cost_order_tran = Total_C/100\n",
    "    Stops_min = (time/60)/stops\n",
    "    Stops_h = 60/Stops_min\n",
    "    \n",
    "    basket_size = 100\n",
    "    COGS= 80\n",
    "    Delivery_inc = 5\n",
    "\n",
    "    transp_c = Cost_order_tran\n",
    "    vehicle_req = math.ceil(time/25200)\n",
    "    vehicle_fix = (vehicle_req*22.5)/100\n",
    "    if vehicle_fix <= 0.675:\n",
    "        cost_order_abs = (4.8 + 12.085 + transp_c + 0.675)\n",
    "    else:\n",
    "        cost_order_abs = (4.8 + 12.085 + transp_c + vehicle_fix)\n",
    "    cost_order = (cost_order_abs/80)*100\n",
    "    basket_prof = (basket_size - COGS - cost_order + Delivery_inc)\n",
    "    \n",
    "    return(basket_prof)"
   ]
  },
  {
   "cell_type": "code",
   "execution_count": 98,
   "id": "55c1d771-c3d2-4cf8-b2f0-12adc88e9513",
   "metadata": {},
   "outputs": [],
   "source": [
    "import math\n",
    "def v_fix(x):\n",
    "    time = x\n",
    "    vehicles_req = math.ceil(time / 25200)\n",
    "    if vehicles_req <= 3:\n",
    "        vehicle_fix = 67.5\n",
    "    else:\n",
    "        vehicle_fix = vehicles_req * 22.5\n",
    "    return(vehicle_fix)"
   ]
  },
  {
   "cell_type": "code",
   "execution_count": 92,
   "id": "b12cd70f-3759-43b4-a605-676d9ff0d9fc",
   "metadata": {},
   "outputs": [
    {
     "data": {
      "text/plain": [
       "[185000, 123500, 92600, 74200, 61800, 53000, 46350, 41180, 37080, 33700, 30900]"
      ]
     },
     "execution_count": 92,
     "metadata": {},
     "output_type": "execute_result"
    }
   ],
   "source": [
    "distances"
   ]
  },
  {
   "cell_type": "code",
   "execution_count": 100,
   "id": "871a25a4-cf19-4179-b5b2-0fdea876ea55",
   "metadata": {},
   "outputs": [
    {
     "data": {
      "text/plain": [
       "67.5"
      ]
     },
     "execution_count": 100,
     "metadata": {},
     "output_type": "execute_result"
    }
   ],
   "source": [
    "v_fix(185000)"
   ]
  },
  {
   "cell_type": "code",
   "execution_count": 101,
   "id": "f4284a10-8622-44d6-8df2-9a605ad434d2",
   "metadata": {},
   "outputs": [
    {
     "data": {
      "text/plain": [
       "8"
      ]
     },
     "execution_count": 101,
     "metadata": {},
     "output_type": "execute_result"
    }
   ],
   "source": [
    "math.ceil(185000 / 25200)"
   ]
  },
  {
   "cell_type": "code",
   "execution_count": 35,
   "id": "e29d38db-22c5-4c00-a275-72ca7193a7b9",
   "metadata": {},
   "outputs": [
    {
     "data": {
      "text/plain": [
       "[-11.069645910251339,\n",
       " -5.999550783329948,\n",
       " -3.5948200610231034,\n",
       " -2.0491025758954002,\n",
       " -1.1969614446136916,\n",
       " -0.5922161256395704,\n",
       " -0.1352210834602694,\n",
       " 0.22006679143702357,\n",
       " 0.5018231332317846,\n",
       " 0.7341003125650296,\n",
       " 0.9265192776931528]"
      ]
     },
     "execution_count": 35,
     "metadata": {},
     "output_type": "execute_result"
    }
   ],
   "source": [
    "wue_IS_list = list(map(margin_fun_time_wue_IS, distances))\n",
    "wue_IS_list"
   ]
  },
  {
   "cell_type": "code",
   "execution_count": 51,
   "id": "f366a714-0ede-446e-8bed-31de6b7cabdd",
   "metadata": {},
   "outputs": [
    {
     "data": {
      "text/plain": [
       "Customers_N                100.000\n",
       "Distance                213952.400\n",
       "Time                     44029.600\n",
       "Stops                      103.300\n",
       "Stops_h                      8.460\n",
       "FixedDC_Cost               480.000\n",
       "Trans_Cost                 250.512\n",
       "Variable_DC                662.270\n",
       "Fixed_V                     74.250\n",
       "Total_Cost                1467.032\n",
       "Var_per_order                6.622\n",
       "Trans_per_order              2.506\n",
       "Transp_order_with_V          3.248\n",
       "FixedDC_per_order            4.800\n",
       "Total_Cost_per_order        14.670\n",
       "Items                     4536.100\n",
       "Cost_per_item                0.325\n",
       "dtype: float64"
      ]
     },
     "execution_count": 51,
     "metadata": {},
     "output_type": "execute_result"
    }
   ],
   "source": [
    "wue_D100.mean()"
   ]
  },
  {
   "cell_type": "code",
   "execution_count": 52,
   "id": "4bd90bc2-897e-4709-94d1-b8cbe1462bf4",
   "metadata": {},
   "outputs": [
    {
     "data": {
      "text/plain": [
       "4.852404863899981"
      ]
     },
     "execution_count": 52,
     "metadata": {},
     "output_type": "execute_result"
    }
   ],
   "source": [
    "(wue_D100[\"Distance\"]/wue_D100[\"Time\"]).mean()"
   ]
  },
  {
   "cell_type": "code",
   "execution_count": 36,
   "id": "2ce2b73d-15ac-48ec-8dcd-87c70ea95097",
   "metadata": {},
   "outputs": [],
   "source": [
    "def margin_fun_time_wue_D(x):\n",
    "    time = x\n",
    "    stops = 103\n",
    "    Dist_pred = time *4.852404863899981\n",
    "    Cost_T = time * 0.004815\n",
    "    Cost_D = Dist_pred * 0.00018\n",
    "    Total_C = Cost_T + Cost_D\n",
    "    Cost_order_tran = Total_C/100\n",
    "    Stops_min = (time/60)/stops\n",
    "    Stops_h = 60/Stops_min\n",
    "    \n",
    "    basket_size = 100\n",
    "    COGS= 80\n",
    "    Delivery_inc = 5\n",
    "\n",
    "    transp_c = Cost_order_tran\n",
    "    vehicle_req = math.ceil(time/25200)\n",
    "    vehicle_fix = (vehicle_req*22.5)/100\n",
    "    if vehicle_fix <= 0.675:\n",
    "        cost_order_abs = (4.8 + 6.622+ transp_c + 0.675)\n",
    "    else:\n",
    "        cost_order_abs = (4.8 +6.622 + transp_c + vehicle_fix)\n",
    "    cost_order = (cost_order_abs/80)*100\n",
    "    basket_prof = (basket_size - COGS - cost_order + Delivery_inc)\n",
    "    \n",
    "    return(basket_prof)"
   ]
  },
  {
   "cell_type": "code",
   "execution_count": 37,
   "id": "64ce5a6a-7b56-425e-b9bd-1ab1da2149dd",
   "metadata": {},
   "outputs": [
    {
     "data": {
      "text/plain": [
       "[-4.682001024598371,\n",
       " 0.534731748443793,\n",
       " 3.0131389466064427,\n",
       " 4.6027285079718965,\n",
       " 5.484435603674704,\n",
       " 6.110163219979924,\n",
       " 6.583014202756029,\n",
       " 6.9506291773353475,\n",
       " 7.242161362204822,\n",
       " 7.48249765119478,\n",
       " 7.6815928018373505]"
      ]
     },
     "execution_count": 37,
     "metadata": {},
     "output_type": "execute_result"
    }
   ],
   "source": [
    "wue_D_list = list(map(margin_fun_time_wue_D, distances))\n",
    "wue_D_list"
   ]
  },
  {
   "cell_type": "code",
   "execution_count": 55,
   "id": "d5ef37e8-ba63-49ea-b8c7-6c30ba59d083",
   "metadata": {},
   "outputs": [
    {
     "data": {
      "text/plain": [
       "Customers_N                100.000\n",
       "Distance                215431.400\n",
       "Time                     43515.200\n",
       "Stops                      103.400\n",
       "Stops_h                      8.560\n",
       "FixedDC_Cost               560.000\n",
       "Trans_Cost                 248.303\n",
       "Variable_DC                390.104\n",
       "Fixed_V                     76.500\n",
       "Total_Cost                1274.907\n",
       "Var_per_order                3.901\n",
       "Trans_per_order              2.483\n",
       "Transp_order_with_V          3.249\n",
       "FixedDC_per_order            5.600\n",
       "Total_Cost_per_order        12.750\n",
       "Items                     4536.100\n",
       "Cost_per_item                0.282\n",
       "dtype: float64"
      ]
     },
     "execution_count": 55,
     "metadata": {},
     "output_type": "execute_result"
    }
   ],
   "source": [
    "wue_F100.mean()"
   ]
  },
  {
   "cell_type": "code",
   "execution_count": 56,
   "id": "1d160fd9-24e2-4b3e-a737-9e974fb47945",
   "metadata": {},
   "outputs": [
    {
     "data": {
      "text/plain": [
       "4.949726246110201"
      ]
     },
     "execution_count": 56,
     "metadata": {},
     "output_type": "execute_result"
    }
   ],
   "source": [
    "(wue_F100[\"Distance\"]/wue_F100[\"Time\"]).mean()"
   ]
  },
  {
   "cell_type": "code",
   "execution_count": 38,
   "id": "72152df1-3afd-45fa-b706-f5109d7f27ef",
   "metadata": {},
   "outputs": [],
   "source": [
    "def margin_fun_time_wue_F(x):\n",
    "    time = x\n",
    "    stops = 103\n",
    "    Dist_pred = time *4.949726246110201\n",
    "    Cost_T = time * 0.004815\n",
    "    Cost_D = Dist_pred * 0.00018\n",
    "    Total_C = Cost_T + Cost_D\n",
    "    Cost_order_tran = Total_C/100\n",
    "    Stops_min = (time/60)/stops\n",
    "    Stops_h = 60/Stops_min\n",
    "    \n",
    "    basket_size = 100\n",
    "    COGS= 80\n",
    "    Delivery_inc = 5\n",
    "\n",
    "    transp_c = Cost_order_tran\n",
    "    vehicle_req = math.ceil(time/25200)\n",
    "    vehicle_fix = (vehicle_req*22.5)/100\n",
    "    if vehicle_fix <= 0.675:\n",
    "        cost_order_abs = (5.6 + 3.901+ transp_c + 0.675)\n",
    "    else:\n",
    "        cost_order_abs = (5.6 +3.901 + transp_c + vehicle_fix)\n",
    "    cost_order = (cost_order_abs/80)*100\n",
    "    basket_prof = (basket_size - COGS - cost_order + Delivery_inc)\n",
    "    \n",
    "    return(basket_prof)"
   ]
  },
  {
   "cell_type": "code",
   "execution_count": 39,
   "id": "ef09bf1b-09a2-41ef-80b8-f7783d60a5ae",
   "metadata": {},
   "outputs": [
    {
     "data": {
      "text/plain": [
       "[-2.3212610499433737,\n",
       " 2.908938569362128,\n",
       " 5.394112036622939,\n",
       " 6.987730703211902,\n",
       " 7.872153065478376,\n",
       " 8.499807645151357,\n",
       " 8.974114799108783,\n",
       " 9.342861864666657,\n",
       " 9.635291839287024,\n",
       " 9.876368257388696,\n",
       " 10.07607653273919]"
      ]
     },
     "execution_count": 39,
     "metadata": {},
     "output_type": "execute_result"
    }
   ],
   "source": [
    "wue_F_list = list(map(margin_fun_time_wue_F, distances))\n",
    "wue_F_list"
   ]
  },
  {
   "cell_type": "code",
   "execution_count": 46,
   "id": "8a4b37cd-200e-41d8-aa10-f40c98213b1e",
   "metadata": {},
   "outputs": [
    {
     "data": {
      "image/png": "[encoded data removed]",
      "text/plain": [
       "<Figure size 443.337x273.998 with 2 Axes>"
      ]
     },
     "metadata": {},
     "output_type": "display_data"
    }
   ],
   "source": [
    "from matplotlib.lines import Line2D\n",
    "custom_line = [Line2D([0], [0], color=\"blue\", alpha =0.2, lw=1.3, ls = \"-\"),\n",
    "              Line2D([0], [0], color=\"red\", alpha =0.2, lw=1.3, ls = \"-\")]\n",
    "plt.style.use(\"seaborn-ticks\")\n",
    "\n",
    "\n",
    "fig, (ax1,ax2) = plt.subplots(1,2, figsize=set_size(445))\n",
    "\n",
    "\n",
    "ax1.set_title(\"\\\\textbf{Albstadt}\", fontsize=14)\n",
    "ax2.set_title(\"\\\\textbf{Würzburg}\", fontsize=14)\n",
    "ax1.set_ylabel(\"\\\\textbf{Margin \\%}\")\n",
    "fig.supxlabel(\"\\\\textbf{Delivery Drops per hour}\", y = 0.05, fontsize=12)\n",
    "\n",
    "\n",
    "ax1.plot(stops_hour, alb_is_list, label=\"In Store\", color=\"#207720\")\n",
    "ax1.plot(stops_hour, alb_D_list, label = \"Darkstore\", color=\"#234990\")\n",
    "ax1.plot(stops_hour, alb_F_list, label= \"FC\", color = \"#E23726\")\n",
    "\n",
    "ax2.plot(stops_hour, wue_IS_list, label=\"In Store\", color=\"#207720\")\n",
    "ax2.plot(stops_hour, wue_D_list, label = \"Darkstore\", color=\"#234990\")\n",
    "ax2.plot(stops_hour, wue_F_list, label= \"FC\", color = \"#E23726\")\n",
    "\n",
    "ax1.yaxis.grid(True)\n",
    "ax2.yaxis.grid(True)\n",
    "\n",
    "loc =plticker.MultipleLocator(base=2)\n",
    "\n",
    "ax1.xaxis.set_major_locator(loc)\n",
    "ax2.xaxis.set_major_locator(loc)\n",
    "\n",
    "\n",
    "ax1.axvspan(2, 4, alpha=0.2, color='blue')\n",
    "ax1.axvspan(8.560, 10.08, alpha=0.2, color='red')\n",
    "\n",
    "ax2.axvspan(2, 4, alpha=0.2, color='blue')\n",
    "ax2.axvspan(8.560, 10.08, alpha=0.2, color='red')\n",
    "\n",
    "ax1.set_yticks([-10, -7.5,- 5.0, -2.5, 0, 2.5, 5, 7.5, 10],[\"$-10\\%$\", \"$-7.5\\%$\", \"$-5\\%$\", \n",
    "                    \"$-2.5\\%$\", \"$0\\%$\", \"$2.5\\%$\",\"$5\\%$\",\"$7.5\\%$\",\"$10\\%$\" ], rotation=0)\n",
    "ax2.set_yticks([-10, -7.5,- 5.0, -2.5, 0, 2.5, 5, 7.5, 10],[\"$-10\\%$\", \"$-7.5\\%$\", \"$-5\\%$\", \n",
    "                    \"$-2.5\\%$\", \"$0\\%$\", \"$2.5\\%$\",\"$5\\%$\",\"$7.5\\%$\",\"$10\\%$\" ], rotation=0)\n",
    "\n",
    "handles, labels = ax1.get_legend_handles_labels()\n",
    "fig.legend(handles, labels, loc='lower left', frameon=True,\n",
    "           fancybox=True, ncol=1, borderpad=0.1, labelspacing = 0.2, borderaxespad=0.1)\n",
    "\n",
    "fig.legend(custom_line, [\"Attended HD\", \"Unattended HD\"], loc= \"lower right\", labelspacing=0.2,\n",
    "         prop={\"size\":\"small\"})\n",
    "\n",
    "\n",
    "fig.tight_layout()\n",
    "plt.show()\n",
    "fig.savefig(\"result_graph/margin_delivery2.svg\", format=\"svg\")"
   ]
  },
  {
   "cell_type": "code",
   "execution_count": 50,
   "id": "df12c61c-6abe-46ad-945c-6d4398dafc33",
   "metadata": {
    "collapsed": true,
    "jupyter": {
     "outputs_hidden": true,
     "source_hidden": true
    },
    "tags": []
   },
   "outputs": [
    {
     "data": {
      "image/png": "[encoded data removed]",
      "text/plain": [
       "<Figure size 443.337x273.998 with 2 Axes>"
      ]
     },
     "metadata": {},
     "output_type": "display_data"
    }
   ],
   "source": [
    "plt.style.use(\"seaborn-ticks\")\n",
    "\n",
    "fig, (ax1,ax2) = plt.subplots(1,2, figsize=set_size(445))\n",
    "\n",
    "xticks = [1,2,3,4]\n",
    "labels = [\"$25$\",\"$50$\", \"$100$\", \"$150$\"]\n",
    "\n",
    "ax1.set_title(\"\\\\textbf{Albstadt}\", fontsize=14)\n",
    "ax2.set_title(\"\\\\textbf{Würzburg}\", fontsize=14)\n",
    "ax1.set_ylabel(\"\\\\textbf{Margin \\%}\")\n",
    "fig.supxlabel(\"\\\\textbf{Customer Orders}\", y = 0.05, fontsize=12)\n",
    "\n",
    "\n",
    "ax1.plot(xticks, alb_IS_list, label=\"In Store\", color=\"#207720\",marker = \"s\", ms=4)\n",
    "ax1.plot(xticks, alb_D_list, label = \"Darkstore\", color=\"#234990\" ,marker = \"o\", ms=4)\n",
    "ax1.plot(xticks, alb_F_list, label= \"FC\", color = \"#E23726\" ,marker = \"x\", ms=4)\n",
    "\n",
    "ax2.plot(xticks, wue_IS_list, label=\"In Store\", color=\"#207720\",marker = \"s\", ms=4)\n",
    "ax2.plot(xticks, wue_D_list, label = \"Darkstore\", color=\"#234990\",marker = \"o\", ms=4)\n",
    "ax2.plot(xticks, wue_F_list, label= \"FC\", color = \"#E23726\",marker = \"x\", ms=4)\n",
    "\n",
    "\n",
    "ax1.set_xticks(xticks)\n",
    "ax1.set_xticklabels(labels, rotation = 0)\n",
    "ax2.set_xticks(xticks)\n",
    "ax2.set_xticklabels(labels, rotation = 0)\n",
    "\n",
    "loc =plticker.MultipleLocator(base=2.5)\n",
    "ax1.yaxis.set_major_locator(loc)\n",
    "ax2.yaxis.set_major_locator(loc)\n",
    "\n",
    "ax1.yaxis.grid(True)\n",
    "ax2.yaxis.grid(True)\n",
    "\n",
    "ax1.axhline(y=0,xmin=0,xmax=1,c=\"black\",linewidth=1.3,zorder=0)\n",
    "ax2.axhline(y=0,xmin=0,xmax=1,c=\"black\",linewidth=1.3,zorder=0)\n",
    "\n",
    "\n",
    "ax1.set_yticks([-7.5,- 5.0, -2.5, 0, 2.5, 5, 7.5, 10, 12.5],[\"$-7.5\\%$\", \"$-5\\%$\", \n",
    "                    \"$-2.5\\%$\", \"$0\\%$\", \"$2.5\\%$\",\"$5\\%$\",\"$7.5\\%$\",\"$10\\%$\",\"$12.5\\%$\" ], rotation=0)\n",
    "ax2.set_yticks([-7.5,- 5.0, -2.5, 0, 2.5, 5, 7.5, 10, 12.5],[\"$-7.5\\%$\", \"$-5\\%$\", \n",
    "                    \"$-2.5\\%$\", \"$0\\%$\", \"$2.5\\%$\",\"$5\\%$\",\"$7.5\\%$\",\"$10\\%$\",\"$12.5\\%$\" ], rotation=0)\n",
    "\n",
    "handles, labels = ax1.get_legend_handles_labels()\n",
    "fig.legend(handles, labels, loc='lower left', frameon=True,\n",
    "           fancybox=True, ncol=1, borderpad=0.1, labelspacing = 0.2, borderaxespad=0.1)\n",
    "\n",
    "\n",
    "fig.tight_layout()\n",
    "plt.show()\n",
    "fig.savefig(\"result_graph/basket_prof.svg\", format=\"svg\")"
   ]
  },
  {
   "cell_type": "code",
   "execution_count": null,
   "id": "12f8919e-930d-4e20-890e-eb9fe33aaac8",
   "metadata": {},
   "outputs": [],
   "source": []
  }
 ],
 "metadata": {
  "kernelspec": {
   "display_name": "Python [conda env:ox] *",
   "language": "python",
   "name": "conda-env-ox-py"
  },
  "language_info": {
   "codemirror_mode": {
    "name": "ipython",
    "version": 3
   },
   "file_extension": ".py",
   "mimetype": "text/x-python",
   "name": "python",
   "nbconvert_exporter": "python",
   "pygments_lexer": "ipython3",
   "version": "3.9.7"
  }
 },
 "nbformat": 4,
 "nbformat_minor": 5
}
