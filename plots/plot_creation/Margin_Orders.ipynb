{
 "cells": [
  {
   "cell_type": "code",
   "execution_count": 1,
   "id": "0a409c6a-84e5-4c6d-8dd9-607e50203a63",
   "metadata": {},
   "outputs": [],
   "source": [
    "import numpy as np\n",
    "import pandas as pd\n",
    "import matplotlib.pyplot as plt\n",
    "import matplotlib.ticker as plticker\n",
    "import warnings\n",
    "warnings.filterwarnings('ignore')"
   ]
  },
  {
   "cell_type": "code",
   "execution_count": 2,
   "id": "c4c1780e-5060-4724-ba35-d1c739493271",
   "metadata": {},
   "outputs": [],
   "source": [
    "tex_fonts = {\n",
    "    \"text.usetex\": True,\n",
    "    \"font.family\": \"serif\",\n",
    "    \"font.sans-serif\": [\"Palatino\"],\n",
    "    \"axes.labelsize\": 12,\n",
    "    \"font.size\": 12,\n",
    "    \"legend.fontsize\": 10,\n",
    "    \"xtick.labelsize\": 11,\n",
    "    \"ytick.labelsize\": 11\n",
    "}\n",
    "\n",
    "plt.rcParams.update(tex_fonts)"
   ]
  },
  {
   "cell_type": "code",
   "execution_count": 3,
   "id": "60fe3b75-1552-4eec-89f5-be87ed97c1f6",
   "metadata": {},
   "outputs": [],
   "source": [
    "def set_size(width_pt, fraction=1, subplots=(1, 1)):\n",
    "\n",
    "    # Width of figure (in pts)\n",
    "    fig_width_pt = width_pt * fraction\n",
    "    # Convert from pt to inches\n",
    "    inches_per_pt = 1 / 72.27\n",
    "\n",
    "    # Golden ratio to set aesthetic figure height\n",
    "    golden_ratio = (5**.5 - 1) / 2\n",
    "\n",
    "    # Figure width in inches\n",
    "    fig_width_in = fig_width_pt * inches_per_pt\n",
    "    # Figure height in inches\n",
    "    fig_height_in = fig_width_in * golden_ratio * (subplots[0] / subplots[1])\n",
    "\n",
    "    return (fig_width_in, fig_height_in)\n"
   ]
  },
  {
   "cell_type": "code",
   "execution_count": 4,
   "id": "5f59f12f-5020-4bc9-9b87-7fc2b8b11e3f",
   "metadata": {},
   "outputs": [],
   "source": [
    "wue_IS = pd.read_hdf(\"wue_IS_merged.h5\",\"wue_IS\")\n",
    "wue_D = pd.read_hdf(\"wue_D_merged.h5\",\"wue_D\")\n",
    "wue_F = pd.read_hdf(\"wue_F_merged.h5\",\"wue_F\")\n",
    "alb_IS = pd.read_hdf(\"alb_IS_merged.h5\",\"alb_IS\")\n",
    "alb_D = pd.read_hdf(\"alb_D_merged.h5\",\"alb_D\")\n",
    "alb_F = pd.read_hdf(\"alb_F_merged.h5\",\"alb_F\")"
   ]
  },
  {
   "cell_type": "code",
   "execution_count": 5,
   "id": "8f0c09aa-9cce-4991-a92a-446e4af73058",
   "metadata": {},
   "outputs": [],
   "source": [
    "wue_IS25 = wue_IS[wue_IS[\"Customers_N\"] == 25]\n",
    "wue_IS50 = wue_IS[wue_IS[\"Customers_N\"] == 50]\n",
    "wue_IS100 = wue_IS[wue_IS[\"Customers_N\"] == 100]\n",
    "wue_IS150 = wue_IS[wue_IS[\"Customers_N\"] == 150]"
   ]
  },
  {
   "cell_type": "code",
   "execution_count": 31,
   "id": "d922c30c-6571-4258-8f5e-d1bb6a4758c6",
   "metadata": {},
   "outputs": [],
   "source": [
    "def margin_fun(x):\n",
    "    basket_size = 100\n",
    "    COGS = 80\n",
    "    Delivery_inc = (5/basket_size)*100\n",
    "    marketing = (2/basket_size)*100\n",
    "    cost_order_mean = sum(x)/len(x)\n",
    "    cost_order = (cost_order_mean/100)*100\n",
    "    basket_prof = (basket_size - COGS - marketing - cost_order + Delivery_inc)\n",
    "    \n",
    "    return(basket_prof)"
   ]
  },
  {
   "cell_type": "code",
   "execution_count": 32,
   "id": "2191a585-1ef0-42ee-b428-4c719e3e53a1",
   "metadata": {},
   "outputs": [],
   "source": [
    "costs_IS_wue = list([wue_IS25[\"Total_Cost_per_order\"],wue_IS50[\"Total_Cost_per_order\"],\n",
    "                     wue_IS100[\"Total_Cost_per_order\"],wue_IS150[\"Total_Cost_per_order\"]])\n"
   ]
  },
  {
   "cell_type": "code",
   "execution_count": 33,
   "id": "9348bb5a-9519-41de-a62d-50a35b4e0169",
   "metadata": {},
   "outputs": [
    {
     "data": {
      "text/plain": [
       "[-2.8059999999999974,\n",
       " 2.6040000000000028,\n",
       " 3.2010000000000005,\n",
       " 3.0519999999999996]"
      ]
     },
     "execution_count": 33,
     "metadata": {},
     "output_type": "execute_result"
    }
   ],
   "source": [
    "wue_IS_list = list(map(margin_fun, costs_IS_wue))\n",
    "wue_IS_list"
   ]
  },
  {
   "cell_type": "code",
   "execution_count": 30,
   "id": "53dc0550-6e70-4127-9770-36ad9f6f930e",
   "metadata": {},
   "outputs": [],
   "source": [
    "wue_D25 = wue_D[wue_D[\"Customers_N\"] == 25]\n",
    "wue_D50 = wue_D[wue_D[\"Customers_N\"] == 50]\n",
    "wue_D100 = wue_D[wue_D[\"Customers_N\"] == 100]\n",
    "wue_D150 = wue_D[wue_D[\"Customers_N\"] == 150]"
   ]
  },
  {
   "cell_type": "code",
   "execution_count": 34,
   "id": "3edd20be-f981-41b8-8dc5-a01aa6fcc23f",
   "metadata": {},
   "outputs": [],
   "source": [
    "costs_D_wue = list([wue_D25[\"Total_Cost_per_order\"],wue_D50[\"Total_Cost_per_order\"],\n",
    "                     wue_D100[\"Total_Cost_per_order\"],wue_D150[\"Total_Cost_per_order\"]])\n"
   ]
  },
  {
   "cell_type": "code",
   "execution_count": 35,
   "id": "06dfb70d-48b5-479a-9e28-22da1a20811b",
   "metadata": {},
   "outputs": [
    {
     "data": {
      "text/plain": [
       "[-7.1739999999999995, 2.940000000000005, 8.330000000000004, 9.970999999999998]"
      ]
     },
     "execution_count": 35,
     "metadata": {},
     "output_type": "execute_result"
    }
   ],
   "source": [
    "wue_D_list = list(map(margin_fun, costs_D_wue))\n",
    "wue_D_list"
   ]
  },
  {
   "cell_type": "code",
   "execution_count": 36,
   "id": "0e8f5961-23ed-4a0e-a03e-ec3bb853443d",
   "metadata": {},
   "outputs": [],
   "source": [
    "wue_F25 = wue_F[wue_F[\"Customers_N\"] == 25]\n",
    "wue_F50 = wue_F[wue_F[\"Customers_N\"] == 50]\n",
    "wue_F100 = wue_F[wue_F[\"Customers_N\"] == 100]\n",
    "wue_F150 = wue_F[wue_F[\"Customers_N\"] == 150]"
   ]
  },
  {
   "cell_type": "code",
   "execution_count": 37,
   "id": "4eee3a25-99ee-43d2-a9ea-9488fb2464cf",
   "metadata": {},
   "outputs": [
    {
     "data": {
      "text/plain": [
       "[-7.713999999999999, 4.1080000000000005, 10.25, 12.127]"
      ]
     },
     "execution_count": 37,
     "metadata": {},
     "output_type": "execute_result"
    }
   ],
   "source": [
    "costs_F_wue = list([wue_F25[\"Total_Cost_per_order\"],wue_F50[\"Total_Cost_per_order\"],\n",
    "                     wue_F100[\"Total_Cost_per_order\"],wue_F150[\"Total_Cost_per_order\"]])\n",
    "wue_F_list = list(map(margin_fun, costs_F_wue))\n",
    "wue_F_list"
   ]
  },
  {
   "cell_type": "code",
   "execution_count": 43,
   "id": "3c10b227-35ba-44e8-803d-62ab9c7f3b1e",
   "metadata": {},
   "outputs": [],
   "source": [
    "alb_IS25 = alb_IS[alb_IS[\"Customers_N\"] == 25]\n",
    "alb_IS50 = alb_IS[alb_IS[\"Customers_N\"] == 50]\n",
    "alb_IS100 = alb_IS[alb_IS[\"Customers_N\"] == 100]\n",
    "alb_IS150 = alb_IS[alb_IS[\"Customers_N\"] == 150]\n",
    "costs_IS_alb = list([alb_IS25[\"Total_Cost_per_order\"],alb_IS50[\"Total_Cost_per_order\"],\n",
    "                     alb_IS100[\"Total_Cost_per_order\"],alb_IS150[\"Total_Cost_per_order\"]])\n",
    "alb_IS_list = list(map(margin_fun, costs_IS_alb))\n",
    "\n",
    "alb_D25 = alb_D[alb_D[\"Customers_N\"] == 25]\n",
    "alb_D50 = alb_D[alb_D[\"Customers_N\"] == 50]\n",
    "alb_D100 = alb_D[alb_D[\"Customers_N\"] == 100]\n",
    "alb_D150 = alb_D[alb_D[\"Customers_N\"] == 150]\n",
    "costs_D_alb = list([alb_D25[\"Total_Cost_per_order\"],alb_D50[\"Total_Cost_per_order\"],\n",
    "                     alb_D100[\"Total_Cost_per_order\"],alb_D150[\"Total_Cost_per_order\"]])\n",
    "\n",
    "alb_D_list = list(map(margin_fun, costs_D_alb))\n",
    "\n",
    "alb_F25 = alb_F[alb_F[\"Customers_N\"] == 25]\n",
    "alb_F50 = alb_F[alb_F[\"Customers_N\"] == 50]\n",
    "alb_F100 = alb_F[alb_F[\"Customers_N\"] == 100]\n",
    "alb_F150 = alb_F[alb_F[\"Customers_N\"] == 150]\n",
    "costs_F_alb = list([alb_F25[\"Total_Cost_per_order\"],alb_F50[\"Total_Cost_per_order\"],\n",
    "                     alb_F100[\"Total_Cost_per_order\"],alb_F150[\"Total_Cost_per_order\"]])\n",
    "alb_F_list = list(map(margin_fun, costs_F_alb))"
   ]
  },
  {
   "cell_type": "code",
   "execution_count": 50,
   "id": "df12c61c-6abe-46ad-945c-6d4398dafc33",
   "metadata": {},
   "outputs": [
    {
     "data": {
      "image/png": "[encoded data removed]",
      "text/plain": [
       "<Figure size 443.337x273.998 with 2 Axes>"
      ]
     },
     "metadata": {},
     "output_type": "display_data"
    }
   ],
   "source": [
    "plt.style.use(\"seaborn-ticks\")\n",
    "\n",
    "fig, (ax1,ax2) = plt.subplots(1,2, figsize=set_size(445))\n",
    "\n",
    "xticks = [1,2,3,4]\n",
    "labels = [\"$25$\",\"$50$\", \"$100$\", \"$150$\"]\n",
    "\n",
    "ax1.set_title(\"\\\\textbf{Albstadt}\", fontsize=14)\n",
    "ax2.set_title(\"\\\\textbf{Würzburg}\", fontsize=14)\n",
    "ax1.set_ylabel(\"\\\\textbf{Margin \\%}\")\n",
    "fig.supxlabel(\"\\\\textbf{Customer Orders}\", y = 0.05, fontsize=12)\n",
    "\n",
    "\n",
    "ax1.plot(xticks, alb_IS_list, label=\"In Store\", color=\"#207720\",marker = \"s\", ms=4)\n",
    "ax1.plot(xticks, alb_D_list, label = \"Darkstore\", color=\"#234990\" ,marker = \"o\", ms=4)\n",
    "ax1.plot(xticks, alb_F_list, label= \"FC\", color = \"#E23726\" ,marker = \"x\", ms=4)\n",
    "\n",
    "ax2.plot(xticks, wue_IS_list, label=\"In Store\", color=\"#207720\",marker = \"s\", ms=4)\n",
    "ax2.plot(xticks, wue_D_list, label = \"Darkstore\", color=\"#234990\",marker = \"o\", ms=4)\n",
    "ax2.plot(xticks, wue_F_list, label= \"FC\", color = \"#E23726\",marker = \"x\", ms=4)\n",
    "\n",
    "\n",
    "ax1.set_xticks(xticks)\n",
    "ax1.set_xticklabels(labels, rotation = 0)\n",
    "ax2.set_xticks(xticks)\n",
    "ax2.set_xticklabels(labels, rotation = 0)\n",
    "\n",
    "loc =plticker.MultipleLocator(base=2.5)\n",
    "ax1.yaxis.set_major_locator(loc)\n",
    "ax2.yaxis.set_major_locator(loc)\n",
    "\n",
    "ax1.yaxis.grid(True)\n",
    "ax2.yaxis.grid(True)\n",
    "\n",
    "ax1.axhline(y=0,xmin=0,xmax=1,c=\"black\",linewidth=1.3,zorder=0)\n",
    "ax2.axhline(y=0,xmin=0,xmax=1,c=\"black\",linewidth=1.3,zorder=0)\n",
    "\n",
    "\n",
    "ax1.set_yticks([-7.5,- 5.0, -2.5, 0, 2.5, 5, 7.5, 10, 12.5],[\"$-7.5\\%$\", \"$-5\\%$\", \n",
    "                    \"$-2.5\\%$\", \"$0\\%$\", \"$2.5\\%$\",\"$5\\%$\",\"$7.5\\%$\",\"$10\\%$\",\"$12.5\\%$\" ], rotation=0)\n",
    "ax2.set_yticks([-7.5,- 5.0, -2.5, 0, 2.5, 5, 7.5, 10, 12.5],[\"$-7.5\\%$\", \"$-5\\%$\", \n",
    "                    \"$-2.5\\%$\", \"$0\\%$\", \"$2.5\\%$\",\"$5\\%$\",\"$7.5\\%$\",\"$10\\%$\",\"$12.5\\%$\" ], rotation=0)\n",
    "\n",
    "handles, labels = ax1.get_legend_handles_labels()\n",
    "fig.legend(handles, labels, loc='lower left', frameon=True,\n",
    "           fancybox=True, ncol=1, borderpad=0.1, labelspacing = 0.2, borderaxespad=0.1)\n",
    "\n",
    "\n",
    "fig.tight_layout()\n",
    "plt.show()\n",
    "fig.savefig(\"result_graph/basket_prof.svg\", format=\"svg\")"
   ]
  },
  {
   "cell_type": "code",
   "execution_count": null,
   "id": "12f8919e-930d-4e20-890e-eb9fe33aaac8",
   "metadata": {},
   "outputs": [],
   "source": []
  }
 ],
 "metadata": {
  "kernelspec": {
   "display_name": "Python 3 (ipykernel)",
   "language": "python",
   "name": "python3"
  },
  "language_info": {
   "codemirror_mode": {
    "name": "ipython",
    "version": 3
   },
   "file_extension": ".py",
   "mimetype": "text/x-python",
   "name": "python",
   "nbconvert_exporter": "python",
   "pygments_lexer": "ipython3",
   "version": "3.9.7"
  }
 },
 "nbformat": 4,
 "nbformat_minor": 5
}
