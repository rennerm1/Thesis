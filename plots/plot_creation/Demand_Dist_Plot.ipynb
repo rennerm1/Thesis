{
 "cells": [
  {
   "cell_type": "code",
   "execution_count": 1,
   "id": "a4a5133c-0376-4036-8b96-b87e18e253a8",
   "metadata": {},
   "outputs": [],
   "source": [
    "import numpy as np\n",
    "import pandas as pd\n",
    "import matplotlib.pyplot as plt\n",
    "import matplotlib.ticker as plticker\n",
    "import warnings\n",
    "warnings.filterwarnings('ignore')\n",
    "from statistics import mean\n",
    "from scipy import stats\n",
    "from itertools import permutations"
   ]
  },
  {
   "cell_type": "code",
   "execution_count": 2,
   "id": "55f76b34-6ad3-4d66-9811-8c8033501b5d",
   "metadata": {},
   "outputs": [],
   "source": [
    "tex_fonts = {\n",
    "    \"text.usetex\": True,\n",
    "    \"font.family\": \"serif\",\n",
    "    \"font.sans-serif\": [\"Palatino\"],\n",
    "    \"axes.labelsize\": 12,\n",
    "    \"font.size\": 12,\n",
    "    \"legend.fontsize\": 10,\n",
    "    \"xtick.labelsize\": 11,\n",
    "    \"ytick.labelsize\": 11\n",
    "}\n",
    "\n",
    "plt.rcParams.update(tex_fonts)"
   ]
  },
  {
   "cell_type": "code",
   "execution_count": 3,
   "id": "bd4311bc-b96c-4876-9121-5eb29e590aba",
   "metadata": {},
   "outputs": [],
   "source": [
    "def set_size(width_pt, fraction=1, subplots=(1, 1)):\n",
    "\n",
    "    # Width of figure (in pts)\n",
    "    fig_width_pt = width_pt * fraction\n",
    "    # Convert from pt to inches\n",
    "    inches_per_pt = 1 / 72.27\n",
    "\n",
    "    # Golden ratio to set aesthetic figure height\n",
    "    golden_ratio = (5**.5 - 1) / 2\n",
    "\n",
    "    # Figure width in inches\n",
    "    fig_width_in = fig_width_pt * inches_per_pt\n",
    "    # Figure height in inches\n",
    "    fig_height_in = fig_width_in * golden_ratio * (subplots[0] / subplots[1])\n",
    "\n",
    "    return (fig_width_in, fig_height_in)\n"
   ]
  },
  {
   "cell_type": "code",
   "execution_count": 12,
   "id": "6ef9929c-98c6-4e38-93d8-fe56b8956a54",
   "metadata": {},
   "outputs": [
    {
     "data": {
      "image/png": "[encoded data removed]",
      "text/plain": [
       "<Figure size 432x288 with 1 Axes>"
      ]
     },
     "metadata": {
      "needs_background": "light"
     },
     "output_type": "display_data"
    }
   ],
   "source": [
    "tri = np.random.default_rng().triangular(5, 50, 80, 100000000)\n",
    "h = plt.hist(tri, bins = 500, density = True)\n",
    "plt.show()"
   ]
  },
  {
   "cell_type": "code",
   "execution_count": 36,
   "id": "f60f70e8-8d11-4e77-8dee-9420ac064547",
   "metadata": {},
   "outputs": [
    {
     "data": {
      "image/png": "[encoded data removed]",
      "text/plain": [
       "<Figure size 443.337x273.998 with 1 Axes>"
      ]
     },
     "metadata": {},
     "output_type": "display_data"
    }
   ],
   "source": [
    "plt.style.use(\"seaborn-ticks\")\n",
    "\n",
    "fig, ax1 = plt.subplots(1,1, figsize=set_size(445))\n",
    "\n",
    "ax1.set_ylabel(\"\\\\textbf{Probability \\%}\")\n",
    "ax1.set_xlabel(\"\\\\textbf{Demand/Order in items}\")\n",
    "\n",
    "ax1.set_yticks([0.000, 0.005, 0.010, 0.015, 0.020, 0.025],[\"$0\\%$\", \"$5\\%$\", \n",
    "                    \"$10\\%$\", \"$15\\%$\", \"$20\\%$\",\"$25\\%$\"], rotation=0)\n",
    "\n",
    "ax1.yaxis.grid(True)\n",
    "plt.hist(tri, bins = 500, density = True, alpha = 0.8, color=\"#234990\")\n",
    "fig.tight_layout()\n",
    "plt.show()\n",
    "fig.savefig(\"result_graph/demand_dist.svg\", format=\"svg\")"
   ]
  },
  {
   "cell_type": "code",
   "execution_count": 19,
   "id": "10ae5291-a443-40b9-83b0-1149101f4ef5",
   "metadata": {},
   "outputs": [],
   "source": [
    "tri_low = np.random.default_rng().triangular(5, 30, 60, 100000000)\n",
    "tri_high = np.random.default_rng().triangular(25, 70, 100, 100000000)"
   ]
  },
  {
   "cell_type": "code",
   "execution_count": 42,
   "id": "226810b4-757a-4676-b4e0-44a042510e17",
   "metadata": {},
   "outputs": [
    {
     "data": {
      "image/png": "[encoded data removed]",
      "text/plain": [
       "<Figure size 443.337x273.998 with 1 Axes>"
      ]
     },
     "metadata": {},
     "output_type": "display_data"
    }
   ],
   "source": [
    "import matplotlib.lines as mlines\n",
    "import matplotlib.pyplot as plt\n",
    "import matplotlib.ticker as plticker\n",
    "\n",
    "low = mlines.Line2D([], [], color=\"#207720\", marker=\"^\", linestyle='None',\n",
    "                          markersize=10, label='Low Demand')\n",
    "mid = mlines.Line2D([], [], color=\"#234990\", marker='^', linestyle='None',\n",
    "                          markersize=10, label='Mid Demand')\n",
    "high = mlines.Line2D([], [], color = \"#E23726\", marker='^', linestyle='None',\n",
    "                          markersize=10, label='High Demand')\n",
    "\n",
    "\n",
    "plt.style.use(\"seaborn-ticks\")\n",
    "\n",
    "fig, ax1 = plt.subplots(1,1, figsize=set_size(445))\n",
    "\n",
    "ax1.set_ylabel(\"\\\\textbf{Probability \\%}\")\n",
    "ax1.set_xlabel(\"\\\\textbf{Demand/Order in items}\")\n",
    "\n",
    "\n",
    "\n",
    "ax1.hist(tri, bins = 500, density = True, alpha = 0.5, color=\"#234990\")\n",
    "ax1.hist(tri_low, bins = 500, density = True, alpha = 0.5, color= \"#207720\")\n",
    "ax1.hist(tri_high, bins = 500, density = True, alpha = 0.5, color = \"#E23726\")\n",
    "\n",
    "ax1.set_yticks([0.000, 0.005, 0.010, 0.015, 0.020, 0.025, 0.030, 0.035],[\"$0\\%$\", \"$5\\%$\", \n",
    "                    \"$10\\%$\", \"$15\\%$\", \"$20\\%$\",\"$25\\%$\",\"$30\\%$\", \"$35\\%$\" ], rotation=0)\n",
    "\n",
    "ax1.set_xticks([0, 10, 20, 30, 40, 50, 60, 70, 80, 90, 100], rotation=0)\n",
    "\n",
    "loc =plticker.MultipleLocator(base=10)\n",
    "ax1.xaxis.set_major_locator(loc)\n",
    "\n",
    "plt.legend(handles=[low, mid, high], loc= \"upper right\", labelspacing=0.4,\n",
    "         prop={\"size\":\"small\"}, fancybox = True, frameon= True)\n",
    "\n",
    "ax1.yaxis.grid(True)\n",
    "\n",
    "fig.tight_layout()\n",
    "plt.show()\n",
    "fig.savefig(\"result_graph/"
   ]
  },
  {
   "cell_type": "code",
   "execution_count": null,
   "id": "c0007efa-d67f-4599-a8f3-cbb10a62f4e9",
   "metadata": {},
   "outputs": [],
   "source": []
  }
 ],
 "metadata": {
  "kernelspec": {
   "display_name": "Python 3 (ipykernel)",
   "language": "python",
   "name": "python3"
  },
  "language_info": {
   "codemirror_mode": {
    "name": "ipython",
    "version": 3
   },
   "file_extension": ".py",
   "mimetype": "text/x-python",
   "name": "python",
   "nbconvert_exporter": "python",
   "pygments_lexer": "ipython3",
   "version": "3.9.7"
  }
 },
 "nbformat": 4,
 "nbformat_minor": 5
}
