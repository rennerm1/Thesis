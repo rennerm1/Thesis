{
 "cells": [
  {
   "cell_type": "code",
   "execution_count": 1,
   "id": "d5d995cf-c219-4e88-911d-d50ad70c68bd",
   "metadata": {},
   "outputs": [],
   "source": [
    "import numpy as np\n",
    "import matplotlib.pyplot as plt\n",
    "from pulp import *\n",
    "import pandas as pd\n",
    "from sklearn.neighbors import DistanceMetric\n",
    "from math import radians"
   ]
  },
  {
   "cell_type": "code",
   "execution_count": 2,
   "id": "1d508c25-b183-45d6-8851-6c569cd132f2",
   "metadata": {},
   "outputs": [
    {
     "data": {
      "text/html": [
       "<div>\n",
       "<style scoped>\n",
       "    .dataframe tbody tr th:only-of-type {\n",
       "        vertical-align: middle;\n",
       "    }\n",
       "\n",
       "    .dataframe tbody tr th {\n",
       "        vertical-align: top;\n",
       "    }\n",
       "\n",
       "    .dataframe thead th {\n",
       "        text-align: right;\n",
       "    }\n",
       "</style>\n",
       "<table border=\"1\" class=\"dataframe\">\n",
       "  <thead>\n",
       "    <tr style=\"text-align: right;\">\n",
       "      <th></th>\n",
       "      <th>fixed_cost_DC</th>\n",
       "      <th>capacity_DC</th>\n",
       "      <th>lat_DC</th>\n",
       "      <th>lon_DC</th>\n",
       "    </tr>\n",
       "    <tr>\n",
       "      <th>DC_ID</th>\n",
       "      <th></th>\n",
       "      <th></th>\n",
       "      <th></th>\n",
       "      <th></th>\n",
       "    </tr>\n",
       "  </thead>\n",
       "  <tbody>\n",
       "    <tr>\n",
       "      <th>DC_1</th>\n",
       "      <td>5</td>\n",
       "      <td>20</td>\n",
       "      <td>49.794783</td>\n",
       "      <td>9.906499</td>\n",
       "    </tr>\n",
       "    <tr>\n",
       "      <th>DC_2</th>\n",
       "      <td>5</td>\n",
       "      <td>20</td>\n",
       "      <td>49.816137</td>\n",
       "      <td>9.897654</td>\n",
       "    </tr>\n",
       "  </tbody>\n",
       "</table>\n",
       "</div>"
      ],
      "text/plain": [
       "       fixed_cost_DC  capacity_DC     lat_DC    lon_DC\n",
       "DC_ID                                                 \n",
       "DC_1               5           20  49.794783  9.906499\n",
       "DC_2               5           20  49.816137  9.897654"
      ]
     },
     "execution_count": 2,
     "metadata": {},
     "output_type": "execute_result"
    }
   ],
   "source": [
    "# Start of with constructing the set of all potential DC sites = I\n",
    "# Start with only 1 possible DC=DEPOT\n",
    "\n",
    "#create an index\n",
    "DC_ID = [\"DC_1\", \"DC_2\"] #, 2, 3, 4]\n",
    "\n",
    "#Gi = fixed cost for establishing depot i\n",
    "fixed_cost_DC = [5, 5] # 20, 20, 20]\n",
    "\n",
    "#Maximum Throughput at depot i = Vi\n",
    "capacity_DC = [20, 20] # 50, 50, 50]\n",
    "\n",
    "#Position of the DCs\n",
    "lat_DC = [49.794783, 49.81613668]#, 49.78379436, 49.74101263]\n",
    "lon_DC = [9.906499, 9.897654496] # 9.896245726, 9.88898842]\n",
    "\n",
    "dc_tuples = list(zip(DC_ID, fixed_cost_DC, capacity_DC, lat_DC, lon_DC))\n",
    "\n",
    "set_of_all_DC = pd.DataFrame(dc_tuples, columns = [\"DC_ID\", \"fixed_cost_DC\", \"capacity_DC\", \"lat_DC\", \"lon_DC\"])\n",
    "set_of_all_DC.set_index(\"DC_ID\", inplace = True)\n",
    "set_of_all_DC"
   ]
  },
  {
   "cell_type": "code",
   "execution_count": 3,
   "id": "1853fa4c-0f8a-4485-a022-1ffe3fd1a072",
   "metadata": {},
   "outputs": [
    {
     "data": {
      "text/plain": [
       "array(['DC_1', 'DC_2'], dtype=object)"
      ]
     },
     "execution_count": 3,
     "metadata": {},
     "output_type": "execute_result"
    }
   ],
   "source": [
    "# Define I\n",
    "I = set_of_all_DC.index.values\n",
    "I"
   ]
  },
  {
   "cell_type": "code",
   "execution_count": 4,
   "id": "137064bf-b44c-4a39-bac8-f34fd9af326e",
   "metadata": {},
   "outputs": [
    {
     "data": {
      "text/html": [
       "<div>\n",
       "<style scoped>\n",
       "    .dataframe tbody tr th:only-of-type {\n",
       "        vertical-align: middle;\n",
       "    }\n",
       "\n",
       "    .dataframe tbody tr th {\n",
       "        vertical-align: top;\n",
       "    }\n",
       "\n",
       "    .dataframe thead th {\n",
       "        text-align: right;\n",
       "    }\n",
       "</style>\n",
       "<table border=\"1\" class=\"dataframe\">\n",
       "  <thead>\n",
       "    <tr style=\"text-align: right;\">\n",
       "      <th></th>\n",
       "      <th>demand_C</th>\n",
       "      <th>lat_C</th>\n",
       "      <th>lon_C</th>\n",
       "    </tr>\n",
       "    <tr>\n",
       "      <th>C_ID</th>\n",
       "      <th></th>\n",
       "      <th></th>\n",
       "      <th></th>\n",
       "    </tr>\n",
       "  </thead>\n",
       "  <tbody>\n",
       "    <tr>\n",
       "      <th>C1</th>\n",
       "      <td>5</td>\n",
       "      <td>49.789820</td>\n",
       "      <td>9.964806</td>\n",
       "    </tr>\n",
       "    <tr>\n",
       "      <th>C2</th>\n",
       "      <td>5</td>\n",
       "      <td>49.799618</td>\n",
       "      <td>9.873297</td>\n",
       "    </tr>\n",
       "    <tr>\n",
       "      <th>C3</th>\n",
       "      <td>5</td>\n",
       "      <td>49.750602</td>\n",
       "      <td>9.919077</td>\n",
       "    </tr>\n",
       "    <tr>\n",
       "      <th>C4</th>\n",
       "      <td>5</td>\n",
       "      <td>49.799968</td>\n",
       "      <td>9.889587</td>\n",
       "    </tr>\n",
       "    <tr>\n",
       "      <th>C5</th>\n",
       "      <td>5</td>\n",
       "      <td>49.769053</td>\n",
       "      <td>9.913514</td>\n",
       "    </tr>\n",
       "  </tbody>\n",
       "</table>\n",
       "</div>"
      ],
      "text/plain": [
       "      demand_C      lat_C     lon_C\n",
       "C_ID                               \n",
       "C1           5  49.789820  9.964806\n",
       "C2           5  49.799618  9.873297\n",
       "C3           5  49.750602  9.919077\n",
       "C4           5  49.799968  9.889587\n",
       "C5           5  49.769053  9.913514"
      ]
     },
     "execution_count": 4,
     "metadata": {},
     "output_type": "execute_result"
    }
   ],
   "source": [
    "# Construct set of all potential Customers J\n",
    "\n",
    "# create index\n",
    "C_ID = [\"C1\", \"C2\", \"C3\", \"C4\", \"C5\"]\n",
    "\n",
    "# Set the demand dj\n",
    "demand_C = [5, 5, 5, 5, 5]\n",
    "\n",
    "# Position of customers\n",
    "lat_C = [49.78981985, 49.79961774, 49.75060158, 49.79996773, 49.76905279]\n",
    "lon_C = [9.964805881, 9.873297251, 9.919076627, 9.889586523, 9.913514194]\n",
    "\n",
    "c_tuples = list(zip(C_ID, demand_C, lat_C, lon_C))\n",
    "\n",
    "set_of_all_customers = pd.DataFrame(c_tuples, columns = [\"C_ID\", \"demand_C\", \"lat_C\", \"lon_C\"])\n",
    "set_of_all_customers.set_index(\"C_ID\", inplace = True)\n",
    "set_of_all_customers"
   ]
  },
  {
   "cell_type": "code",
   "execution_count": 5,
   "id": "1d76be29-004d-4230-9a68-018c2ae652c1",
   "metadata": {},
   "outputs": [
    {
     "data": {
      "text/plain": [
       "array(['C1', 'C2', 'C3', 'C4', 'C5'], dtype=object)"
      ]
     },
     "execution_count": 5,
     "metadata": {},
     "output_type": "execute_result"
    }
   ],
   "source": [
    "J = set_of_all_customers.index.values\n",
    "J"
   ]
  },
  {
   "cell_type": "code",
   "execution_count": 6,
   "id": "473b6287-773d-4f97-b92f-5769e8e7e27a",
   "metadata": {},
   "outputs": [
    {
     "data": {
      "text/html": [
       "<div>\n",
       "<style scoped>\n",
       "    .dataframe tbody tr th:only-of-type {\n",
       "        vertical-align: middle;\n",
       "    }\n",
       "\n",
       "    .dataframe tbody tr th {\n",
       "        vertical-align: top;\n",
       "    }\n",
       "\n",
       "    .dataframe thead th {\n",
       "        text-align: right;\n",
       "    }\n",
       "</style>\n",
       "<table border=\"1\" class=\"dataframe\">\n",
       "  <thead>\n",
       "    <tr style=\"text-align: right;\">\n",
       "      <th></th>\n",
       "      <th>capacity_V</th>\n",
       "      <th>fixed_cost_V</th>\n",
       "    </tr>\n",
       "    <tr>\n",
       "      <th>V_ID</th>\n",
       "      <th></th>\n",
       "      <th></th>\n",
       "    </tr>\n",
       "  </thead>\n",
       "  <tbody>\n",
       "    <tr>\n",
       "      <th>V_1</th>\n",
       "      <td>100</td>\n",
       "      <td>5</td>\n",
       "    </tr>\n",
       "    <tr>\n",
       "      <th>V_2</th>\n",
       "      <td>100</td>\n",
       "      <td>5</td>\n",
       "    </tr>\n",
       "  </tbody>\n",
       "</table>\n",
       "</div>"
      ],
      "text/plain": [
       "      capacity_V  fixed_cost_V\n",
       "V_ID                          \n",
       "V_1          100             5\n",
       "V_2          100             5"
      ]
     },
     "execution_count": 6,
     "metadata": {},
     "output_type": "execute_result"
    }
   ],
   "source": [
    "# Construct set of all vehicles K\n",
    "\n",
    "# create index\n",
    "V_ID = [\"V_1\",\"V_2\"]\n",
    "\n",
    "# Vehicle Capacity Qk\n",
    "capacity_V = [100,100]\n",
    "\n",
    "# fixed cost of using Vehicle Fk\n",
    "fixed_cost_V = [5,5]\n",
    "\n",
    "v_tuples = list(zip(V_ID, capacity_V, fixed_cost_V))\n",
    "\n",
    "set_of_all_vehicles = pd.DataFrame(v_tuples, columns = [\"V_ID\", \"capacity_V\", \"fixed_cost_V\"])\n",
    "set_of_all_vehicles.set_index(\"V_ID\", inplace=True)\n",
    "set_of_all_vehicles"
   ]
  },
  {
   "cell_type": "code",
   "execution_count": 7,
   "id": "49ba3019-9717-40e3-bfdb-2aa60196c17f",
   "metadata": {},
   "outputs": [
    {
     "data": {
      "text/plain": [
       "array(['V_1', 'V_2'], dtype=object)"
      ]
     },
     "execution_count": 7,
     "metadata": {},
     "output_type": "execute_result"
    }
   ],
   "source": [
    "K = set_of_all_vehicles.index.values\n",
    "K"
   ]
  },
  {
   "cell_type": "code",
   "execution_count": 8,
   "id": "6acd75f2-e7f6-4dea-8eee-4fe6c1f8f6d8",
   "metadata": {},
   "outputs": [
    {
     "data": {
      "text/html": [
       "<div>\n",
       "<style scoped>\n",
       "    .dataframe tbody tr th:only-of-type {\n",
       "        vertical-align: middle;\n",
       "    }\n",
       "\n",
       "    .dataframe tbody tr th {\n",
       "        vertical-align: top;\n",
       "    }\n",
       "\n",
       "    .dataframe thead th {\n",
       "        text-align: right;\n",
       "    }\n",
       "</style>\n",
       "<table border=\"1\" class=\"dataframe\">\n",
       "  <thead>\n",
       "    <tr style=\"text-align: right;\">\n",
       "      <th></th>\n",
       "      <th>C_ID</th>\n",
       "      <th>lat</th>\n",
       "      <th>lon</th>\n",
       "    </tr>\n",
       "  </thead>\n",
       "  <tbody>\n",
       "    <tr>\n",
       "      <th>0</th>\n",
       "      <td>DC_1</td>\n",
       "      <td>49.794783</td>\n",
       "      <td>9.906499</td>\n",
       "    </tr>\n",
       "    <tr>\n",
       "      <th>1</th>\n",
       "      <td>DC_2</td>\n",
       "      <td>49.816137</td>\n",
       "      <td>9.897654</td>\n",
       "    </tr>\n",
       "    <tr>\n",
       "      <th>2</th>\n",
       "      <td>C1</td>\n",
       "      <td>49.789820</td>\n",
       "      <td>9.964806</td>\n",
       "    </tr>\n",
       "    <tr>\n",
       "      <th>3</th>\n",
       "      <td>C2</td>\n",
       "      <td>49.799618</td>\n",
       "      <td>9.873297</td>\n",
       "    </tr>\n",
       "    <tr>\n",
       "      <th>4</th>\n",
       "      <td>C3</td>\n",
       "      <td>49.750602</td>\n",
       "      <td>9.919077</td>\n",
       "    </tr>\n",
       "    <tr>\n",
       "      <th>5</th>\n",
       "      <td>C4</td>\n",
       "      <td>49.799968</td>\n",
       "      <td>9.889587</td>\n",
       "    </tr>\n",
       "    <tr>\n",
       "      <th>6</th>\n",
       "      <td>C5</td>\n",
       "      <td>49.769053</td>\n",
       "      <td>9.913514</td>\n",
       "    </tr>\n",
       "  </tbody>\n",
       "</table>\n",
       "</div>"
      ],
      "text/plain": [
       "   C_ID        lat       lon\n",
       "0  DC_1  49.794783  9.906499\n",
       "1  DC_2  49.816137  9.897654\n",
       "2    C1  49.789820  9.964806\n",
       "3    C2  49.799618  9.873297\n",
       "4    C3  49.750602  9.919077\n",
       "5    C4  49.799968  9.889587\n",
       "6    C5  49.769053  9.913514"
      ]
     },
     "execution_count": 8,
     "metadata": {},
     "output_type": "execute_result"
    }
   ],
   "source": [
    "#Set up a DF for the distance matrix\n",
    "data = {\"C_ID\": [\"DC_1\",\"DC_2\", # Depot\n",
    "                \"C1\",\"C2\",\"C3\",\"C4\",\"C5\"], # Customers\n",
    "         \"lat\": [49.794783, 49.81613668, #Depot\n",
    "                 49.78981985, 49.79961774, 49.75060158, 49.79996773, 49.76905279], #Customers\n",
    "         \"lon\": [9.906499, 9.897654496, #Depot\n",
    "                 9.964805881, 9.873297251, 9.919076627, 9.889586523, 9.913514194]} #Customers\n",
    "DF = pd.DataFrame(data, columns = [\"C_ID\", \"lat\", \"lon\"])\n",
    "DF"
   ]
  },
  {
   "cell_type": "code",
   "execution_count": 9,
   "id": "7ebe5d96-9c63-4694-a525-82cd77029814",
   "metadata": {},
   "outputs": [
    {
     "data": {
      "text/html": [
       "<div>\n",
       "<style scoped>\n",
       "    .dataframe tbody tr th:only-of-type {\n",
       "        vertical-align: middle;\n",
       "    }\n",
       "\n",
       "    .dataframe tbody tr th {\n",
       "        vertical-align: top;\n",
       "    }\n",
       "\n",
       "    .dataframe thead th {\n",
       "        text-align: right;\n",
       "    }\n",
       "</style>\n",
       "<table border=\"1\" class=\"dataframe\">\n",
       "  <thead>\n",
       "    <tr style=\"text-align: right;\">\n",
       "      <th></th>\n",
       "      <th>C_ID</th>\n",
       "      <th>lat</th>\n",
       "      <th>lon</th>\n",
       "    </tr>\n",
       "  </thead>\n",
       "  <tbody>\n",
       "    <tr>\n",
       "      <th>0</th>\n",
       "      <td>DC_1</td>\n",
       "      <td>0.869083</td>\n",
       "      <td>0.172901</td>\n",
       "    </tr>\n",
       "    <tr>\n",
       "      <th>1</th>\n",
       "      <td>DC_2</td>\n",
       "      <td>0.869456</td>\n",
       "      <td>0.172747</td>\n",
       "    </tr>\n",
       "    <tr>\n",
       "      <th>2</th>\n",
       "      <td>C1</td>\n",
       "      <td>0.868996</td>\n",
       "      <td>0.173919</td>\n",
       "    </tr>\n",
       "    <tr>\n",
       "      <th>3</th>\n",
       "      <td>C2</td>\n",
       "      <td>0.869167</td>\n",
       "      <td>0.172322</td>\n",
       "    </tr>\n",
       "    <tr>\n",
       "      <th>4</th>\n",
       "      <td>C3</td>\n",
       "      <td>0.868312</td>\n",
       "      <td>0.173121</td>\n",
       "    </tr>\n",
       "    <tr>\n",
       "      <th>5</th>\n",
       "      <td>C4</td>\n",
       "      <td>0.869173</td>\n",
       "      <td>0.172606</td>\n",
       "    </tr>\n",
       "    <tr>\n",
       "      <th>6</th>\n",
       "      <td>C5</td>\n",
       "      <td>0.868634</td>\n",
       "      <td>0.173023</td>\n",
       "    </tr>\n",
       "  </tbody>\n",
       "</table>\n",
       "</div>"
      ],
      "text/plain": [
       "   C_ID       lat       lon\n",
       "0  DC_1  0.869083  0.172901\n",
       "1  DC_2  0.869456  0.172747\n",
       "2    C1  0.868996  0.173919\n",
       "3    C2  0.869167  0.172322\n",
       "4    C3  0.868312  0.173121\n",
       "5    C4  0.869173  0.172606\n",
       "6    C5  0.868634  0.173023"
      ]
     },
     "execution_count": 9,
     "metadata": {},
     "output_type": "execute_result"
    }
   ],
   "source": [
    "DF['lat'] = np.radians(DF['lat'])\n",
    "DF['lon'] = np.radians(DF['lon'])\n",
    "DF"
   ]
  },
  {
   "cell_type": "code",
   "execution_count": 10,
   "id": "8c4ce646-454b-40b7-a214-b90e1c33259b",
   "metadata": {},
   "outputs": [],
   "source": [
    "dist = DistanceMetric.get_metric(\"haversine\")"
   ]
  },
  {
   "cell_type": "code",
   "execution_count": 11,
   "id": "13de63da-bdf3-4b1d-8fcb-d9f0f88762b4",
   "metadata": {},
   "outputs": [
    {
     "data": {
      "text/plain": [
       "array([[0.86908291, 0.17290102],\n",
       "       [0.86945561, 0.17274666],\n",
       "       [0.86899629, 0.17391867],\n",
       "       [0.8691673 , 0.17232155],\n",
       "       [0.8683118 , 0.17312055],\n",
       "       [0.8691734 , 0.17260585],\n",
       "       [0.86863384, 0.17302346]])"
      ]
     },
     "execution_count": 11,
     "metadata": {},
     "output_type": "execute_result"
    }
   ],
   "source": [
    "DF[[\"lat\", \"lon\"]].to_numpy()"
   ]
  },
  {
   "cell_type": "code",
   "execution_count": 12,
   "id": "4c8be039-8f6c-4e0b-a228-8befab797327",
   "metadata": {},
   "outputs": [
    {
     "data": {
      "text/html": [
       "<div>\n",
       "<style scoped>\n",
       "    .dataframe tbody tr th:only-of-type {\n",
       "        vertical-align: middle;\n",
       "    }\n",
       "\n",
       "    .dataframe tbody tr th {\n",
       "        vertical-align: top;\n",
       "    }\n",
       "\n",
       "    .dataframe thead th {\n",
       "        text-align: right;\n",
       "    }\n",
       "</style>\n",
       "<table border=\"1\" class=\"dataframe\">\n",
       "  <thead>\n",
       "    <tr style=\"text-align: right;\">\n",
       "      <th></th>\n",
       "      <th>DC_1</th>\n",
       "      <th>DC_2</th>\n",
       "      <th>C1</th>\n",
       "      <th>C2</th>\n",
       "      <th>C3</th>\n",
       "      <th>C4</th>\n",
       "      <th>C5</th>\n",
       "    </tr>\n",
       "  </thead>\n",
       "  <tbody>\n",
       "    <tr>\n",
       "      <th>DC_1</th>\n",
       "      <td>0.0</td>\n",
       "      <td>2460.5</td>\n",
       "      <td>4226.4</td>\n",
       "      <td>2445.7</td>\n",
       "      <td>5000.7</td>\n",
       "      <td>1345.3</td>\n",
       "      <td>2908.3</td>\n",
       "    </tr>\n",
       "    <tr>\n",
       "      <th>DC_2</th>\n",
       "      <td>2460.5</td>\n",
       "      <td>0.0</td>\n",
       "      <td>5644.4</td>\n",
       "      <td>2538.4</td>\n",
       "      <td>7456.0</td>\n",
       "      <td>1890.9</td>\n",
       "      <td>5363.8</td>\n",
       "    </tr>\n",
       "    <tr>\n",
       "      <th>C1</th>\n",
       "      <td>4226.4</td>\n",
       "      <td>5644.4</td>\n",
       "      <td>0.0</td>\n",
       "      <td>6665.6</td>\n",
       "      <td>5465.2</td>\n",
       "      <td>5522.0</td>\n",
       "      <td>4351.8</td>\n",
       "    </tr>\n",
       "    <tr>\n",
       "      <th>C2</th>\n",
       "      <td>2445.7</td>\n",
       "      <td>2538.4</td>\n",
       "      <td>6665.6</td>\n",
       "      <td>0.0</td>\n",
       "      <td>6372.1</td>\n",
       "      <td>1171.1</td>\n",
       "      <td>4464.5</td>\n",
       "    </tr>\n",
       "    <tr>\n",
       "      <th>C3</th>\n",
       "      <td>5000.7</td>\n",
       "      <td>7456.0</td>\n",
       "      <td>5465.2</td>\n",
       "      <td>6372.1</td>\n",
       "      <td>0.0</td>\n",
       "      <td>5890.1</td>\n",
       "      <td>2092.6</td>\n",
       "    </tr>\n",
       "    <tr>\n",
       "      <th>C4</th>\n",
       "      <td>1345.3</td>\n",
       "      <td>1890.9</td>\n",
       "      <td>5522.0</td>\n",
       "      <td>1171.1</td>\n",
       "      <td>5890.1</td>\n",
       "      <td>0.0</td>\n",
       "      <td>3847.2</td>\n",
       "    </tr>\n",
       "    <tr>\n",
       "      <th>C5</th>\n",
       "      <td>2908.3</td>\n",
       "      <td>5363.8</td>\n",
       "      <td>4351.8</td>\n",
       "      <td>4464.5</td>\n",
       "      <td>2092.6</td>\n",
       "      <td>3847.2</td>\n",
       "      <td>0.0</td>\n",
       "    </tr>\n",
       "  </tbody>\n",
       "</table>\n",
       "</div>"
      ],
      "text/plain": [
       "        DC_1    DC_2      C1      C2      C3      C4      C5\n",
       "DC_1     0.0  2460.5  4226.4  2445.7  5000.7  1345.3  2908.3\n",
       "DC_2  2460.5     0.0  5644.4  2538.4  7456.0  1890.9  5363.8\n",
       "C1    4226.4  5644.4     0.0  6665.6  5465.2  5522.0  4351.8\n",
       "C2    2445.7  2538.4  6665.6     0.0  6372.1  1171.1  4464.5\n",
       "C3    5000.7  7456.0  5465.2  6372.1     0.0  5890.1  2092.6\n",
       "C4    1345.3  1890.9  5522.0  1171.1  5890.1     0.0  3847.2\n",
       "C5    2908.3  5363.8  4351.8  4464.5  2092.6  3847.2     0.0"
      ]
     },
     "execution_count": 12,
     "metadata": {},
     "output_type": "execute_result"
    }
   ],
   "source": [
    "#Create the dist matrix in meters\n",
    "dist_matrix = pd.DataFrame(dist.pairwise(DF[[\"lat\", \"lon\"]].to_numpy())*6378100, columns=DF.C_ID.unique(), index=DF.C_ID.unique())\n",
    "dist_matrix.round(1)"
   ]
  },
  {
   "cell_type": "code",
   "execution_count": 13,
   "id": "06f59e4b-95f8-4040-8aad-48c169be45f0",
   "metadata": {},
   "outputs": [
    {
     "data": {
      "text/html": [
       "<div>\n",
       "<style scoped>\n",
       "    .dataframe tbody tr th:only-of-type {\n",
       "        vertical-align: middle;\n",
       "    }\n",
       "\n",
       "    .dataframe tbody tr th {\n",
       "        vertical-align: top;\n",
       "    }\n",
       "\n",
       "    .dataframe thead th {\n",
       "        text-align: right;\n",
       "    }\n",
       "</style>\n",
       "<table border=\"1\" class=\"dataframe\">\n",
       "  <thead>\n",
       "    <tr style=\"text-align: right;\">\n",
       "      <th></th>\n",
       "      <th>DC_1</th>\n",
       "      <th>DC_2</th>\n",
       "      <th>C1</th>\n",
       "      <th>C2</th>\n",
       "      <th>C3</th>\n",
       "      <th>C4</th>\n",
       "      <th>C5</th>\n",
       "    </tr>\n",
       "  </thead>\n",
       "  <tbody>\n",
       "    <tr>\n",
       "      <th>DC_1</th>\n",
       "      <td>0</td>\n",
       "      <td>2460</td>\n",
       "      <td>4226</td>\n",
       "      <td>2445</td>\n",
       "      <td>5000</td>\n",
       "      <td>1345</td>\n",
       "      <td>2908</td>\n",
       "    </tr>\n",
       "    <tr>\n",
       "      <th>DC_2</th>\n",
       "      <td>2460</td>\n",
       "      <td>0</td>\n",
       "      <td>5644</td>\n",
       "      <td>2538</td>\n",
       "      <td>7456</td>\n",
       "      <td>1890</td>\n",
       "      <td>5363</td>\n",
       "    </tr>\n",
       "    <tr>\n",
       "      <th>C1</th>\n",
       "      <td>4226</td>\n",
       "      <td>5644</td>\n",
       "      <td>0</td>\n",
       "      <td>6665</td>\n",
       "      <td>5465</td>\n",
       "      <td>5521</td>\n",
       "      <td>4351</td>\n",
       "    </tr>\n",
       "    <tr>\n",
       "      <th>C2</th>\n",
       "      <td>2445</td>\n",
       "      <td>2538</td>\n",
       "      <td>6665</td>\n",
       "      <td>0</td>\n",
       "      <td>6372</td>\n",
       "      <td>1171</td>\n",
       "      <td>4464</td>\n",
       "    </tr>\n",
       "    <tr>\n",
       "      <th>C3</th>\n",
       "      <td>5000</td>\n",
       "      <td>7456</td>\n",
       "      <td>5465</td>\n",
       "      <td>6372</td>\n",
       "      <td>0</td>\n",
       "      <td>5890</td>\n",
       "      <td>2092</td>\n",
       "    </tr>\n",
       "    <tr>\n",
       "      <th>C4</th>\n",
       "      <td>1345</td>\n",
       "      <td>1890</td>\n",
       "      <td>5521</td>\n",
       "      <td>1171</td>\n",
       "      <td>5890</td>\n",
       "      <td>0</td>\n",
       "      <td>3847</td>\n",
       "    </tr>\n",
       "    <tr>\n",
       "      <th>C5</th>\n",
       "      <td>2908</td>\n",
       "      <td>5363</td>\n",
       "      <td>4351</td>\n",
       "      <td>4464</td>\n",
       "      <td>2092</td>\n",
       "      <td>3847</td>\n",
       "      <td>0</td>\n",
       "    </tr>\n",
       "  </tbody>\n",
       "</table>\n",
       "</div>"
      ],
      "text/plain": [
       "      DC_1  DC_2    C1    C2    C3    C4    C5\n",
       "DC_1     0  2460  4226  2445  5000  1345  2908\n",
       "DC_2  2460     0  5644  2538  7456  1890  5363\n",
       "C1    4226  5644     0  6665  5465  5521  4351\n",
       "C2    2445  2538  6665     0  6372  1171  4464\n",
       "C3    5000  7456  5465  6372     0  5890  2092\n",
       "C4    1345  1890  5521  1171  5890     0  3847\n",
       "C5    2908  5363  4351  4464  2092  3847     0"
      ]
     },
     "execution_count": 13,
     "metadata": {},
     "output_type": "execute_result"
    }
   ],
   "source": [
    "#convert to int\n",
    "dist_mat1 = dist_matrix.astype(int)\n",
    "dist_mat1"
   ]
  },
  {
   "cell_type": "code",
   "execution_count": 14,
   "id": "a778a0e5-06d4-40d4-baf8-99efebc32dfa",
   "metadata": {},
   "outputs": [
    {
     "data": {
      "text/plain": [
       "[('DC_1', 'DC_2', 'V_1'),\n",
       " ('DC_1', 'DC_2', 'V_2'),\n",
       " ('DC_2', 'DC_1', 'V_1'),\n",
       " ('DC_2', 'DC_1', 'V_2')]"
      ]
     },
     "execution_count": 14,
     "metadata": {},
     "output_type": "execute_result"
    }
   ],
   "source": [
    "#Test to include from warehouse to warehouse. See if the constraints work then\n",
    "R123 = [(j,i,k) for j in I for i in I if i!=j for k in K]\n",
    "R123"
   ]
  },
  {
   "cell_type": "code",
   "execution_count": 15,
   "id": "ddd9b75d-67aa-48cc-b5c5-92ae534ba268",
   "metadata": {},
   "outputs": [],
   "source": [
    "R1 = [(i,j,k) for i in J for j in J if i != j for k in K]\n",
    "R2 = [(i,j,k) for i in I for j in J if i!=j for k in K]\n",
    "R3 = [(j,i,k) for j in J for i in I if i!=j for k in K]\n",
    "R123 = [(j,i,k) for j in I for i in I if i!=j for k in K]\n",
    "R1 += R2\n",
    "R1 += R3\n",
    "R1 += R123\n",
    "#R1"
   ]
  },
  {
   "cell_type": "code",
   "execution_count": 16,
   "id": "e37206db-ffcd-45ef-a394-a0f70f3be303",
   "metadata": {},
   "outputs": [
    {
     "data": {
      "text/html": [
       "<div>\n",
       "<style scoped>\n",
       "    .dataframe tbody tr th:only-of-type {\n",
       "        vertical-align: middle;\n",
       "    }\n",
       "\n",
       "    .dataframe tbody tr th {\n",
       "        vertical-align: top;\n",
       "    }\n",
       "\n",
       "    .dataframe thead th {\n",
       "        text-align: right;\n",
       "    }\n",
       "</style>\n",
       "<table border=\"1\" class=\"dataframe\">\n",
       "  <thead>\n",
       "    <tr style=\"text-align: right;\">\n",
       "      <th></th>\n",
       "      <th></th>\n",
       "      <th></th>\n",
       "    </tr>\n",
       "    <tr>\n",
       "      <th>start</th>\n",
       "      <th>end</th>\n",
       "      <th>vehicle</th>\n",
       "    </tr>\n",
       "  </thead>\n",
       "  <tbody>\n",
       "    <tr>\n",
       "      <th>C5</th>\n",
       "      <th>DC_2</th>\n",
       "      <th>V_2</th>\n",
       "    </tr>\n",
       "    <tr>\n",
       "      <th rowspan=\"2\" valign=\"top\">DC_1</th>\n",
       "      <th rowspan=\"2\" valign=\"top\">DC_2</th>\n",
       "      <th>V_1</th>\n",
       "    </tr>\n",
       "    <tr>\n",
       "      <th>V_2</th>\n",
       "    </tr>\n",
       "    <tr>\n",
       "      <th rowspan=\"2\" valign=\"top\">DC_2</th>\n",
       "      <th rowspan=\"2\" valign=\"top\">DC_1</th>\n",
       "      <th>V_1</th>\n",
       "    </tr>\n",
       "    <tr>\n",
       "      <th>V_2</th>\n",
       "    </tr>\n",
       "  </tbody>\n",
       "</table>\n",
       "</div>"
      ],
      "text/plain": [
       "Empty DataFrame\n",
       "Columns: []\n",
       "Index: [(C5, DC_2, V_2), (DC_1, DC_2, V_1), (DC_1, DC_2, V_2), (DC_2, DC_1, V_1), (DC_2, DC_1, V_2)]"
      ]
     },
     "execution_count": 16,
     "metadata": {},
     "output_type": "execute_result"
    }
   ],
   "source": [
    "df3 = pd.DataFrame(R1, columns = [\"start\", \"end\",\"vehicle\"])\n",
    "df3.set_index([\"start\",\"end\", \"vehicle\"], inplace=True)\n",
    "df3.tail(5)"
   ]
  },
  {
   "cell_type": "code",
   "execution_count": 17,
   "id": "015a1f7f-ba70-4f6f-b1da-2c5135da16fe",
   "metadata": {},
   "outputs": [],
   "source": [
    "# Add distances manually, dont know how to do this better\n",
    "distances_routes2 = [6665.6, 6665.6, 5465.2, 5465.2, 5522.0, 5522.0,4351.8,4351.8,\n",
    "                    6665.6, 6665.6, 6372.1, 6372.1,\t1171.1,1171.1,\t4464.5, 4464.5,\n",
    "                    5465.2, 5465.2,\t6372.1, 6372.1, 5890.1, 5890.1,\t2092.6, 2092.6,\n",
    "                    5522.0, 5522.0,\t1171.1, 1171.1,\t5890.1, 5890.1, 3847.2, 3847.2,\n",
    "                    4351.8, 4351.8,\t4464.5, 4464.5,\t2092.6, 2092.6,\t3847.2, 3847.2,\n",
    "                    4226.4, 4226.4,\t2445.7, 2445.7,\t5000.7, 5000.7,\t1345.3, 1345.3,\t2908.3, 2908.3,\n",
    "                    5644.4, 5644.4, 2538.4, 2538.4, 7456.0, 7456.0,\t1890.9, 1890.9,\t5363.8, 5363.8,\n",
    "                    4226.4, 4226.4, 5644.4, 5644.4, 2445.7, 2445.7, 2538.4, 2538.4, 5000.7, 5000.7, 7456.0, 7456.0, #C1, C2, C3 - DC_1, DC_2\n",
    "                    1345.3, 1345.3, 1890.9, 1890.9, 2908.3, 2908.3, 5363.8, 5363.8,\n",
    "                    2460.5,2460.5, 2460.5,2460.5] #Connection between DCs, might remove later again\n",
    "                     \t\t\n",
    "df3[\"Distance\"] = distances_routes2\n",
    "R_df = df3"
   ]
  },
  {
   "cell_type": "code",
   "execution_count": 18,
   "id": "da20b151-027c-4f56-ab71-95e0aab4b2bd",
   "metadata": {},
   "outputs": [
    {
     "data": {
      "text/plain": [
       "array([('C1', 'C2', 'V_1'), ('C1', 'C2', 'V_2'), ('C1', 'C3', 'V_1'),\n",
       "       ('C1', 'C3', 'V_2'), ('C1', 'C4', 'V_1'), ('C1', 'C4', 'V_2'),\n",
       "       ('C1', 'C5', 'V_1'), ('C1', 'C5', 'V_2'), ('C2', 'C1', 'V_1'),\n",
       "       ('C2', 'C1', 'V_2'), ('C2', 'C3', 'V_1'), ('C2', 'C3', 'V_2'),\n",
       "       ('C2', 'C4', 'V_1'), ('C2', 'C4', 'V_2'), ('C2', 'C5', 'V_1'),\n",
       "       ('C2', 'C5', 'V_2'), ('C3', 'C1', 'V_1'), ('C3', 'C1', 'V_2'),\n",
       "       ('C3', 'C2', 'V_1'), ('C3', 'C2', 'V_2'), ('C3', 'C4', 'V_1'),\n",
       "       ('C3', 'C4', 'V_2'), ('C3', 'C5', 'V_1'), ('C3', 'C5', 'V_2'),\n",
       "       ('C4', 'C1', 'V_1'), ('C4', 'C1', 'V_2'), ('C4', 'C2', 'V_1'),\n",
       "       ('C4', 'C2', 'V_2'), ('C4', 'C3', 'V_1'), ('C4', 'C3', 'V_2'),\n",
       "       ('C4', 'C5', 'V_1'), ('C4', 'C5', 'V_2'), ('C5', 'C1', 'V_1'),\n",
       "       ('C5', 'C1', 'V_2'), ('C5', 'C2', 'V_1'), ('C5', 'C2', 'V_2'),\n",
       "       ('C5', 'C3', 'V_1'), ('C5', 'C3', 'V_2'), ('C5', 'C4', 'V_1'),\n",
       "       ('C5', 'C4', 'V_2'), ('DC_1', 'C1', 'V_1'), ('DC_1', 'C1', 'V_2'),\n",
       "       ('DC_1', 'C2', 'V_1'), ('DC_1', 'C2', 'V_2'),\n",
       "       ('DC_1', 'C3', 'V_1'), ('DC_1', 'C3', 'V_2'),\n",
       "       ('DC_1', 'C4', 'V_1'), ('DC_1', 'C4', 'V_2'),\n",
       "       ('DC_1', 'C5', 'V_1'), ('DC_1', 'C5', 'V_2'),\n",
       "       ('DC_2', 'C1', 'V_1'), ('DC_2', 'C1', 'V_2'),\n",
       "       ('DC_2', 'C2', 'V_1'), ('DC_2', 'C2', 'V_2'),\n",
       "       ('DC_2', 'C3', 'V_1'), ('DC_2', 'C3', 'V_2'),\n",
       "       ('DC_2', 'C4', 'V_1'), ('DC_2', 'C4', 'V_2'),\n",
       "       ('DC_2', 'C5', 'V_1'), ('DC_2', 'C5', 'V_2'),\n",
       "       ('C1', 'DC_1', 'V_1'), ('C1', 'DC_1', 'V_2'),\n",
       "       ('C1', 'DC_2', 'V_1'), ('C1', 'DC_2', 'V_2'),\n",
       "       ('C2', 'DC_1', 'V_1'), ('C2', 'DC_1', 'V_2'),\n",
       "       ('C2', 'DC_2', 'V_1'), ('C2', 'DC_2', 'V_2'),\n",
       "       ('C3', 'DC_1', 'V_1'), ('C3', 'DC_1', 'V_2'),\n",
       "       ('C3', 'DC_2', 'V_1'), ('C3', 'DC_2', 'V_2'),\n",
       "       ('C4', 'DC_1', 'V_1'), ('C4', 'DC_1', 'V_2'),\n",
       "       ('C4', 'DC_2', 'V_1'), ('C4', 'DC_2', 'V_2'),\n",
       "       ('C5', 'DC_1', 'V_1'), ('C5', 'DC_1', 'V_2'),\n",
       "       ('C5', 'DC_2', 'V_1'), ('C5', 'DC_2', 'V_2'),\n",
       "       ('DC_1', 'DC_2', 'V_1'), ('DC_1', 'DC_2', 'V_2'),\n",
       "       ('DC_2', 'DC_1', 'V_1'), ('DC_2', 'DC_1', 'V_2')], dtype=object)"
      ]
     },
     "execution_count": 18,
     "metadata": {},
     "output_type": "execute_result"
    }
   ],
   "source": [
    "R = R_df.index.values\n",
    "R"
   ]
  },
  {
   "cell_type": "code",
   "execution_count": 19,
   "id": "c525aa7a-dfa8-42f0-8728-ae16097e4676",
   "metadata": {},
   "outputs": [],
   "source": [
    "model = LpProblem(\"LRP\", LpMinimize)"
   ]
  },
  {
   "cell_type": "code",
   "execution_count": 20,
   "id": "27d51b93-73b7-4763-8ae3-f354fb07754c",
   "metadata": {},
   "outputs": [
    {
     "data": {
      "text/plain": [
       "{'DC_1': {'DC_1': {'V_1': x_DC_1_DC_1_V_1, 'V_2': x_DC_1_DC_1_V_2},\n",
       "  'DC_2': {'V_1': x_DC_1_DC_2_V_1, 'V_2': x_DC_1_DC_2_V_2},\n",
       "  'C1': {'V_1': x_DC_1_C1_V_1, 'V_2': x_DC_1_C1_V_2},\n",
       "  'C2': {'V_1': x_DC_1_C2_V_1, 'V_2': x_DC_1_C2_V_2},\n",
       "  'C3': {'V_1': x_DC_1_C3_V_1, 'V_2': x_DC_1_C3_V_2},\n",
       "  'C4': {'V_1': x_DC_1_C4_V_1, 'V_2': x_DC_1_C4_V_2},\n",
       "  'C5': {'V_1': x_DC_1_C5_V_1, 'V_2': x_DC_1_C5_V_2}},\n",
       " 'DC_2': {'DC_1': {'V_1': x_DC_2_DC_1_V_1, 'V_2': x_DC_2_DC_1_V_2},\n",
       "  'DC_2': {'V_1': x_DC_2_DC_2_V_1, 'V_2': x_DC_2_DC_2_V_2},\n",
       "  'C1': {'V_1': x_DC_2_C1_V_1, 'V_2': x_DC_2_C1_V_2},\n",
       "  'C2': {'V_1': x_DC_2_C2_V_1, 'V_2': x_DC_2_C2_V_2},\n",
       "  'C3': {'V_1': x_DC_2_C3_V_1, 'V_2': x_DC_2_C3_V_2},\n",
       "  'C4': {'V_1': x_DC_2_C4_V_1, 'V_2': x_DC_2_C4_V_2},\n",
       "  'C5': {'V_1': x_DC_2_C5_V_1, 'V_2': x_DC_2_C5_V_2}},\n",
       " 'C1': {'DC_1': {'V_1': x_C1_DC_1_V_1, 'V_2': x_C1_DC_1_V_2},\n",
       "  'DC_2': {'V_1': x_C1_DC_2_V_1, 'V_2': x_C1_DC_2_V_2},\n",
       "  'C1': {'V_1': x_C1_C1_V_1, 'V_2': x_C1_C1_V_2},\n",
       "  'C2': {'V_1': x_C1_C2_V_1, 'V_2': x_C1_C2_V_2},\n",
       "  'C3': {'V_1': x_C1_C3_V_1, 'V_2': x_C1_C3_V_2},\n",
       "  'C4': {'V_1': x_C1_C4_V_1, 'V_2': x_C1_C4_V_2},\n",
       "  'C5': {'V_1': x_C1_C5_V_1, 'V_2': x_C1_C5_V_2}},\n",
       " 'C2': {'DC_1': {'V_1': x_C2_DC_1_V_1, 'V_2': x_C2_DC_1_V_2},\n",
       "  'DC_2': {'V_1': x_C2_DC_2_V_1, 'V_2': x_C2_DC_2_V_2},\n",
       "  'C1': {'V_1': x_C2_C1_V_1, 'V_2': x_C2_C1_V_2},\n",
       "  'C2': {'V_1': x_C2_C2_V_1, 'V_2': x_C2_C2_V_2},\n",
       "  'C3': {'V_1': x_C2_C3_V_1, 'V_2': x_C2_C3_V_2},\n",
       "  'C4': {'V_1': x_C2_C4_V_1, 'V_2': x_C2_C4_V_2},\n",
       "  'C5': {'V_1': x_C2_C5_V_1, 'V_2': x_C2_C5_V_2}},\n",
       " 'C3': {'DC_1': {'V_1': x_C3_DC_1_V_1, 'V_2': x_C3_DC_1_V_2},\n",
       "  'DC_2': {'V_1': x_C3_DC_2_V_1, 'V_2': x_C3_DC_2_V_2},\n",
       "  'C1': {'V_1': x_C3_C1_V_1, 'V_2': x_C3_C1_V_2},\n",
       "  'C2': {'V_1': x_C3_C2_V_1, 'V_2': x_C3_C2_V_2},\n",
       "  'C3': {'V_1': x_C3_C3_V_1, 'V_2': x_C3_C3_V_2},\n",
       "  'C4': {'V_1': x_C3_C4_V_1, 'V_2': x_C3_C4_V_2},\n",
       "  'C5': {'V_1': x_C3_C5_V_1, 'V_2': x_C3_C5_V_2}},\n",
       " 'C4': {'DC_1': {'V_1': x_C4_DC_1_V_1, 'V_2': x_C4_DC_1_V_2},\n",
       "  'DC_2': {'V_1': x_C4_DC_2_V_1, 'V_2': x_C4_DC_2_V_2},\n",
       "  'C1': {'V_1': x_C4_C1_V_1, 'V_2': x_C4_C1_V_2},\n",
       "  'C2': {'V_1': x_C4_C2_V_1, 'V_2': x_C4_C2_V_2},\n",
       "  'C3': {'V_1': x_C4_C3_V_1, 'V_2': x_C4_C3_V_2},\n",
       "  'C4': {'V_1': x_C4_C4_V_1, 'V_2': x_C4_C4_V_2},\n",
       "  'C5': {'V_1': x_C4_C5_V_1, 'V_2': x_C4_C5_V_2}},\n",
       " 'C5': {'DC_1': {'V_1': x_C5_DC_1_V_1, 'V_2': x_C5_DC_1_V_2},\n",
       "  'DC_2': {'V_1': x_C5_DC_2_V_1, 'V_2': x_C5_DC_2_V_2},\n",
       "  'C1': {'V_1': x_C5_C1_V_1, 'V_2': x_C5_C1_V_2},\n",
       "  'C2': {'V_1': x_C5_C2_V_1, 'V_2': x_C5_C2_V_2},\n",
       "  'C3': {'V_1': x_C5_C3_V_1, 'V_2': x_C5_C3_V_2},\n",
       "  'C4': {'V_1': x_C5_C4_V_1, 'V_2': x_C5_C4_V_2},\n",
       "  'C5': {'V_1': x_C5_C5_V_1, 'V_2': x_C5_C5_V_2}}}"
      ]
     },
     "execution_count": 20,
     "metadata": {},
     "output_type": "execute_result"
    }
   ],
   "source": [
    "# new X\n",
    "x = LpVariable.dicts(name = \"x\", indexs=([*I,*J],[*I,*J],K), cat = \"Binary\")\n",
    "x"
   ]
  },
  {
   "cell_type": "code",
   "execution_count": 21,
   "id": "0ea9b012-6605-4326-aa6c-0d0aba6fe6d1",
   "metadata": {},
   "outputs": [
    {
     "data": {
      "text/plain": [
       "{'DC_1': y_DC_1, 'DC_2': y_DC_2}"
      ]
     },
     "execution_count": 21,
     "metadata": {},
     "output_type": "execute_result"
    }
   ],
   "source": [
    "y = LpVariable.dicts(name = \"y\", indexs=I, cat = \"Binary\")\n",
    "y"
   ]
  },
  {
   "cell_type": "code",
   "execution_count": 22,
   "id": "bf201fbc-88fe-4d53-936f-5089b1237cf6",
   "metadata": {},
   "outputs": [
    {
     "data": {
      "text/plain": [
       "{'DC_1': {'C1': z_DC_1_C1,\n",
       "  'C2': z_DC_1_C2,\n",
       "  'C3': z_DC_1_C3,\n",
       "  'C4': z_DC_1_C4,\n",
       "  'C5': z_DC_1_C5},\n",
       " 'DC_2': {'C1': z_DC_2_C1,\n",
       "  'C2': z_DC_2_C2,\n",
       "  'C3': z_DC_2_C3,\n",
       "  'C4': z_DC_2_C4,\n",
       "  'C5': z_DC_2_C5}}"
      ]
     },
     "execution_count": 22,
     "metadata": {},
     "output_type": "execute_result"
    }
   ],
   "source": [
    "# new\n",
    "z = LpVariable.dicts(name = \"z\", indexs = (I,J), cat = \"Binary\")\n",
    "z"
   ]
  },
  {
   "cell_type": "code",
   "execution_count": 23,
   "id": "ec391245-ceb2-4061-9ca0-a046bc2475cd",
   "metadata": {},
   "outputs": [
    {
     "data": {
      "text/plain": [
       "{('C1', 'V_1'): u_('C1',_'V_1'),\n",
       " ('C1', 'V_2'): u_('C1',_'V_2'),\n",
       " ('C2', 'V_1'): u_('C2',_'V_1'),\n",
       " ('C2', 'V_2'): u_('C2',_'V_2'),\n",
       " ('C3', 'V_1'): u_('C3',_'V_1'),\n",
       " ('C3', 'V_2'): u_('C3',_'V_2'),\n",
       " ('C4', 'V_1'): u_('C4',_'V_1'),\n",
       " ('C4', 'V_2'): u_('C4',_'V_2'),\n",
       " ('C5', 'V_1'): u_('C5',_'V_1'),\n",
       " ('C5', 'V_2'): u_('C5',_'V_2')}"
      ]
     },
     "execution_count": 23,
     "metadata": {},
     "output_type": "execute_result"
    }
   ],
   "source": [
    "U = [(l,k) for l in J for k in K]\n",
    "u = LpVariable.dicts(name = \"u\", indexs = U, lowBound = 0, cat = \"Continuous\")\n",
    "u"
   ]
  },
  {
   "cell_type": "code",
   "execution_count": 24,
   "id": "705c85ba-e4d2-4ed9-afa8-363d574c6a4b",
   "metadata": {},
   "outputs": [],
   "source": [
    "# Objective Function New\n",
    "# Gi * yi\n",
    "fixedCost_depot = lpSum([y[i] * set_of_all_DC.loc[i].fixed_cost_DC for i in I])\n",
    "\n",
    "# Cij * Xijk\n",
    "\n",
    "variableCosts = lpSum([[x[i][j][k]] * dist_mat1.loc[i,j] for i in [*I,*J] for j in [*I,*J] for k in K if i!=j])\n",
    "\n",
    "# Fk * Xijk\n",
    "\n",
    "fixedCost_vehicle = lpSum([[x[i][j][k]] * set_of_all_vehicles.loc[k].fixed_cost_V  for i in [*I,*J] for j in [*I,*J] for k in K if i!=j])"
   ]
  },
  {
   "cell_type": "code",
   "execution_count": 25,
   "id": "48484957-ac1b-495d-bb2d-ead9b8532fe7",
   "metadata": {},
   "outputs": [
    {
     "data": {
      "text/plain": [
       "5.0*y_DC_1 + 5.0*y_DC_2 + 0.0"
      ]
     },
     "execution_count": 25,
     "metadata": {},
     "output_type": "execute_result"
    }
   ],
   "source": [
    "fixedCost_depot"
   ]
  },
  {
   "cell_type": "code",
   "execution_count": 26,
   "id": "f23861f9-8644-4e6c-82bb-03f1a2d8c001",
   "metadata": {},
   "outputs": [
    {
     "data": {
      "text/plain": [
       "6665*x_C1_C2_V_1 + 6665*x_C1_C2_V_2 + 5465*x_C1_C3_V_1 + 5465*x_C1_C3_V_2 + 5521*x_C1_C4_V_1 + 5521*x_C1_C4_V_2 + 4351*x_C1_C5_V_1 + 4351*x_C1_C5_V_2 + 4226*x_C1_DC_1_V_1 + 4226*x_C1_DC_1_V_2 + 5644*x_C1_DC_2_V_1 + 5644*x_C1_DC_2_V_2 + 6665*x_C2_C1_V_1 + 6665*x_C2_C1_V_2 + 6372*x_C2_C3_V_1 + 6372*x_C2_C3_V_2 + 1171*x_C2_C4_V_1 + 1171*x_C2_C4_V_2 + 4464*x_C2_C5_V_1 + 4464*x_C2_C5_V_2 + 2445*x_C2_DC_1_V_1 + 2445*x_C2_DC_1_V_2 + 2538*x_C2_DC_2_V_1 + 2538*x_C2_DC_2_V_2 + 5465*x_C3_C1_V_1 + 5465*x_C3_C1_V_2 + 6372*x_C3_C2_V_1 + 6372*x_C3_C2_V_2 + 5890*x_C3_C4_V_1 + 5890*x_C3_C4_V_2 + 2092*x_C3_C5_V_1 + 2092*x_C3_C5_V_2 + 5000*x_C3_DC_1_V_1 + 5000*x_C3_DC_1_V_2 + 7456*x_C3_DC_2_V_1 + 7456*x_C3_DC_2_V_2 + 5521*x_C4_C1_V_1 + 5521*x_C4_C1_V_2 + 1171*x_C4_C2_V_1 + 1171*x_C4_C2_V_2 + 5890*x_C4_C3_V_1 + 5890*x_C4_C3_V_2 + 3847*x_C4_C5_V_1 + 3847*x_C4_C5_V_2 + 1345*x_C4_DC_1_V_1 + 1345*x_C4_DC_1_V_2 + 1890*x_C4_DC_2_V_1 + 1890*x_C4_DC_2_V_2 + 4351*x_C5_C1_V_1 + 4351*x_C5_C1_V_2 + 4464*x_C5_C2_V_1 + 4464*x_C5_C2_V_2 + 2092*x_C5_C3_V_1 + 2092*x_C5_C3_V_2 + 3847*x_C5_C4_V_1 + 3847*x_C5_C4_V_2 + 2908*x_C5_DC_1_V_1 + 2908*x_C5_DC_1_V_2 + 5363*x_C5_DC_2_V_1 + 5363*x_C5_DC_2_V_2 + 4226*x_DC_1_C1_V_1 + 4226*x_DC_1_C1_V_2 + 2445*x_DC_1_C2_V_1 + 2445*x_DC_1_C2_V_2 + 5000*x_DC_1_C3_V_1 + 5000*x_DC_1_C3_V_2 + 1345*x_DC_1_C4_V_1 + 1345*x_DC_1_C4_V_2 + 2908*x_DC_1_C5_V_1 + 2908*x_DC_1_C5_V_2 + 2460*x_DC_1_DC_2_V_1 + 2460*x_DC_1_DC_2_V_2 + 5644*x_DC_2_C1_V_1 + 5644*x_DC_2_C1_V_2 + 2538*x_DC_2_C2_V_1 + 2538*x_DC_2_C2_V_2 + 7456*x_DC_2_C3_V_1 + 7456*x_DC_2_C3_V_2 + 1890*x_DC_2_C4_V_1 + 1890*x_DC_2_C4_V_2 + 5363*x_DC_2_C5_V_1 + 5363*x_DC_2_C5_V_2 + 2460*x_DC_2_DC_1_V_1 + 2460*x_DC_2_DC_1_V_2 + 0"
      ]
     },
     "execution_count": 26,
     "metadata": {},
     "output_type": "execute_result"
    }
   ],
   "source": [
    "variableCosts"
   ]
  },
  {
   "cell_type": "code",
   "execution_count": 27,
   "id": "19c79e81-a341-4183-9363-6111177a0cb3",
   "metadata": {},
   "outputs": [],
   "source": [
    "model += fixedCost_depot + variableCosts + fixedCost_vehicle"
   ]
  },
  {
   "cell_type": "code",
   "execution_count": 28,
   "id": "b50f7a2b-68f5-41da-a640-324ebd3b1e22",
   "metadata": {},
   "outputs": [],
   "source": [
    "# new (2)\n",
    "for j in J:\n",
    "    model += lpSum([[x[i][j][k]] for i in [*I,*J] for k in K if i!=j]) == 1"
   ]
  },
  {
   "cell_type": "code",
   "execution_count": 29,
   "id": "42a677bf-ef9e-4c56-b59f-77e2bfbaddd2",
   "metadata": {},
   "outputs": [],
   "source": [
    "# (3) new\n",
    "for k in K:\n",
    "    model += lpSum(set_of_all_customers.loc[j].demand_C for j in J) * lpSum([[x[i][j][k] for i in [*I,*J] for j in J if i!=j]]) <= set_of_all_vehicles.loc[k].capacity_V"
   ]
  },
  {
   "cell_type": "code",
   "execution_count": 30,
   "id": "d84c4d60-2187-487c-990a-2bf3a4f53350",
   "metadata": {},
   "outputs": [],
   "source": [
    "# (4) new\n",
    "for l in J:\n",
    "    for j in J:\n",
    "        if l!=j:\n",
    "            for k in K:\n",
    "                model += (u[l,k] - u[j,k] + (len(set_of_all_customers) * [x[l][j][k]])) <= len(set_of_all_customers) - 1"
   ]
  },
  {
   "cell_type": "code",
   "execution_count": 31,
   "id": "64ec68a2-49dd-4c5b-9ccb-c7bfb8a79bdf",
   "metadata": {},
   "outputs": [],
   "source": [
    "# (5) new - works since we defined DC to DC connections in Xijk\n",
    "for i in [*I,*J]:\n",
    "    for k in K:\n",
    "        model+= lpSum([[x[i][j][k]] for j in [*I,*J] if i!=j]) - lpSum([[x[j][i][k]] for j in [*I,*J] if i!=j]) == 0"
   ]
  },
  {
   "cell_type": "code",
   "execution_count": 32,
   "id": "ea9ca330-dc35-4a5e-9067-4359274c6a0a",
   "metadata": {},
   "outputs": [],
   "source": [
    "# (6) new\n",
    "for k in K:\n",
    "    model += lpSum([[x[i][j][k]] for i in I for j in J]) <= 1"
   ]
  },
  {
   "cell_type": "code",
   "execution_count": 33,
   "id": "fbddd1a9-cd61-466b-b649-92fdc9029c3b",
   "metadata": {},
   "outputs": [],
   "source": [
    "# (7) new\n",
    "for i in I:\n",
    "    model += lpSum(z[i][j] * set_of_all_customers.loc[j].demand_C for j in J) - (set_of_all_DC.loc[i].capacity_DC * y[i]) <= 0"
   ]
  },
  {
   "cell_type": "code",
   "execution_count": 34,
   "id": "92e145a3-800b-4c96-822b-f8ea340a71a5",
   "metadata": {},
   "outputs": [],
   "source": [
    "# (8) new:\n",
    "#for i in I:\n",
    "#    for j in J:\n",
    "#        for k in K:\n",
    "#            model += lpSum([x[i][u][k] + [x[u][j][k]] for u in [*I,*J] if u!=i if u!=j]) - z[i][j] <= 1"
   ]
  },
  {
   "cell_type": "code",
   "execution_count": 35,
   "id": "68dcc66c-3cf0-448b-a976-c38fdd7c59f3",
   "metadata": {},
   "outputs": [],
   "source": [
    "# (8) new: Removed if's\n",
    "for i in I:\n",
    "    for j in J:\n",
    "        for k in K:\n",
    "            model += lpSum([x[i][u][k] + [x[u][j][k]] for u in [*I,*J]]) - z[i][j] <= 1"
   ]
  },
  {
   "cell_type": "code",
   "execution_count": 36,
   "id": "c48403f6-6219-4f51-87c2-a4606673263c",
   "metadata": {},
   "outputs": [],
   "source": [
    "#model"
   ]
  },
  {
   "cell_type": "code",
   "execution_count": 37,
   "id": "f9a445f8-7993-4fcf-afce-3bc42a8fa0e3",
   "metadata": {},
   "outputs": [
    {
     "data": {
      "text/plain": [
       "'Optimal'"
      ]
     },
     "execution_count": 37,
     "metadata": {},
     "output_type": "execute_result"
    }
   ],
   "source": [
    "model.solve()\n",
    "LpStatus[model.status]"
   ]
  },
  {
   "cell_type": "code",
   "execution_count": 39,
   "id": "6c5de21a-7e32-4a24-bd4c-df66260d2456",
   "metadata": {},
   "outputs": [
    {
     "name": "stdout",
     "output_type": "stream",
     "text": [
      "u_('C1',_'V_1') = 0.0\n",
      "u_('C1',_'V_2') = 0.0\n",
      "u_('C2',_'V_1') = 0.0\n",
      "u_('C2',_'V_2') = 1.0\n",
      "u_('C3',_'V_1') = 1.0\n",
      "u_('C3',_'V_2') = 0.0\n",
      "u_('C4',_'V_1') = 0.0\n",
      "u_('C4',_'V_2') = 0.0\n",
      "u_('C5',_'V_1') = 4.0\n",
      "u_('C5',_'V_2') = 0.0\n",
      "x_C1_C1_V_1 = 0\n",
      "x_C1_C1_V_2 = 0\n",
      "x_C1_C2_V_1 = 0\n",
      "x_C1_C2_V_2 = 0\n",
      "x_C1_C3_V_1 = 1\n",
      "x_C1_C3_V_2 = 0\n",
      "x_C1_C4_V_1 = 0\n",
      "x_C1_C4_V_2 = 0\n",
      "x_C1_C5_V_1 = 0\n",
      "x_C1_C5_V_2 = 0\n",
      "x_C1_DC_1_V_1 = 0\n",
      "x_C1_DC_1_V_2 = 0\n",
      "x_C1_DC_2_V_1 = 0\n",
      "x_C1_DC_2_V_2 = 0\n",
      "x_C2_C1_V_1 = 0\n",
      "x_C2_C1_V_2 = 0\n",
      "x_C2_C2_V_1 = 0\n",
      "x_C2_C2_V_2 = 0\n",
      "x_C2_C3_V_1 = 0\n",
      "x_C2_C3_V_2 = 0\n",
      "x_C2_C4_V_1 = 0\n",
      "x_C2_C4_V_2 = 0\n",
      "x_C2_C5_V_1 = 0\n",
      "x_C2_C5_V_2 = 0\n",
      "x_C2_DC_1_V_1 = 0\n",
      "x_C2_DC_1_V_2 = 0\n",
      "x_C2_DC_2_V_1 = 0\n",
      "x_C2_DC_2_V_2 = 1\n",
      "x_C3_C1_V_1 = 0\n",
      "x_C3_C1_V_2 = 0\n",
      "x_C3_C2_V_1 = 0\n",
      "x_C3_C2_V_2 = 0\n",
      "x_C3_C3_V_1 = 0\n",
      "x_C3_C3_V_2 = 0\n",
      "x_C3_C4_V_1 = 0\n",
      "x_C3_C4_V_2 = 0\n",
      "x_C3_C5_V_1 = 1\n",
      "x_C3_C5_V_2 = 0\n",
      "x_C3_DC_1_V_1 = 0\n",
      "x_C3_DC_1_V_2 = 0\n",
      "x_C3_DC_2_V_1 = 0\n",
      "x_C3_DC_2_V_2 = 0\n",
      "x_C4_C1_V_1 = 0\n",
      "x_C4_C1_V_2 = 0\n",
      "x_C4_C2_V_1 = 0\n",
      "x_C4_C2_V_2 = 1\n",
      "x_C4_C3_V_1 = 0\n",
      "x_C4_C3_V_2 = 0\n",
      "x_C4_C4_V_1 = 0\n",
      "x_C4_C4_V_2 = 0\n",
      "x_C4_C5_V_1 = 0\n",
      "x_C4_C5_V_2 = 0\n",
      "x_C4_DC_1_V_1 = 0\n",
      "x_C4_DC_1_V_2 = 0\n",
      "x_C4_DC_2_V_1 = 0\n",
      "x_C4_DC_2_V_2 = 0\n",
      "x_C5_C1_V_1 = 0\n",
      "x_C5_C1_V_2 = 0\n",
      "x_C5_C2_V_1 = 0\n",
      "x_C5_C2_V_2 = 0\n",
      "x_C5_C3_V_1 = 0\n",
      "x_C5_C3_V_2 = 0\n",
      "x_C5_C4_V_1 = 0\n",
      "x_C5_C4_V_2 = 0\n",
      "x_C5_C5_V_1 = 0\n",
      "x_C5_C5_V_2 = 0\n",
      "x_C5_DC_1_V_1 = 1\n",
      "x_C5_DC_1_V_2 = 0\n",
      "x_C5_DC_2_V_1 = 0\n",
      "x_C5_DC_2_V_2 = 0\n",
      "x_DC_1_C1_V_1 = 1\n",
      "x_DC_1_C1_V_2 = 0\n",
      "x_DC_1_C2_V_1 = 0\n",
      "x_DC_1_C2_V_2 = 0\n",
      "x_DC_1_C3_V_1 = 0\n",
      "x_DC_1_C3_V_2 = 0\n",
      "x_DC_1_C4_V_1 = 0\n",
      "x_DC_1_C4_V_2 = 0\n",
      "x_DC_1_C5_V_1 = 0\n",
      "x_DC_1_C5_V_2 = 0\n",
      "x_DC_1_DC_1_V_1 = 0\n",
      "x_DC_1_DC_1_V_2 = 0\n",
      "x_DC_1_DC_2_V_1 = 0\n",
      "x_DC_1_DC_2_V_2 = 0\n",
      "x_DC_2_C1_V_1 = 0\n",
      "x_DC_2_C1_V_2 = 0\n",
      "x_DC_2_C2_V_1 = 0\n",
      "x_DC_2_C2_V_2 = 0\n",
      "x_DC_2_C3_V_1 = 0\n",
      "x_DC_2_C3_V_2 = 0\n",
      "x_DC_2_C4_V_1 = 0\n",
      "x_DC_2_C4_V_2 = 1\n",
      "x_DC_2_C5_V_1 = 0\n",
      "x_DC_2_C5_V_2 = 0\n",
      "x_DC_2_DC_1_V_1 = 0\n",
      "x_DC_2_DC_1_V_2 = 0\n",
      "x_DC_2_DC_2_V_1 = 0\n",
      "x_DC_2_DC_2_V_2 = 0\n",
      "y_DC_1 = 1\n",
      "y_DC_2 = 1\n",
      "z_DC_1_C1 = 1\n",
      "z_DC_1_C2 = 0\n",
      "z_DC_1_C3 = 1\n",
      "z_DC_1_C4 = 0\n",
      "z_DC_1_C5 = 1\n",
      "z_DC_2_C1 = 0\n",
      "z_DC_2_C2 = 1\n",
      "z_DC_2_C3 = 0\n",
      "z_DC_2_C4 = 1\n",
      "z_DC_2_C5 = 0\n"
     ]
    }
   ],
   "source": [
    "for variable in model.variables():\n",
    "    print(\"{} = {}\".format(variable.name, variable.varValue))"
   ]
  },
  {
   "cell_type": "code",
   "execution_count": 40,
   "id": "3707beec-28cd-4387-9960-25ddb0f63236",
   "metadata": {},
   "outputs": [
    {
     "name": "stdout",
     "output_type": "stream",
     "text": [
      "Distance traveled: 20290m \n",
      "Fixed Costs for Depots: 10.0€ \n",
      "Fixed Cost for Vehicles: 35€\n"
     ]
    }
   ],
   "source": [
    "# new cost printer, without using the R_df for distances\n",
    "fixedC = sum([y[i].varValue * set_of_all_DC.loc[i].fixed_cost_DC for i in I])\n",
    "#varC = sum([x[i][j][k].varValue * dist_mat1.loc[i,j] for i,j,k in R])\n",
    "varC = sum([x[i][j][k].varValue *  dist_mat1.loc[i,j] for i in [*I,*J] for j in [*I,*J] for k in K if i!=j])\n",
    "fixedCV = sum([x[i][j][k].varValue * set_of_all_vehicles.loc[k].fixed_cost_V  for i,j,k in R])\n",
    "print(\"Distance traveled: {}m \\nFixed Costs for Depots: {}€ \\nFixed Cost for Vehicles: {}€\".format(varC, fixedC, fixedCV))"
   ]
  },
  {
   "cell_type": "code",
   "execution_count": 41,
   "id": "f6cb9562-90fe-4fbd-a107-f071f9de5e0f",
   "metadata": {},
   "outputs": [
    {
     "name": "stdout",
     "output_type": "stream",
     "text": [
      "The following DCs are established:\n",
      "-DC_1\n",
      "-DC_2\n"
     ]
    }
   ],
   "source": [
    "# Add some solution printer for which DCs are opened\n",
    "print(\"The following DCs are established:\")\n",
    "for i in I:\n",
    "    if y[i].varValue >= 0.1:\n",
    "        print(\"-{}\".format(set_of_all_DC.loc[i].name)) "
   ]
  },
  {
   "cell_type": "code",
   "execution_count": 42,
   "id": "5579fb00-ab23-41ab-ad43-96e32c8c1819",
   "metadata": {},
   "outputs": [
    {
     "name": "stdout",
     "output_type": "stream",
     "text": [
      "u_('C2',_'V_2') = 1.0\n",
      "u_('C3',_'V_1') = 1.0\n",
      "u_('C5',_'V_1') = 4.0\n",
      "x_C1_C3_V_1 = 1\n",
      "x_C2_DC_2_V_2 = 1\n",
      "x_C3_C5_V_1 = 1\n",
      "x_C4_C2_V_2 = 1\n",
      "x_C5_DC_1_V_1 = 1\n",
      "x_DC_1_C1_V_1 = 1\n",
      "x_DC_2_C4_V_2 = 1\n",
      "y_DC_1 = 1\n",
      "y_DC_2 = 1\n",
      "z_DC_1_C1 = 1\n",
      "z_DC_1_C3 = 1\n",
      "z_DC_1_C5 = 1\n",
      "z_DC_2_C2 = 1\n",
      "z_DC_2_C4 = 1\n"
     ]
    }
   ],
   "source": [
    "# Decision Varibale Overview\n",
    "for variable in model.variables():\n",
    "    if variable.varValue >= 0.1:\n",
    "        print(\"{} = {}\".format(variable.name, variable.varValue))"
   ]
  },
  {
   "cell_type": "code",
   "execution_count": 43,
   "id": "ec469861-9c7b-4f51-aa76-fe7fe74382e8",
   "metadata": {},
   "outputs": [
    {
     "name": "stdout",
     "output_type": "stream",
     "text": [
      "Vehicle 1 has to drive [4] routes and Vehicle 2 has to drive [3] routes to satisfy all demand\n"
     ]
    }
   ],
   "source": [
    "# new route count printer\n",
    "Route_v1 = []\n",
    "Route_v2 = []\n",
    "v1 = sum([x[i][j][k].varValue for i,j,k in R1 if k == (\"V_1\")])\n",
    "v2 = sum([x[i][j][k].varValue for i,j,k in R1 if k == (\"V_2\")])\n",
    "Route_v1.append(v1)\n",
    "Route_v2.append(v2)\n",
    "print(\"Vehicle 1 has to drive {} routes and Vehicle 2 has to drive {} routes to satisfy all demand\".format(Route_v1, Route_v2))"
   ]
  },
  {
   "cell_type": "code",
   "execution_count": 44,
   "id": "3a77f725-ae51-4c0f-b50a-13fa516b6c20",
   "metadata": {},
   "outputs": [
    {
     "name": "stdout",
     "output_type": "stream",
     "text": [
      "The Vehicles have to drive 7 routes to satisfy all demand\n"
     ]
    }
   ],
   "source": [
    "#This can print the total routes needed but not how many each vehicle drove\n",
    "\n",
    "Route_Counter = sum([x[i][j][k].varValue for i,j,k in R1])\n",
    "print(\"The Vehicles have to drive {} routes to satisfy all demand\".format(Route_Counter))"
   ]
  },
  {
   "cell_type": "code",
   "execution_count": 45,
   "id": "094f59a0-599e-4b47-bb9a-125054b682e1",
   "metadata": {},
   "outputs": [
    {
     "name": "stdout",
     "output_type": "stream",
     "text": [
      "The following Routes have to be driven to satisfy all demand:\n",
      "From C1 to C3 in Vehicle V_1 for length 5465m\n",
      "From C3 to C5 in Vehicle V_1 for length 2092m\n",
      "From C4 to C2 in Vehicle V_2 for length 1171m\n",
      "From DC_1 to C1 in Vehicle V_1 for length 4226m\n",
      "From DC_2 to C4 in Vehicle V_2 for length 1890m\n",
      "From C2 to DC_2 in Vehicle V_2 for length 2538m\n",
      "From C5 to DC_1 in Vehicle V_1 for length 2908m\n"
     ]
    }
   ],
   "source": [
    "# new route printer (not using the R_df for distances anymore)\n",
    "print(\"The following Routes have to be driven to satisfy all demand:\")\n",
    "for i,j,k in R:\n",
    "    if x[i][j][k].varValue >= 0.1:\n",
    "        print(\"From {} to {} in Vehicle {} for length {}m\".format(i,j,k, dist_mat1.loc[i,j]))"
   ]
  },
  {
   "cell_type": "code",
   "execution_count": 46,
   "id": "8c9affd5-0d3b-43d8-be27-7436946747f1",
   "metadata": {},
   "outputs": [
    {
     "name": "stdout",
     "output_type": "stream",
     "text": [
      "Vehicle V_1 starts from DC_1 and drives to C1 with route length 4226m\n",
      "Then drives from C1 to C3 with route length 5465m\n",
      "Then drives from C3 to C5 with route length 2092m\n",
      "Then drives from C5 to DC_1 with route length 2908m\n"
     ]
    }
   ],
   "source": [
    "# Route Order Printer - still WIP since i and k are hardcoded here. Would be nice to do this without having to call specific Warehouses/Vehicles since the Model will grow in size substantially\n",
    "for i,j,k in R:\n",
    "    if x[i][j][k].varValue >= 0.1 and i == (\"DC_1\") and k == (\"V_1\"):\n",
    "        print(\"Vehicle {} starts from {} and drives to {} with route length {}m\".format(k,i,j, dist_mat1.loc[i,j]))\n",
    "for i,j,k in R:\n",
    "    if x[i][j][k].varValue >= 0.1 and k == (\"V_1\") and i != (\"DC_1\"):\n",
    "        print(\"Then drives from {} to {} with route length {}m\".format(i,j, dist_mat1.loc[i,j]))"
   ]
  },
  {
   "cell_type": "code",
   "execution_count": 50,
   "id": "1c821eba-0baa-48fc-93c4-c793b2cd9e99",
   "metadata": {},
   "outputs": [
    {
     "name": "stdout",
     "output_type": "stream",
     "text": [
      "Vehicle 1 drives the following route to satisfy all demand:\n",
      "DC_1 -> C1: route length 4226m\n",
      " C1 -> C3: route length 5465m\n",
      " C3 -> C5: route length 2092m\n",
      " C5 -> DC_1: route length 2908m\n"
     ]
    }
   ],
   "source": [
    "# Route Order Printer minimalistic Vehicle 1\n",
    "print(\"Vehicle 1 drives the following route to satisfy all demand:\")\n",
    "for i,j,k in R:\n",
    "    if x[i][j][k].varValue >= 0.1 and i == (\"DC_1\") and k == (\"V_1\"):\n",
    "        print(\"{} -> {}: route length {}m\".format(i,j, dist_mat1.loc[i,j]))\n",
    "for i,j,k in R:\n",
    "    if x[i][j][k].varValue >= 0.1 and k == (\"V_1\") and i != (\"DC_1\"):\n",
    "        print(\" {} -> {}: route length {}m\".format(i,j, dist_mat1.loc[i,j]))\n",
    "        #print(\"For a total vehicle route length {}m\".format(sum(dist_mat1.loc[i,j])))"
   ]
  },
  {
   "cell_type": "code",
   "execution_count": 49,
   "id": "fee44536-d981-4713-89ac-d183d22e5e28",
   "metadata": {},
   "outputs": [
    {
     "name": "stdout",
     "output_type": "stream",
     "text": [
      "Vehicle 2 drives the following route to satisfy all demand:\n",
      "DC_2 -> C4: route length 1890m\n",
      " C4 -> C2: route length 1171m\n",
      " C2 -> DC_2: route length 2538m\n"
     ]
    }
   ],
   "source": [
    "# Route Order Printer minimalistic Vehicle 2\n",
    "print(\"Vehicle 2 drives the following route to satisfy all demand:\")\n",
    "for i,j,k in R:\n",
    "    if x[i][j][k].varValue >= 0.1 and i == (\"DC_2\") and k == (\"V_2\"):\n",
    "        print(\"{} -> {}: route length {}m\".format(i,j, dist_mat1.loc[i,j]))\n",
    "for i,j,k in R:\n",
    "    if x[i][j][k].varValue >= 0.1 and k == (\"V_2\") and i != (\"DC_2\"):\n",
    "        print(\" {} -> {}: route length {}m\".format(i,j, dist_mat1.loc[i,j]))\n",
    "        #print(\"For a total vehicle route length {}m\".format(sum(dist_mat1.loc[i,j])))"
   ]
  },
  {
   "cell_type": "code",
   "execution_count": null,
   "id": "57d0a0cf-e731-4942-aba1-e62ee935e3e4",
   "metadata": {},
   "outputs": [],
   "source": []
  },
  {
   "cell_type": "markdown",
   "id": "9c4351ce-b791-4f18-ac5b-0755a4318d61",
   "metadata": {},
   "source": [
    "<font size=6>**Idea to add Variable Warehousing Cost into the Objective Function**</font>"
   ]
  },
  {
   "cell_type": "code",
   "execution_count": null,
   "id": "d3569067-ccab-40d5-8365-94cc836caae9",
   "metadata": {},
   "outputs": [],
   "source": []
  },
  {
   "cell_type": "markdown",
   "id": "bf63ef83-0e03-48d6-b27a-f9a03ea96865",
   "metadata": {},
   "source": [
    "![Wu_New](https://i.imgur.com/DeVQzoi.png)"
   ]
  },
  {
   "cell_type": "markdown",
   "id": "5b67773d-3226-4f30-b64b-a167518f4b30",
   "metadata": {},
   "source": [
    "VCi being the respective Variable Warehousing Cost (Picking) in each Warehouse<br>\n",
    "For code implementation just add a cost factor to the DC Dataframe <br>\n",
    "VCi = set_of_all_DC.loc[i].varCost (example)\n"
   ]
  },
  {
   "cell_type": "code",
   "execution_count": 54,
   "id": "c378b173-d7f7-4c14-b7bf-901869d13cff",
   "metadata": {},
   "outputs": [
    {
     "data": {
      "text/html": [
       "<div>\n",
       "<style scoped>\n",
       "    .dataframe tbody tr th:only-of-type {\n",
       "        vertical-align: middle;\n",
       "    }\n",
       "\n",
       "    .dataframe tbody tr th {\n",
       "        vertical-align: top;\n",
       "    }\n",
       "\n",
       "    .dataframe thead th {\n",
       "        text-align: right;\n",
       "    }\n",
       "</style>\n",
       "<table border=\"1\" class=\"dataframe\">\n",
       "  <thead>\n",
       "    <tr style=\"text-align: right;\">\n",
       "      <th></th>\n",
       "      <th>fixed_cost_DC</th>\n",
       "      <th>capacity_DC</th>\n",
       "      <th>varCost_DC</th>\n",
       "      <th>lat_DC</th>\n",
       "      <th>lon_DC</th>\n",
       "    </tr>\n",
       "    <tr>\n",
       "      <th>DC_ID</th>\n",
       "      <th></th>\n",
       "      <th></th>\n",
       "      <th></th>\n",
       "      <th></th>\n",
       "      <th></th>\n",
       "    </tr>\n",
       "  </thead>\n",
       "  <tbody>\n",
       "    <tr>\n",
       "      <th>DC_1</th>\n",
       "      <td>20</td>\n",
       "      <td>50</td>\n",
       "      <td>12</td>\n",
       "      <td>49.794783</td>\n",
       "      <td>9.906499</td>\n",
       "    </tr>\n",
       "    <tr>\n",
       "      <th>DC_2</th>\n",
       "      <td>40</td>\n",
       "      <td>200</td>\n",
       "      <td>15</td>\n",
       "      <td>49.816137</td>\n",
       "      <td>9.897654</td>\n",
       "    </tr>\n",
       "  </tbody>\n",
       "</table>\n",
       "</div>"
      ],
      "text/plain": [
       "       fixed_cost_DC  capacity_DC  varCost_DC     lat_DC    lon_DC\n",
       "DC_ID                                                             \n",
       "DC_1              20           50          12  49.794783  9.906499\n",
       "DC_2              40          200          15  49.816137  9.897654"
      ]
     },
     "execution_count": 54,
     "metadata": {},
     "output_type": "execute_result"
    }
   ],
   "source": [
    "# Start of with constructing the set of all potential DC sites = I\n",
    "# Start with only 1 possible DC=DEPOT\n",
    "\n",
    "#create an index\n",
    "DC_ID = [\"DC_1\", \"DC_2\"] #, 2, 3, 4]\n",
    "\n",
    "#Gi = fixed cost for establishing depot i\n",
    "fixed_cost_DC = [20, 40] # 20, 20, 20]\n",
    "\n",
    "#Maximum Throughput at depot i = Vi\n",
    "capacity_DC = [50, 200] # 50, 50, 50]\n",
    "\n",
    "#Variable Warehousing Cost (Picking)\n",
    "varCost_DC = [12,15]\n",
    "\n",
    "#Position of the DCs\n",
    "lat_DC = [49.794783, 49.81613668]#, 49.78379436, 49.74101263]\n",
    "lon_DC = [9.906499, 9.897654496] # 9.896245726, 9.88898842]\n",
    "\n",
    "dc_tuples = list(zip(DC_ID, fixed_cost_DC, capacity_DC, varCost_DC, lat_DC, lon_DC))\n",
    "\n",
    "set_of_all_DC = pd.DataFrame(dc_tuples, columns = [\"DC_ID\", \"fixed_cost_DC\", \"capacity_DC\", \"varCost_DC\", \"lat_DC\", \"lon_DC\"])\n",
    "set_of_all_DC.set_index(\"DC_ID\", inplace = True)\n",
    "set_of_all_DC"
   ]
  },
  {
   "cell_type": "code",
   "execution_count": 76,
   "id": "8ab92e3a-1f52-42b6-87ea-94f765ecfc29",
   "metadata": {},
   "outputs": [],
   "source": [
    "# Objective Function New\n",
    "# Gi * yi\n",
    "fixedCost_depot = lpSum([y[i] * set_of_all_DC.loc[i].fixed_cost_DC for i in I])\n",
    "\n",
    "# Cij * Xijk\n",
    "\n",
    "variableCosts = lpSum([[x[i][j][k]] * dist_mat1.loc[i,j] for i in [*I,*J] for j in [*I,*J] for k in K if i!=j])\n",
    "\n",
    "#VCi * dj*zj ; not sure if this is correct, have to play around \n",
    "#variableCosts_DC = lpSum(set_of_all_DC.loc[i].varCost_DC for i in I) * lpSum([z[i][j] * set_of_all_customers.loc[j].demand_C for j in J for i in I])\n",
    "variableCosts_DC = lpSum(set_of_all_DC.loc[i].varCost_DC * z[i][j] * set_of_all_customers.loc[j].demand_C for j in J for i in I)\n",
    "# Fk * Xijk\n",
    "fixedCost_vehicle = lpSum([[x[i][j][k]] * set_of_all_vehicles.loc[k].fixed_cost_V  for i in [*I,*J] for j in [*I,*J] for k in K if i!=j])"
   ]
  },
  {
   "cell_type": "code",
   "execution_count": null,
   "id": "2a472e1e-3d69-4164-b71f-967bbada4672",
   "metadata": {},
   "outputs": [],
   "source": [
    "\n",
    "    "
   ]
  },
  {
   "cell_type": "code",
   "execution_count": 77,
   "id": "82673143-a0fd-485f-8583-dabf40beb744",
   "metadata": {},
   "outputs": [
    {
     "data": {
      "text/plain": [
       "60.0*z_DC_1_C1 + 60.0*z_DC_1_C2 + 60.0*z_DC_1_C3 + 60.0*z_DC_1_C4 + 60.0*z_DC_1_C5 + 75.0*z_DC_2_C1 + 75.0*z_DC_2_C2 + 75.0*z_DC_2_C3 + 75.0*z_DC_2_C4 + 75.0*z_DC_2_C5 + 0.0"
      ]
     },
     "execution_count": 77,
     "metadata": {},
     "output_type": "execute_result"
    }
   ],
   "source": [
    "# This cant be right, Sum Parameter does something funky here\n",
    "variableCosts_DC"
   ]
  },
  {
   "cell_type": "code",
   "execution_count": 58,
   "id": "23917640-49ad-4d5c-86f0-9a70bf137242",
   "metadata": {},
   "outputs": [
    {
     "data": {
      "text/plain": [
       "20.0*y_DC_1 + 40.0*y_DC_2 + 0.0"
      ]
     },
     "execution_count": 58,
     "metadata": {},
     "output_type": "execute_result"
    }
   ],
   "source": [
    "fixedCost_depot"
   ]
  },
  {
   "cell_type": "code",
   "execution_count": 59,
   "id": "6d7f90ae-3bb8-446b-8163-16233ef99995",
   "metadata": {},
   "outputs": [
    {
     "data": {
      "text/plain": [
       "5*x_C1_C2_V_1 + 5*x_C1_C2_V_2 + 5*x_C1_C3_V_1 + 5*x_C1_C3_V_2 + 5*x_C1_C4_V_1 + 5*x_C1_C4_V_2 + 5*x_C1_C5_V_1 + 5*x_C1_C5_V_2 + 5*x_C1_DC_1_V_1 + 5*x_C1_DC_1_V_2 + 5*x_C1_DC_2_V_1 + 5*x_C1_DC_2_V_2 + 5*x_C2_C1_V_1 + 5*x_C2_C1_V_2 + 5*x_C2_C3_V_1 + 5*x_C2_C3_V_2 + 5*x_C2_C4_V_1 + 5*x_C2_C4_V_2 + 5*x_C2_C5_V_1 + 5*x_C2_C5_V_2 + 5*x_C2_DC_1_V_1 + 5*x_C2_DC_1_V_2 + 5*x_C2_DC_2_V_1 + 5*x_C2_DC_2_V_2 + 5*x_C3_C1_V_1 + 5*x_C3_C1_V_2 + 5*x_C3_C2_V_1 + 5*x_C3_C2_V_2 + 5*x_C3_C4_V_1 + 5*x_C3_C4_V_2 + 5*x_C3_C5_V_1 + 5*x_C3_C5_V_2 + 5*x_C3_DC_1_V_1 + 5*x_C3_DC_1_V_2 + 5*x_C3_DC_2_V_1 + 5*x_C3_DC_2_V_2 + 5*x_C4_C1_V_1 + 5*x_C4_C1_V_2 + 5*x_C4_C2_V_1 + 5*x_C4_C2_V_2 + 5*x_C4_C3_V_1 + 5*x_C4_C3_V_2 + 5*x_C4_C5_V_1 + 5*x_C4_C5_V_2 + 5*x_C4_DC_1_V_1 + 5*x_C4_DC_1_V_2 + 5*x_C4_DC_2_V_1 + 5*x_C4_DC_2_V_2 + 5*x_C5_C1_V_1 + 5*x_C5_C1_V_2 + 5*x_C5_C2_V_1 + 5*x_C5_C2_V_2 + 5*x_C5_C3_V_1 + 5*x_C5_C3_V_2 + 5*x_C5_C4_V_1 + 5*x_C5_C4_V_2 + 5*x_C5_DC_1_V_1 + 5*x_C5_DC_1_V_2 + 5*x_C5_DC_2_V_1 + 5*x_C5_DC_2_V_2 + 5*x_DC_1_C1_V_1 + 5*x_DC_1_C1_V_2 + 5*x_DC_1_C2_V_1 + 5*x_DC_1_C2_V_2 + 5*x_DC_1_C3_V_1 + 5*x_DC_1_C3_V_2 + 5*x_DC_1_C4_V_1 + 5*x_DC_1_C4_V_2 + 5*x_DC_1_C5_V_1 + 5*x_DC_1_C5_V_2 + 5*x_DC_1_DC_2_V_1 + 5*x_DC_1_DC_2_V_2 + 5*x_DC_2_C1_V_1 + 5*x_DC_2_C1_V_2 + 5*x_DC_2_C2_V_1 + 5*x_DC_2_C2_V_2 + 5*x_DC_2_C3_V_1 + 5*x_DC_2_C3_V_2 + 5*x_DC_2_C4_V_1 + 5*x_DC_2_C4_V_2 + 5*x_DC_2_C5_V_1 + 5*x_DC_2_C5_V_2 + 5*x_DC_2_DC_1_V_1 + 5*x_DC_2_DC_1_V_2 + 0"
      ]
     },
     "execution_count": 59,
     "metadata": {},
     "output_type": "execute_result"
    }
   ],
   "source": [
    "fixedCost_vehicle"
   ]
  },
  {
   "cell_type": "code",
   "execution_count": 78,
   "id": "566bb87b-e748-4e4c-970a-819da4a97dba",
   "metadata": {},
   "outputs": [],
   "source": [
    "model += fixedCost_depot + variableCosts + variableCosts_DC + fixedCost_vehicle"
   ]
  },
  {
   "cell_type": "code",
   "execution_count": null,
   "id": "587c7947-f036-4569-9e01-c654cdffc1c6",
   "metadata": {},
   "outputs": [],
   "source": [
    "model"
   ]
  },
  {
   "cell_type": "code",
   "execution_count": 79,
   "id": "6f79b70b-73b4-4bd6-98ad-4e8a661d3c5d",
   "metadata": {},
   "outputs": [
    {
     "data": {
      "text/plain": [
       "'Optimal'"
      ]
     },
     "execution_count": 79,
     "metadata": {},
     "output_type": "execute_result"
    }
   ],
   "source": [
    "model.solve()\n",
    "LpStatus[model.status]"
   ]
  },
  {
   "cell_type": "code",
   "execution_count": 80,
   "id": "934660a9-a97b-48af-8835-f872a68e06f6",
   "metadata": {},
   "outputs": [
    {
     "name": "stdout",
     "output_type": "stream",
     "text": [
      "The following DCs are established:\n",
      "-DC_1\n",
      "-DC_2\n"
     ]
    }
   ],
   "source": [
    "# Add some solution printer for which DCs are opened\n",
    "print(\"The following DCs are established:\")\n",
    "for i in I:\n",
    "    if y[i].varValue >= 0.1:\n",
    "        print(\"-{}\".format(set_of_all_DC.loc[i].name)) "
   ]
  },
  {
   "cell_type": "code",
   "execution_count": 81,
   "id": "1bd3637f-f6f5-417f-8244-c538d6d29dfa",
   "metadata": {},
   "outputs": [
    {
     "name": "stdout",
     "output_type": "stream",
     "text": [
      "u_('C3',_'V_2') = 1.0\n",
      "u_('C4',_'V_1') = 1.0\n",
      "u_('C5',_'V_2') = 4.0\n",
      "x_C1_C3_V_2 = 1\n",
      "x_C2_C4_V_1 = 1\n",
      "x_C3_C5_V_2 = 1\n",
      "x_C4_DC_2_V_1 = 1\n",
      "x_C5_DC_1_V_2 = 1\n",
      "x_DC_1_C1_V_2 = 1\n",
      "x_DC_2_C2_V_1 = 1\n",
      "y_DC_1 = 1\n",
      "y_DC_2 = 1\n",
      "z_DC_1_C1 = 1\n",
      "z_DC_1_C3 = 1\n",
      "z_DC_1_C5 = 1\n",
      "z_DC_2_C2 = 1\n",
      "z_DC_2_C4 = 1\n"
     ]
    }
   ],
   "source": [
    "# Decision Varibale Overview\n",
    "for variable in model.variables():\n",
    "    if variable.varValue >= 0.1:\n",
    "        print(\"{} = {}\".format(variable.name, variable.varValue))"
   ]
  },
  {
   "cell_type": "code",
   "execution_count": 83,
   "id": "10041692-ba2b-4a69-9184-db2b884f689f",
   "metadata": {},
   "outputs": [
    {
     "name": "stdout",
     "output_type": "stream",
     "text": [
      "Distance traveled: 20290m \n",
      "Fixed Costs for Depots: 60.0€ \n",
      "Fixed Cost for Vehicles: 35€ \n",
      " Variable Warehousing Cost 330.0€\n"
     ]
    }
   ],
   "source": [
    "# new cost printer, without using the R_df for distances\n",
    "fixedC = sum([y[i].varValue * set_of_all_DC.loc[i].fixed_cost_DC for i in I])\n",
    "#varC = sum([x[i][j][k].varValue * dist_mat1.loc[i,j] for i,j,k in R])\n",
    "varC = sum([x[i][j][k].varValue *  dist_mat1.loc[i,j] for i in [*I,*J] for j in [*I,*J] for k in K if i!=j])\n",
    "fixedCV = sum([x[i][j][k].varValue * set_of_all_vehicles.loc[k].fixed_cost_V  for i,j,k in R])\n",
    "varDC = sum(set_of_all_DC.loc[i].varCost_DC * z[i][j].varValue * set_of_all_customers.loc[j].demand_C for j in J for i in I)\n",
    "print(\"Distance traveled: {}m \\nFixed Costs for Depots: {}€ \\nFixed Cost for Vehicles: {}€ \\n Variable Warehousing Cost {}€\".format(varC, fixedC, fixedCV, varDC))"
   ]
  },
  {
   "cell_type": "markdown",
   "id": "e9021ae4-47a6-4272-9284-0edb2aa6e848",
   "metadata": {},
   "source": [
    "Var warehousing Cost should be 330€\n",
    "\n",
    "3 Customers allocated to DC1 = 3 x 5 x 12 = 180<br>\n",
    "2 Customers allocated to DC2 = 2 x 5 x 15 = 150<br>\n",
    "                                150+180 = 330<br>\n",
    "                                675 is just 5x 135 from the formula since we have 5 customers allocated to DCs"
   ]
  }
 ],
 "metadata": {
  "kernelspec": {
   "display_name": "Python 3 (ipykernel)",
   "language": "python",
   "name": "python3"
  },
  "language_info": {
   "codemirror_mode": {
    "name": "ipython",
    "version": 3
   },
   "file_extension": ".py",
   "mimetype": "text/x-python",
   "name": "python",
   "nbconvert_exporter": "python",
   "pygments_lexer": "ipython3",
   "version": "3.9.6"
  }
 },
 "nbformat": 4,
 "nbformat_minor": 5
}
