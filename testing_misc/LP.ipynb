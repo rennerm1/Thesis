{
 "cells": [
  {
   "cell_type": "code",
   "execution_count": 1,
   "id": "940967f5-5ac4-4beb-a2bf-106f5e09c416",
   "metadata": {},
   "outputs": [],
   "source": [
    "import numpy as np\n",
    "import matplotlib.pyplot as plt\n",
    "from pulp import *"
   ]
  },
  {
   "cell_type": "markdown",
   "id": "5e89adcc-bf78-4d28-852e-cc34c58076d0",
   "metadata": {},
   "source": [
    "We want to find the maximum solution to:\n",
    "\n",
    "Z = 4x + 3y\n",
    "\n",
    "constraints:\n",
    "\n",
    "x ≥ 0 \n",
    "\n",
    "y ≥ 2\n",
    "\n",
    "2y ≤ 25 - x\n",
    "\n",
    "4y ≥ 2x - 8\n",
    "\n",
    "y ≤ 2x - 5\n"
   ]
  },
  {
   "cell_type": "code",
   "execution_count": 2,
   "id": "0ae9fad1-8545-48d0-a495-a33afd50b80c",
   "metadata": {},
   "outputs": [
    {
     "data": {
      "text/plain": [
       "<matplotlib.legend.Legend at 0x1ec6abe5c70>"
      ]
     },
     "execution_count": 2,
     "metadata": {},
     "output_type": "execute_result"
    },
    {
     "data": {
      "image/png": "[encoded data removed]",
      "text/plain": [
       "<Figure size 432x288 with 1 Axes>"
      ]
     },
     "metadata": {
      "needs_background": "light"
     },
     "output_type": "display_data"
    }
   ],
   "source": [
    "## Graph the problem, specifically the constraints\n",
    "\n",
    "x = np.linspace(0,20,2000)\n",
    "\n",
    "# y >= 2\n",
    "y1 = (x*0) + 2\n",
    "\n",
    "#2y <= 25 - x\n",
    "y2 = (25-x)/2.0\n",
    "\n",
    "#4y > 2x-8\n",
    "y3 = (2*x-8)/4.0\n",
    "\n",
    "# y <= 2x-5\n",
    "y4 = 2 * x - 5\n",
    "\n",
    "# Plot\n",
    "\n",
    "plt.plot(x, y1, label=r'$y\\geq2$')\n",
    "plt.plot(x, y2, label=r'$2y\\leq25-x$')\n",
    "plt.plot(x, y3, label=r'$4y\\geq 2x - 8$')\n",
    "plt.plot(x, y4, label=r'$y\\leq 2x-5$')\n",
    "plt.xlim((0, 16))\n",
    "plt.ylim((0, 11))\n",
    "plt.xlabel(r'$x$')\n",
    "plt.ylabel(r'$y$')\n",
    "\n",
    "#Fill solution space grey\n",
    "\n",
    "y5 = np.minimum(y2,y4)\n",
    "y6 = np.maximum(y1,y3)\n",
    "plt.fill_between(x, y5,y6, where = y5>y6, color=\"grey\", alpha = .5)\n",
    "plt.legend(bbox_to_anchor=(1.05, 1), loc=2, borderaxespad=0.)\n"
   ]
  },
  {
   "cell_type": "code",
   "execution_count": 3,
   "id": "929f6211-456c-414f-a767-1d963d89cbab",
   "metadata": {},
   "outputs": [],
   "source": [
    "## Define problem\n",
    "my_lp_problem = LpProblem(\"My_LP_Problem\", LpMaximize)"
   ]
  },
  {
   "cell_type": "code",
   "execution_count": 4,
   "id": "7ef877d1-2e2f-4f26-aab5-5b1c15ad81b9",
   "metadata": {},
   "outputs": [],
   "source": [
    "## Define Decision Variables\n",
    "x = LpVariable(\"x\", lowBound= 0, cat=\"Continuous\")\n",
    "y = LpVariable(\"y\", lowBound =2, cat=\"Continuous\")"
   ]
  },
  {
   "cell_type": "code",
   "execution_count": 5,
   "id": "4325e727-b9ce-49d4-9504-3e873827a8dd",
   "metadata": {},
   "outputs": [],
   "source": [
    "# Objective Function\n",
    "\n",
    "my_lp_problem += 4*x + 3*y, \"Z\"\n",
    "\n",
    "# Constraints\n",
    "my_lp_problem += 2*y <= 25 - x\n",
    "my_lp_problem += 4*y >= 2*x -8\n",
    "my_lp_problem += y <= 2*x - 5"
   ]
  },
  {
   "cell_type": "code",
   "execution_count": 21,
   "id": "b64d2708-bcdf-42ec-b24c-133afb9b75e3",
   "metadata": {},
   "outputs": [
    {
     "data": {
      "text/plain": [
       "My_LP_Problem:\n",
       "MAXIMIZE\n",
       "4*x + 3*y + 0\n",
       "SUBJECT TO\n",
       "_C1: x + 2 y <= 25\n",
       "\n",
       "_C2: - 2 x + 4 y >= -8\n",
       "\n",
       "_C3: - 2 x + y <= -5\n",
       "\n",
       "VARIABLES\n",
       "x Continuous\n",
       "2 <= y Continuous"
      ]
     },
     "execution_count": 21,
     "metadata": {},
     "output_type": "execute_result"
    }
   ],
   "source": [
    "my_lp_problem"
   ]
  },
  {
   "cell_type": "code",
   "execution_count": 7,
   "id": "b7de65af-25fb-44c5-83e3-dc3021adbd6d",
   "metadata": {},
   "outputs": [
    {
     "data": {
      "text/plain": [
       "'Optimal'"
      ]
     },
     "execution_count": 7,
     "metadata": {},
     "output_type": "execute_result"
    }
   ],
   "source": [
    "my_lp_problem.solve()\n",
    "LpStatus[my_lp_problem.status]"
   ]
  },
  {
   "cell_type": "code",
   "execution_count": 8,
   "id": "a7ab9a84-baef-4caf-855e-69c0d6724c69",
   "metadata": {},
   "outputs": [
    {
     "name": "stdout",
     "output_type": "stream",
     "text": [
      "x = 14.5\n",
      "y = 5.25\n"
     ]
    }
   ],
   "source": [
    "for variable in my_lp_problem.variables():\n",
    "    print( \"{} = {}\".format(variable.name, variable.varValue))"
   ]
  },
  {
   "cell_type": "code",
   "execution_count": 9,
   "id": "ee21531b-1707-433f-be2f-99a939c36401",
   "metadata": {},
   "outputs": [
    {
     "name": "stdout",
     "output_type": "stream",
     "text": [
      "73.75\n"
     ]
    }
   ],
   "source": [
    "print(pulp.value(my_lp_problem.objective))"
   ]
  },
  {
   "cell_type": "markdown",
   "id": "77012bfc-38b1-4ef5-b043-a85ad208242f",
   "metadata": {},
   "source": [
    "**New Problem - Resourcing Problem**\n",
    "\n",
    "Decide how many cars of each type to produce to maximize profit\n",
    "\n",
    "30 day timespan, One Robot, 2 engineers, one detailer (only has 21 days)\n",
    "\n",
    "Two car types need different times with each resource:\n",
    "\n",
    "**Robot time: Car A - 3 days; Car B - 4 days.**\n",
    "\n",
    "**Engineer time: Car A - 5 days; Car B - 6 days.**\n",
    "\n",
    "**Detailer time: Car A - 1.5 days; Car B - 3 days.**\n",
    "\n",
    "**Car A = 30,000$ Profit**\n",
    "\n",
    "**Car B = 45,000$ Profit**\n",
    "\n",
    "This Problem can be formalized as:\n",
    "\n",
    "Max Profit= 30,000A + 45,000B<br>\n",
    "\n",
    "Subject to:\n",
    "\n",
    "A ≥ 0\n",
    "\n",
    "B ≥ 0\n",
    "\n",
    "3A + 4B ≤ 30\n",
    "\n",
    "5A + 6B ≤ 60 #since we have to engineers 30x2 = 60 days\n",
    "\n",
    "1.5A + 3B ≤ 21"
   ]
  },
  {
   "cell_type": "code",
   "execution_count": 10,
   "id": "ddbb4382-b783-4b48-b81d-a0f5342900de",
   "metadata": {},
   "outputs": [],
   "source": [
    "# define model\n",
    "model = LpProblem(\"Maxprofit\", LpMaximize)"
   ]
  },
  {
   "cell_type": "code",
   "execution_count": 5,
   "id": "4e10da29-4768-439a-b652-619dddba0512",
   "metadata": {},
   "outputs": [],
   "source": [
    "#path_to_gpl = r\"C:\\Users\\michi\\Downloads\\winglpk-4.65\\glpk-4.65\\w64\\glpsol.exe\"\n",
    "solver = GLPK_CMD(path= r\"C:\\Users\\michi\\Downloads\\winglpk-4.65\\glpk-4.65\\w64\\glpsol.exe\")"
   ]
  },
  {
   "cell_type": "code",
   "execution_count": 11,
   "id": "3d674a91-3e8e-447a-bd0f-07243cf3b16d",
   "metadata": {},
   "outputs": [],
   "source": [
    "## Define decision variables\n",
    "A = LpVariable(\"A_var\", lowBound = 0, cat = \"Integer\")\n",
    "B = LpVariable(\"B_var\", lowBound = 0, cat = \"Integer\")"
   ]
  },
  {
   "cell_type": "code",
   "execution_count": 12,
   "id": "c6491339-7a32-4f80-9efb-ee03f618f12e",
   "metadata": {},
   "outputs": [],
   "source": [
    "# Objective function\n",
    "model += 30000 * A + 45000 * B, \"Profit\"\n",
    "\n",
    "# Constraints\n",
    "model += 3 * A + 4 * B <= 30\n",
    "model += 5 * A + 6 * B <= 60\n",
    "model += 1.5 * A + 3 * B <= 21"
   ]
  },
  {
   "cell_type": "code",
   "execution_count": 20,
   "id": "6f5d6e6f-487f-4f9e-984d-ee786d88f09e",
   "metadata": {},
   "outputs": [
    {
     "data": {
      "text/plain": [
       "Maxprofit:\n",
       "MAXIMIZE\n",
       "30000*A_var + 45000*B_var + 0\n",
       "SUBJECT TO\n",
       "_C1: 3 A_var + 4 B_var <= 30\n",
       "\n",
       "_C2: 5 A_var + 6 B_var <= 60\n",
       "\n",
       "_C3: 1.5 A_var + 3 B_var <= 21\n",
       "\n",
       "VARIABLES\n",
       "0 <= A_var Integer\n",
       "0 <= B_var Integer"
      ]
     },
     "execution_count": 20,
     "metadata": {},
     "output_type": "execute_result"
    }
   ],
   "source": [
    "model"
   ]
  },
  {
   "cell_type": "code",
   "execution_count": 13,
   "id": "b1723049-ccc5-410e-9569-6edbfdac6fc5",
   "metadata": {},
   "outputs": [
    {
     "data": {
      "text/plain": [
       "'Optimal'"
      ]
     },
     "execution_count": 13,
     "metadata": {},
     "output_type": "execute_result"
    }
   ],
   "source": [
    "model.solve()\n",
    "LpStatus[model.status]"
   ]
  },
  {
   "cell_type": "code",
   "execution_count": 17,
   "id": "7333795b-3827-43e1-96ea-67e12dc63901",
   "metadata": {},
   "outputs": [
    {
     "name": "stdout",
     "output_type": "stream",
     "text": [
      "Production of Car A = 2\n",
      "Production of Car B = 6\n"
     ]
    }
   ],
   "source": [
    "# Print our decision variable values\n",
    "print (\"Production of Car A = {}\".format(A.varValue))\n",
    "print( \"Production of Car B = {}\".format(B.varValue))"
   ]
  },
  {
   "cell_type": "code",
   "execution_count": 19,
   "id": "0fe8530a-43b0-478d-919d-39d676c0cdda",
   "metadata": {},
   "outputs": [
    {
     "name": "stdout",
     "output_type": "stream",
     "text": [
      "330000\n"
     ]
    }
   ],
   "source": [
    "# Print our objective function value\n",
    "print (pulp.value(model.objective))"
   ]
  },
  {
   "cell_type": "code",
   "execution_count": null,
   "id": "4f799536-fb3d-430a-8f85-85dc0eed6701",
   "metadata": {},
   "outputs": [],
   "source": [
    "pulpTestAll()"
   ]
  },
  {
   "cell_type": "code",
   "execution_count": 15,
   "id": "32078ea0-ce6a-4533-9293-5267130d9293",
   "metadata": {},
   "outputs": [],
   "source": [
    "solver_list = listSolvers(onlyAvailable=True)"
   ]
  },
  {
   "cell_type": "markdown",
   "id": "5c6833b4-46f1-43c3-b4e6-73c4af50273e",
   "metadata": {},
   "source": [
    "**Problem 3 - Blending Problem**\n",
    "\n",
    "\n",
    "| Ingredient | Cost (€/kg)  | Availability (kg) |\n",
    "|------------|--------------|-------------------|\n",
    "|  Pork      | 4.32         | 30                |\n",
    "|  Wheat     | 2.46         | 20                |\n",
    "|  Starch    | 1.86         | 17                \n",
    "\n",
    " 2 types of sausage:\n",
    "\n",
    "Economy (>40% Pork)\n",
    "Premium (>60% Pork)\n",
    "\n",
    "One sausage is 50 grams (0.05 kg)\n",
    "\n",
    "According to government regulations, the most starch we can use in our sausages is 25%\n",
    "\n",
    "We have a contract with a butcher, and have already purchased 23 kg pork, that will go bad if it's not used.\n",
    "\n",
    "We have a demand for 350 economy sausages and 500 premium sausages.\n",
    "\n",
    "We need to figure out how to most cost effectively blend our sausages.\n",
    "\n",
    "Let's model our problem\n",
    "\n",
    " *p<sub>e</sub>* = Pork in the economy sausages (kg) <br>\n",
    "*w<sub>e</sub>* = Wheat in the economy sausages (kg)<br>\n",
    "*s<sub>e</sub>* = Starch in the economy sausages (kg)<br>\n",
    "*p<sub>p</sub>* = Pork in the premium sausages (kg)<br>\n",
    "*w<sub>p</sub>* = Wheat in the premium sausages (kg)<br>\n",
    "*s<sub>p</sub>* = Starch in the premium sausages (kg)<br>\n",
    "\n",
    "We want to minimise costs such that:\n",
    "\n",
    "Cost = 4.32(*p<sub>e</sub>* + *p<sub>p</sub>*) + 2.46(*w<sub>e</sub>* + *w<sub>p</sub>*) + 1.86(*s<sub>e</sub>* + *s<sub>p</sub>*)\n",
    "\n",
    "Constraints:\n",
    "\n",
    "*p<sub>e</sub>* + *w<sub>e</sub>* + *s<sub>e</sub>* = 350 * 0.05 <br>\n",
    "*p<sub>p</sub>* + *w<sub>p</sub>* + *s<sub>p</sub>* = 500 * 0.05 <br>\n",
    "*p<sub>e</sub>* ≥ 0.4(*p<sub>e</sub>* + *w<sub>e</sub>* + *s<sub>e</sub>*)<br> \n",
    "*p<sub>p</sub>* ≥ 0.6(*p<sub>p</sub>* + *w<sub>p</sub>* + *s<sub>p</sub>*) <br>\n",
    "*s<sub>e</sub>* ≤ 0.25(*p<sub>e</sub>* + *w<sub>e</sub>* + *s<sub>e</sub>*) <br>\n",
    "*s<sub>p</sub>* ≤ 0.25(*p<sub>p</sub>* + *w<sub>p</sub>* + *s<sub>p</sub>*) <br>\n",
    "*p<sub>e</sub>* + *p<sub>p</sub>* ≤ 30 <br>\n",
    "*w<sub>e</sub>* + *w<sub>p</sub>* ≤ 20 <br>\n",
    "*s<sub>e</sub>* + *s<sub>p</sub>* ≤ 17 <br>\n",
    "*p<sub>e</sub>* + *p<sub>p</sub>* ≥ 23<br>"
   ]
  },
  {
   "cell_type": "code",
   "execution_count": 41,
   "id": "61a11cb3-fb97-46c5-8f30-87b91f5ddf51",
   "metadata": {},
   "outputs": [],
   "source": [
    "model = LpProblem(\"CostMin\", LpMinimize)"
   ]
  },
  {
   "cell_type": "code",
   "execution_count": 42,
   "id": "675a29a6-656c-4715-a5b3-d715162c07f5",
   "metadata": {},
   "outputs": [],
   "source": [
    "# Construct decision variable lists - more efficient way to define the variables and call them later on in our objective function\n",
    "\n",
    "sausage_types = [\"economy\", \"premium\"]\n",
    "ingredients = [\"pork\", \"wheat\", \"starch\"]"
   ]
  },
  {
   "cell_type": "code",
   "execution_count": 43,
   "id": "f9efe424-4dc8-4a84-9af7-2bc63067915f",
   "metadata": {},
   "outputs": [],
   "source": [
    "ing_weight = LpVariable.dicts(\"weight kg\", \n",
    "                              ((i, j) for i in sausage_types for j in ingredients),\n",
    "                              lowBound = 0,\n",
    "                              cat = \"Continuous\")"
   ]
  },
  {
   "cell_type": "code",
   "execution_count": 44,
   "id": "f53b59e5-8be6-45f3-b4b8-09a37d96d637",
   "metadata": {},
   "outputs": [
    {
     "data": {
      "text/plain": [
       "{('economy', 'pork'): weight_kg_('economy',_'pork'),\n",
       " ('economy', 'wheat'): weight_kg_('economy',_'wheat'),\n",
       " ('economy', 'starch'): weight_kg_('economy',_'starch'),\n",
       " ('premium', 'pork'): weight_kg_('premium',_'pork'),\n",
       " ('premium', 'wheat'): weight_kg_('premium',_'wheat'),\n",
       " ('premium', 'starch'): weight_kg_('premium',_'starch')}"
      ]
     },
     "execution_count": 44,
     "metadata": {},
     "output_type": "execute_result"
    }
   ],
   "source": [
    "ing_weight"
   ]
  },
  {
   "cell_type": "code",
   "execution_count": 45,
   "id": "a8e4a47b-0510-451a-8852-1144100aa560",
   "metadata": {},
   "outputs": [],
   "source": [
    "# Objective function\n",
    "\n",
    "model += (pulp.lpSum([\n",
    "            4.32 * ing_weight[(i, \"pork\")]\n",
    "            + 2.46 * ing_weight[(i, \"wheat\")]\n",
    "            + 1.86 * ing_weight[(i, \"starch\")]\n",
    "            for i in sausage_types])\n",
    "         )"
   ]
  },
  {
   "cell_type": "code",
   "execution_count": 46,
   "id": "ae2cfd87-d1a9-492c-aa7c-857270b575f7",
   "metadata": {},
   "outputs": [
    {
     "data": {
      "text/plain": [
       "CostMin:\n",
       "MINIMIZE\n",
       "4.32*weight_kg_('economy',_'pork') + 1.86*weight_kg_('economy',_'starch') + 2.46*weight_kg_('economy',_'wheat') + 4.32*weight_kg_('premium',_'pork') + 1.86*weight_kg_('premium',_'starch') + 2.46*weight_kg_('premium',_'wheat') + 0.0\n",
       "VARIABLES\n",
       "weight_kg_('economy',_'pork') Continuous\n",
       "weight_kg_('economy',_'starch') Continuous\n",
       "weight_kg_('economy',_'wheat') Continuous\n",
       "weight_kg_('premium',_'pork') Continuous\n",
       "weight_kg_('premium',_'starch') Continuous\n",
       "weight_kg_('premium',_'wheat') Continuous"
      ]
     },
     "execution_count": 46,
     "metadata": {},
     "output_type": "execute_result"
    }
   ],
   "source": [
    "model"
   ]
  },
  {
   "cell_type": "code",
   "execution_count": 47,
   "id": "c0a65950-8ed3-41dc-9460-c6db1cd50e5e",
   "metadata": {},
   "outputs": [],
   "source": [
    "# Constraints \n",
    "#350 economy and 500 premium sausages at 0.05kg\n",
    "model += pulp.lpSum([ing_weight['economy', j] for j in ingredients]) == 350 * 0.05\n",
    "model += pulp.lpSum([ing_weight['premium', j] for j in ingredients]) == 500 * 0.05\n",
    "\n",
    "# Economy >= 40% pork and premium >= 60% pork\n",
    "model += ing_weight['economy', 'pork'] >= (\n",
    "    0.4 * pulp.lpSum([ing_weight['economy', j] for j in ingredients]))\n",
    "\n",
    "model += ing_weight['premium', 'pork'] >= (\n",
    "    0.6 * pulp.lpSum([ing_weight['premium', j] for j in ingredients]))\n",
    "\n",
    "# Sausages must be <= 25% starch\n",
    "\n",
    "model += ing_weight['economy', 'starch'] <= (\n",
    "    0.25 * pulp.lpSum([ing_weight['economy', j] for j in ingredients]))\n",
    "\n",
    "model += ing_weight['premium', 'starch'] <= (\n",
    "    0.25 * pulp.lpSum([ing_weight['premium', j] for j in ingredients]))\n",
    "\n",
    "# Supplier capacity - 30kg pork, 20kg wheat, 17kg starch\n",
    "\n",
    "model += pulp.lpSum([ing_weight[i, 'pork'] for i in sausage_types]) <= 30\n",
    "model += pulp.lpSum([ing_weight[i, 'wheat'] for i in sausage_types]) <= 20\n",
    "model += pulp.lpSum([ing_weight[i, 'starch'] for i in sausage_types]) <= 17\n",
    "\n",
    "# Must at least use 23kg pork\n",
    "\n",
    "model += pulp.lpSum([ing_weight[i, 'pork'] for i in sausage_types]) >= 23\n",
    "\n"
   ]
  },
  {
   "cell_type": "code",
   "execution_count": 48,
   "id": "2759ebd1-163c-451b-93a5-f49e6b5f4564",
   "metadata": {},
   "outputs": [
    {
     "data": {
      "text/plain": [
       "CostMin:\n",
       "MINIMIZE\n",
       "4.32*weight_kg_('economy',_'pork') + 1.86*weight_kg_('economy',_'starch') + 2.46*weight_kg_('economy',_'wheat') + 4.32*weight_kg_('premium',_'pork') + 1.86*weight_kg_('premium',_'starch') + 2.46*weight_kg_('premium',_'wheat') + 0.0\n",
       "SUBJECT TO\n",
       "_C1: weight_kg_('economy',_'pork') + weight_kg_('economy',_'starch')\n",
       " + weight_kg_('economy',_'wheat') = 17.5\n",
       "\n",
       "_C2: weight_kg_('premium',_'pork') + weight_kg_('premium',_'starch')\n",
       " + weight_kg_('premium',_'wheat') = 25\n",
       "\n",
       "_C3: 0.6 weight_kg_('economy',_'pork') - 0.4 weight_kg_('economy',_'starch')\n",
       " - 0.4 weight_kg_('economy',_'wheat') >= 0\n",
       "\n",
       "_C4: 0.4 weight_kg_('premium',_'pork') - 0.6 weight_kg_('premium',_'starch')\n",
       " - 0.6 weight_kg_('premium',_'wheat') >= 0\n",
       "\n",
       "_C5: - 0.25 weight_kg_('economy',_'pork')\n",
       " + 0.75 weight_kg_('economy',_'starch') - 0.25 weight_kg_('economy',_'wheat')\n",
       " <= 0\n",
       "\n",
       "_C6: - 0.25 weight_kg_('premium',_'pork')\n",
       " + 0.75 weight_kg_('premium',_'starch') - 0.25 weight_kg_('premium',_'wheat')\n",
       " <= 0\n",
       "\n",
       "_C7: weight_kg_('economy',_'pork') + weight_kg_('premium',_'pork') <= 30\n",
       "\n",
       "_C8: weight_kg_('economy',_'wheat') + weight_kg_('premium',_'wheat') <= 20\n",
       "\n",
       "_C9: weight_kg_('economy',_'starch') + weight_kg_('premium',_'starch') <= 17\n",
       "\n",
       "_C10: weight_kg_('economy',_'pork') + weight_kg_('premium',_'pork') >= 23\n",
       "\n",
       "VARIABLES\n",
       "weight_kg_('economy',_'pork') Continuous\n",
       "weight_kg_('economy',_'starch') Continuous\n",
       "weight_kg_('economy',_'wheat') Continuous\n",
       "weight_kg_('premium',_'pork') Continuous\n",
       "weight_kg_('premium',_'starch') Continuous\n",
       "weight_kg_('premium',_'wheat') Continuous"
      ]
     },
     "execution_count": 48,
     "metadata": {},
     "output_type": "execute_result"
    }
   ],
   "source": [
    "model"
   ]
  },
  {
   "cell_type": "code",
   "execution_count": 49,
   "id": "316da135-a559-4f43-85fa-53a370677da8",
   "metadata": {},
   "outputs": [
    {
     "data": {
      "text/plain": [
       "'Optimal'"
      ]
     },
     "execution_count": 49,
     "metadata": {},
     "output_type": "execute_result"
    }
   ],
   "source": [
    "model.solve()\n",
    "LpStatus[model.status]"
   ]
  },
  {
   "cell_type": "code",
   "execution_count": 52,
   "id": "524727b2-6b5c-427e-a167-13f9d7279fc1",
   "metadata": {},
   "outputs": [
    {
     "name": "stdout",
     "output_type": "stream",
     "text": [
      "The weight of pork in economy sausages is 8.0 kg\n",
      "The weight of wheat in economy sausages is 5.125 kg\n",
      "The weight of starch in economy sausages is 4.375 kg\n",
      "The weight of pork in premium sausages is 15.0 kg\n",
      "The weight of wheat in premium sausages is 3.75 kg\n",
      "The weight of starch in premium sausages is 6.25 kg\n"
     ]
    }
   ],
   "source": [
    "for var in ing_weight:\n",
    "    var_value = ing_weight[var].varValue\n",
    "    print(\"The weight of {0} in {1} sausages is {2} kg\".format(var[1], var[0], var_value))"
   ]
  },
  {
   "cell_type": "code",
   "execution_count": 57,
   "id": "417d416f-b1e5-456e-a400-b8969e4c0d1f",
   "metadata": {},
   "outputs": [
    {
     "name": "stdout",
     "output_type": "stream",
     "text": [
      "The total cost is €140.96 for 350 economy sausages and 500 premium sausages\n"
     ]
    }
   ],
   "source": [
    "total_cost = pulp.value(model.objective)\n",
    "print(\"The total cost is €{} for 350 economy sausages and 500 premium sausages\".format(round(total_cost, 2)))"
   ]
  },
  {
   "cell_type": "markdown",
   "id": "3d20f381-b475-4a5a-b815-600f74740f45",
   "metadata": {},
   "source": [
    "**Problem 4 - Scheduling problem**\n",
    "\n",
    "- 2 offshore production plants in 2 locations\n",
    "- Estimated demand for our products\n",
    "\n",
    "Want to find the production schedule for both plants that meets demand at the lowest cost\n",
    "\n",
    "Factory can be either:\n",
    "- off = Producing 0 units (controlled by binary variable)\n",
    "- on = Producing between minimium and capacity\n",
    "\n",
    "Both factories have fixed cost that occur when they are open, and variable production costs which vary per month.\n",
    "\n",
    "Factory B will be down for maintenance in month 5"
   ]
  },
  {
   "cell_type": "code",
   "execution_count": 2,
   "id": "9e3be9ae-f620-4b72-8e4c-9992e74eda87",
   "metadata": {},
   "outputs": [],
   "source": [
    "import pandas as pd"
   ]
  },
  {
   "cell_type": "code",
   "execution_count": 4,
   "id": "0e9b1144-bd50-46ee-995b-ae0ba0ff9f46",
   "metadata": {},
   "outputs": [
    {
     "data": {
      "text/html": [
       "<div>\n",
       "<style scoped>\n",
       "    .dataframe tbody tr th:only-of-type {\n",
       "        vertical-align: middle;\n",
       "    }\n",
       "\n",
       "    .dataframe tbody tr th {\n",
       "        vertical-align: top;\n",
       "    }\n",
       "\n",
       "    .dataframe thead th {\n",
       "        text-align: right;\n",
       "    }\n",
       "</style>\n",
       "<table border=\"1\" class=\"dataframe\">\n",
       "  <thead>\n",
       "    <tr style=\"text-align: right;\">\n",
       "      <th></th>\n",
       "      <th></th>\n",
       "      <th>Max_Capacity</th>\n",
       "      <th>Min_Capacity</th>\n",
       "      <th>Variable_Costs</th>\n",
       "      <th>Fixed_Costs</th>\n",
       "    </tr>\n",
       "    <tr>\n",
       "      <th>Month</th>\n",
       "      <th>Factory</th>\n",
       "      <th></th>\n",
       "      <th></th>\n",
       "      <th></th>\n",
       "      <th></th>\n",
       "    </tr>\n",
       "  </thead>\n",
       "  <tbody>\n",
       "    <tr>\n",
       "      <th rowspan=\"2\" valign=\"top\">1</th>\n",
       "      <th>A</th>\n",
       "      <td>100000</td>\n",
       "      <td>20000</td>\n",
       "      <td>10</td>\n",
       "      <td>500</td>\n",
       "    </tr>\n",
       "    <tr>\n",
       "      <th>B</th>\n",
       "      <td>50000</td>\n",
       "      <td>20000</td>\n",
       "      <td>5</td>\n",
       "      <td>600</td>\n",
       "    </tr>\n",
       "    <tr>\n",
       "      <th rowspan=\"2\" valign=\"top\">2</th>\n",
       "      <th>A</th>\n",
       "      <td>110000</td>\n",
       "      <td>20000</td>\n",
       "      <td>11</td>\n",
       "      <td>500</td>\n",
       "    </tr>\n",
       "    <tr>\n",
       "      <th>B</th>\n",
       "      <td>55000</td>\n",
       "      <td>20000</td>\n",
       "      <td>4</td>\n",
       "      <td>600</td>\n",
       "    </tr>\n",
       "    <tr>\n",
       "      <th rowspan=\"2\" valign=\"top\">3</th>\n",
       "      <th>A</th>\n",
       "      <td>120000</td>\n",
       "      <td>20000</td>\n",
       "      <td>12</td>\n",
       "      <td>500</td>\n",
       "    </tr>\n",
       "    <tr>\n",
       "      <th>B</th>\n",
       "      <td>60000</td>\n",
       "      <td>20000</td>\n",
       "      <td>3</td>\n",
       "      <td>600</td>\n",
       "    </tr>\n",
       "    <tr>\n",
       "      <th rowspan=\"2\" valign=\"top\">4</th>\n",
       "      <th>A</th>\n",
       "      <td>145000</td>\n",
       "      <td>20000</td>\n",
       "      <td>9</td>\n",
       "      <td>500</td>\n",
       "    </tr>\n",
       "    <tr>\n",
       "      <th>B</th>\n",
       "      <td>100000</td>\n",
       "      <td>20000</td>\n",
       "      <td>5</td>\n",
       "      <td>600</td>\n",
       "    </tr>\n",
       "    <tr>\n",
       "      <th rowspan=\"2\" valign=\"top\">5</th>\n",
       "      <th>A</th>\n",
       "      <td>160000</td>\n",
       "      <td>20000</td>\n",
       "      <td>8</td>\n",
       "      <td>500</td>\n",
       "    </tr>\n",
       "    <tr>\n",
       "      <th>B</th>\n",
       "      <td>0</td>\n",
       "      <td>0</td>\n",
       "      <td>0</td>\n",
       "      <td>0</td>\n",
       "    </tr>\n",
       "    <tr>\n",
       "      <th rowspan=\"2\" valign=\"top\">6</th>\n",
       "      <th>A</th>\n",
       "      <td>140000</td>\n",
       "      <td>20000</td>\n",
       "      <td>8</td>\n",
       "      <td>500</td>\n",
       "    </tr>\n",
       "    <tr>\n",
       "      <th>B</th>\n",
       "      <td>70000</td>\n",
       "      <td>20000</td>\n",
       "      <td>6</td>\n",
       "      <td>600</td>\n",
       "    </tr>\n",
       "    <tr>\n",
       "      <th rowspan=\"2\" valign=\"top\">7</th>\n",
       "      <th>A</th>\n",
       "      <td>155000</td>\n",
       "      <td>20000</td>\n",
       "      <td>5</td>\n",
       "      <td>500</td>\n",
       "    </tr>\n",
       "    <tr>\n",
       "      <th>B</th>\n",
       "      <td>60000</td>\n",
       "      <td>20000</td>\n",
       "      <td>4</td>\n",
       "      <td>600</td>\n",
       "    </tr>\n",
       "    <tr>\n",
       "      <th rowspan=\"2\" valign=\"top\">8</th>\n",
       "      <th>A</th>\n",
       "      <td>200000</td>\n",
       "      <td>20000</td>\n",
       "      <td>7</td>\n",
       "      <td>500</td>\n",
       "    </tr>\n",
       "    <tr>\n",
       "      <th>B</th>\n",
       "      <td>100000</td>\n",
       "      <td>20000</td>\n",
       "      <td>6</td>\n",
       "      <td>600</td>\n",
       "    </tr>\n",
       "    <tr>\n",
       "      <th rowspan=\"2\" valign=\"top\">9</th>\n",
       "      <th>A</th>\n",
       "      <td>210000</td>\n",
       "      <td>20000</td>\n",
       "      <td>9</td>\n",
       "      <td>500</td>\n",
       "    </tr>\n",
       "    <tr>\n",
       "      <th>B</th>\n",
       "      <td>100000</td>\n",
       "      <td>20000</td>\n",
       "      <td>8</td>\n",
       "      <td>600</td>\n",
       "    </tr>\n",
       "    <tr>\n",
       "      <th rowspan=\"2\" valign=\"top\">10</th>\n",
       "      <th>A</th>\n",
       "      <td>197000</td>\n",
       "      <td>20000</td>\n",
       "      <td>10</td>\n",
       "      <td>500</td>\n",
       "    </tr>\n",
       "    <tr>\n",
       "      <th>B</th>\n",
       "      <td>100000</td>\n",
       "      <td>20000</td>\n",
       "      <td>11</td>\n",
       "      <td>600</td>\n",
       "    </tr>\n",
       "    <tr>\n",
       "      <th rowspan=\"2\" valign=\"top\">11</th>\n",
       "      <th>A</th>\n",
       "      <td>80000</td>\n",
       "      <td>20000</td>\n",
       "      <td>8</td>\n",
       "      <td>500</td>\n",
       "    </tr>\n",
       "    <tr>\n",
       "      <th>B</th>\n",
       "      <td>120000</td>\n",
       "      <td>20000</td>\n",
       "      <td>10</td>\n",
       "      <td>600</td>\n",
       "    </tr>\n",
       "    <tr>\n",
       "      <th rowspan=\"2\" valign=\"top\">12</th>\n",
       "      <th>A</th>\n",
       "      <td>150000</td>\n",
       "      <td>20000</td>\n",
       "      <td>8</td>\n",
       "      <td>500</td>\n",
       "    </tr>\n",
       "    <tr>\n",
       "      <th>B</th>\n",
       "      <td>150000</td>\n",
       "      <td>20000</td>\n",
       "      <td>12</td>\n",
       "      <td>600</td>\n",
       "    </tr>\n",
       "  </tbody>\n",
       "</table>\n",
       "</div>"
      ],
      "text/plain": [
       "               Max_Capacity  Min_Capacity  Variable_Costs  Fixed_Costs\n",
       "Month Factory                                                         \n",
       "1     A              100000         20000              10          500\n",
       "      B               50000         20000               5          600\n",
       "2     A              110000         20000              11          500\n",
       "      B               55000         20000               4          600\n",
       "3     A              120000         20000              12          500\n",
       "      B               60000         20000               3          600\n",
       "4     A              145000         20000               9          500\n",
       "      B              100000         20000               5          600\n",
       "5     A              160000         20000               8          500\n",
       "      B                   0             0               0            0\n",
       "6     A              140000         20000               8          500\n",
       "      B               70000         20000               6          600\n",
       "7     A              155000         20000               5          500\n",
       "      B               60000         20000               4          600\n",
       "8     A              200000         20000               7          500\n",
       "      B              100000         20000               6          600\n",
       "9     A              210000         20000               9          500\n",
       "      B              100000         20000               8          600\n",
       "10    A              197000         20000              10          500\n",
       "      B              100000         20000              11          600\n",
       "11    A               80000         20000               8          500\n",
       "      B              120000         20000              10          600\n",
       "12    A              150000         20000               8          500\n",
       "      B              150000         20000              12          600"
      ]
     },
     "execution_count": 4,
     "metadata": {},
     "output_type": "execute_result"
    }
   ],
   "source": [
    "# Import information regarding the factories = Capacity, var cost, fix cost for each month\n",
    "factories = pd.read_csv(\"https://raw.githubusercontent.com/benalexkeen/Introduction-to-linear-programming/master/csv/factory_variables.csv\", index_col= [\"Month\", \"Factory\"])\n",
    "factories"
   ]
  },
  {
   "cell_type": "code",
   "execution_count": 6,
   "id": "f400a0d2-98b9-4de3-8c1a-f7da0bc3c675",
   "metadata": {},
   "outputs": [
    {
     "data": {
      "text/html": [
       "<div>\n",
       "<style scoped>\n",
       "    .dataframe tbody tr th:only-of-type {\n",
       "        vertical-align: middle;\n",
       "    }\n",
       "\n",
       "    .dataframe tbody tr th {\n",
       "        vertical-align: top;\n",
       "    }\n",
       "\n",
       "    .dataframe thead th {\n",
       "        text-align: right;\n",
       "    }\n",
       "</style>\n",
       "<table border=\"1\" class=\"dataframe\">\n",
       "  <thead>\n",
       "    <tr style=\"text-align: right;\">\n",
       "      <th></th>\n",
       "      <th>Demand</th>\n",
       "    </tr>\n",
       "    <tr>\n",
       "      <th>Month</th>\n",
       "      <th></th>\n",
       "    </tr>\n",
       "  </thead>\n",
       "  <tbody>\n",
       "    <tr>\n",
       "      <th>1</th>\n",
       "      <td>120000</td>\n",
       "    </tr>\n",
       "    <tr>\n",
       "      <th>2</th>\n",
       "      <td>100000</td>\n",
       "    </tr>\n",
       "    <tr>\n",
       "      <th>3</th>\n",
       "      <td>130000</td>\n",
       "    </tr>\n",
       "    <tr>\n",
       "      <th>4</th>\n",
       "      <td>130000</td>\n",
       "    </tr>\n",
       "    <tr>\n",
       "      <th>5</th>\n",
       "      <td>140000</td>\n",
       "    </tr>\n",
       "    <tr>\n",
       "      <th>6</th>\n",
       "      <td>130000</td>\n",
       "    </tr>\n",
       "    <tr>\n",
       "      <th>7</th>\n",
       "      <td>150000</td>\n",
       "    </tr>\n",
       "    <tr>\n",
       "      <th>8</th>\n",
       "      <td>170000</td>\n",
       "    </tr>\n",
       "    <tr>\n",
       "      <th>9</th>\n",
       "      <td>200000</td>\n",
       "    </tr>\n",
       "    <tr>\n",
       "      <th>10</th>\n",
       "      <td>190000</td>\n",
       "    </tr>\n",
       "    <tr>\n",
       "      <th>11</th>\n",
       "      <td>140000</td>\n",
       "    </tr>\n",
       "    <tr>\n",
       "      <th>12</th>\n",
       "      <td>100000</td>\n",
       "    </tr>\n",
       "  </tbody>\n",
       "</table>\n",
       "</div>"
      ],
      "text/plain": [
       "       Demand\n",
       "Month        \n",
       "1      120000\n",
       "2      100000\n",
       "3      130000\n",
       "4      130000\n",
       "5      140000\n",
       "6      130000\n",
       "7      150000\n",
       "8      170000\n",
       "9      200000\n",
       "10     190000\n",
       "11     140000\n",
       "12     100000"
      ]
     },
     "execution_count": 6,
     "metadata": {},
     "output_type": "execute_result"
    }
   ],
   "source": [
    "# Import monthly total demand\n",
    "demand = pd.read_csv(\"https://raw.githubusercontent.com/benalexkeen/Introduction-to-linear-programming/master/csv/monthly_demand.csv\", index_col=[\"Month\"])\n",
    "demand"
   ]
  },
  {
   "cell_type": "code",
   "execution_count": 8,
   "id": "ec53c86f-d19d-439c-a248-74a1b3f3b4bc",
   "metadata": {},
   "outputs": [],
   "source": [
    "# Define our variables - Production for each month and each factory 1A - 1B - 2A - 2B etc.\n",
    "\n",
    "production = LpVariable.dicts(\"production\",\n",
    "                                ((month, factory) for month, factory in factories.index),\n",
    "                               lowBound = 0,\n",
    "                               cat = \"Integer\")"
   ]
  },
  {
   "cell_type": "code",
   "execution_count": 9,
   "id": "43a408f6-b130-4bb7-893b-4dd07a9461c8",
   "metadata": {},
   "outputs": [
    {
     "data": {
      "text/plain": [
       "{(1, 'A'): production_(1,_'A'),\n",
       " (1, 'B'): production_(1,_'B'),\n",
       " (2, 'A'): production_(2,_'A'),\n",
       " (2, 'B'): production_(2,_'B'),\n",
       " (3, 'A'): production_(3,_'A'),\n",
       " (3, 'B'): production_(3,_'B'),\n",
       " (4, 'A'): production_(4,_'A'),\n",
       " (4, 'B'): production_(4,_'B'),\n",
       " (5, 'A'): production_(5,_'A'),\n",
       " (5, 'B'): production_(5,_'B'),\n",
       " (6, 'A'): production_(6,_'A'),\n",
       " (6, 'B'): production_(6,_'B'),\n",
       " (7, 'A'): production_(7,_'A'),\n",
       " (7, 'B'): production_(7,_'B'),\n",
       " (8, 'A'): production_(8,_'A'),\n",
       " (8, 'B'): production_(8,_'B'),\n",
       " (9, 'A'): production_(9,_'A'),\n",
       " (9, 'B'): production_(9,_'B'),\n",
       " (10, 'A'): production_(10,_'A'),\n",
       " (10, 'B'): production_(10,_'B'),\n",
       " (11, 'A'): production_(11,_'A'),\n",
       " (11, 'B'): production_(11,_'B'),\n",
       " (12, 'A'): production_(12,_'A'),\n",
       " (12, 'B'): production_(12,_'B')}"
      ]
     },
     "execution_count": 9,
     "metadata": {},
     "output_type": "execute_result"
    }
   ],
   "source": [
    "production"
   ]
  },
  {
   "cell_type": "code",
   "execution_count": 10,
   "id": "f5616b5c-de14-4af6-a024-3c43ea063cd1",
   "metadata": {},
   "outputs": [],
   "source": [
    "# model factory status as binary - for each month and factory again\n",
    "\n",
    "factory_status = LpVariable.dicts(\"factory_status\",\n",
    "                                  ((month, factory) for month, factory in factories.index),\n",
    "                                  cat = \"Binary\")"
   ]
  },
  {
   "cell_type": "code",
   "execution_count": 11,
   "id": "fa622141-4e2c-4915-8230-13f54c35a277",
   "metadata": {},
   "outputs": [
    {
     "data": {
      "text/plain": [
       "{(1, 'A'): factory_status_(1,_'A'),\n",
       " (1, 'B'): factory_status_(1,_'B'),\n",
       " (2, 'A'): factory_status_(2,_'A'),\n",
       " (2, 'B'): factory_status_(2,_'B'),\n",
       " (3, 'A'): factory_status_(3,_'A'),\n",
       " (3, 'B'): factory_status_(3,_'B'),\n",
       " (4, 'A'): factory_status_(4,_'A'),\n",
       " (4, 'B'): factory_status_(4,_'B'),\n",
       " (5, 'A'): factory_status_(5,_'A'),\n",
       " (5, 'B'): factory_status_(5,_'B'),\n",
       " (6, 'A'): factory_status_(6,_'A'),\n",
       " (6, 'B'): factory_status_(6,_'B'),\n",
       " (7, 'A'): factory_status_(7,_'A'),\n",
       " (7, 'B'): factory_status_(7,_'B'),\n",
       " (8, 'A'): factory_status_(8,_'A'),\n",
       " (8, 'B'): factory_status_(8,_'B'),\n",
       " (9, 'A'): factory_status_(9,_'A'),\n",
       " (9, 'B'): factory_status_(9,_'B'),\n",
       " (10, 'A'): factory_status_(10,_'A'),\n",
       " (10, 'B'): factory_status_(10,_'B'),\n",
       " (11, 'A'): factory_status_(11,_'A'),\n",
       " (11, 'B'): factory_status_(11,_'B'),\n",
       " (12, 'A'): factory_status_(12,_'A'),\n",
       " (12, 'B'): factory_status_(12,_'B')}"
      ]
     },
     "execution_count": 11,
     "metadata": {},
     "output_type": "execute_result"
    }
   ],
   "source": [
    "factory_status"
   ]
  },
  {
   "cell_type": "code",
   "execution_count": 13,
   "id": "47472cf3-2158-49a4-96bb-08a78216509b",
   "metadata": {},
   "outputs": [],
   "source": [
    "# define model to minimize costs\n",
    "model = LpProblem(\"Costmin_scheduling\", LpMinimize)"
   ]
  },
  {
   "cell_type": "code",
   "execution_count": 14,
   "id": "4b6b28b5-33e6-43d7-a80a-d749012275a2",
   "metadata": {},
   "outputs": [],
   "source": [
    "# Define objective function including: Variable cost for each unit produced and fixed cost if factory is open that month\n",
    "\n",
    "model += lpSum(\n",
    "    [production[month, factory] * factories.loc[(month, factory), \"Variable_Costs\"] for month, factory in factories.index]\n",
    "    + [factory_status[month, factory] * factories.loc[(month, factory), \"Fixed_Costs\"] for month, factory in factories.index]\n",
    ")"
   ]
  },
  {
   "cell_type": "code",
   "execution_count": 15,
   "id": "df7cee59-165c-4308-97fc-f1c7685d8caf",
   "metadata": {},
   "outputs": [
    {
     "data": {
      "text/plain": [
       "Costmin_scheduling:\n",
       "MINIMIZE\n",
       "500*factory_status_(1,_'A') + 600*factory_status_(1,_'B') + 500*factory_status_(10,_'A') + 600*factory_status_(10,_'B') + 500*factory_status_(11,_'A') + 600*factory_status_(11,_'B') + 500*factory_status_(12,_'A') + 600*factory_status_(12,_'B') + 500*factory_status_(2,_'A') + 600*factory_status_(2,_'B') + 500*factory_status_(3,_'A') + 600*factory_status_(3,_'B') + 500*factory_status_(4,_'A') + 600*factory_status_(4,_'B') + 500*factory_status_(5,_'A') + 500*factory_status_(6,_'A') + 600*factory_status_(6,_'B') + 500*factory_status_(7,_'A') + 600*factory_status_(7,_'B') + 500*factory_status_(8,_'A') + 600*factory_status_(8,_'B') + 500*factory_status_(9,_'A') + 600*factory_status_(9,_'B') + 10*production_(1,_'A') + 5*production_(1,_'B') + 10*production_(10,_'A') + 11*production_(10,_'B') + 8*production_(11,_'A') + 10*production_(11,_'B') + 8*production_(12,_'A') + 12*production_(12,_'B') + 11*production_(2,_'A') + 4*production_(2,_'B') + 12*production_(3,_'A') + 3*production_(3,_'B') + 9*production_(4,_'A') + 5*production_(4,_'B') + 8*production_(5,_'A') + 8*production_(6,_'A') + 6*production_(6,_'B') + 5*production_(7,_'A') + 4*production_(7,_'B') + 7*production_(8,_'A') + 6*production_(8,_'B') + 9*production_(9,_'A') + 8*production_(9,_'B') + 0\n",
       "VARIABLES\n",
       "0 <= factory_status_(1,_'A') <= 1 Integer\n",
       "0 <= factory_status_(1,_'B') <= 1 Integer\n",
       "0 <= factory_status_(10,_'A') <= 1 Integer\n",
       "0 <= factory_status_(10,_'B') <= 1 Integer\n",
       "0 <= factory_status_(11,_'A') <= 1 Integer\n",
       "0 <= factory_status_(11,_'B') <= 1 Integer\n",
       "0 <= factory_status_(12,_'A') <= 1 Integer\n",
       "0 <= factory_status_(12,_'B') <= 1 Integer\n",
       "0 <= factory_status_(2,_'A') <= 1 Integer\n",
       "0 <= factory_status_(2,_'B') <= 1 Integer\n",
       "0 <= factory_status_(3,_'A') <= 1 Integer\n",
       "0 <= factory_status_(3,_'B') <= 1 Integer\n",
       "0 <= factory_status_(4,_'A') <= 1 Integer\n",
       "0 <= factory_status_(4,_'B') <= 1 Integer\n",
       "0 <= factory_status_(5,_'A') <= 1 Integer\n",
       "0 <= factory_status_(6,_'A') <= 1 Integer\n",
       "0 <= factory_status_(6,_'B') <= 1 Integer\n",
       "0 <= factory_status_(7,_'A') <= 1 Integer\n",
       "0 <= factory_status_(7,_'B') <= 1 Integer\n",
       "0 <= factory_status_(8,_'A') <= 1 Integer\n",
       "0 <= factory_status_(8,_'B') <= 1 Integer\n",
       "0 <= factory_status_(9,_'A') <= 1 Integer\n",
       "0 <= factory_status_(9,_'B') <= 1 Integer\n",
       "0 <= production_(1,_'A') Integer\n",
       "0 <= production_(1,_'B') Integer\n",
       "0 <= production_(10,_'A') Integer\n",
       "0 <= production_(10,_'B') Integer\n",
       "0 <= production_(11,_'A') Integer\n",
       "0 <= production_(11,_'B') Integer\n",
       "0 <= production_(12,_'A') Integer\n",
       "0 <= production_(12,_'B') Integer\n",
       "0 <= production_(2,_'A') Integer\n",
       "0 <= production_(2,_'B') Integer\n",
       "0 <= production_(3,_'A') Integer\n",
       "0 <= production_(3,_'B') Integer\n",
       "0 <= production_(4,_'A') Integer\n",
       "0 <= production_(4,_'B') Integer\n",
       "0 <= production_(5,_'A') Integer\n",
       "0 <= production_(6,_'A') Integer\n",
       "0 <= production_(6,_'B') Integer\n",
       "0 <= production_(7,_'A') Integer\n",
       "0 <= production_(7,_'B') Integer\n",
       "0 <= production_(8,_'A') Integer\n",
       "0 <= production_(8,_'B') Integer\n",
       "0 <= production_(9,_'A') Integer\n",
       "0 <= production_(9,_'B') Integer"
      ]
     },
     "execution_count": 15,
     "metadata": {},
     "output_type": "execute_result"
    }
   ],
   "source": [
    "model"
   ]
  },
  {
   "cell_type": "code",
   "execution_count": 18,
   "id": "5ef2340f-d349-4cee-9f8f-1b8310cb0432",
   "metadata": {},
   "outputs": [],
   "source": [
    "# Constraints \n",
    "# Production must be equal to demand\n",
    "\n",
    "months = demand.index\n",
    "for month in months:\n",
    "    model += production[(month, \"A\")] + production[(month, \"B\")] == demand.loc[month, \"Demand\"]"
   ]
  },
  {
   "cell_type": "code",
   "execution_count": 19,
   "id": "ba57fe8b-92f2-4ca2-88a1-ca78fd27a43e",
   "metadata": {},
   "outputs": [
    {
     "data": {
      "text/plain": [
       "Costmin_scheduling:\n",
       "MINIMIZE\n",
       "500*factory_status_(1,_'A') + 600*factory_status_(1,_'B') + 500*factory_status_(10,_'A') + 600*factory_status_(10,_'B') + 500*factory_status_(11,_'A') + 600*factory_status_(11,_'B') + 500*factory_status_(12,_'A') + 600*factory_status_(12,_'B') + 500*factory_status_(2,_'A') + 600*factory_status_(2,_'B') + 500*factory_status_(3,_'A') + 600*factory_status_(3,_'B') + 500*factory_status_(4,_'A') + 600*factory_status_(4,_'B') + 500*factory_status_(5,_'A') + 500*factory_status_(6,_'A') + 600*factory_status_(6,_'B') + 500*factory_status_(7,_'A') + 600*factory_status_(7,_'B') + 500*factory_status_(8,_'A') + 600*factory_status_(8,_'B') + 500*factory_status_(9,_'A') + 600*factory_status_(9,_'B') + 10*production_(1,_'A') + 5*production_(1,_'B') + 10*production_(10,_'A') + 11*production_(10,_'B') + 8*production_(11,_'A') + 10*production_(11,_'B') + 8*production_(12,_'A') + 12*production_(12,_'B') + 11*production_(2,_'A') + 4*production_(2,_'B') + 12*production_(3,_'A') + 3*production_(3,_'B') + 9*production_(4,_'A') + 5*production_(4,_'B') + 8*production_(5,_'A') + 8*production_(6,_'A') + 6*production_(6,_'B') + 5*production_(7,_'A') + 4*production_(7,_'B') + 7*production_(8,_'A') + 6*production_(8,_'B') + 9*production_(9,_'A') + 8*production_(9,_'B') + 0\n",
       "SUBJECT TO\n",
       "_C1: production_(1,_'A') + production_(1,_'B') = 120000\n",
       "\n",
       "_C2: production_(2,_'A') + production_(2,_'B') = 100000\n",
       "\n",
       "_C3: production_(3,_'A') + production_(3,_'B') = 130000\n",
       "\n",
       "_C4: production_(4,_'A') + production_(4,_'B') = 130000\n",
       "\n",
       "_C5: production_(5,_'A') + production_(5,_'B') = 140000\n",
       "\n",
       "_C6: production_(6,_'A') + production_(6,_'B') = 130000\n",
       "\n",
       "_C7: production_(7,_'A') + production_(7,_'B') = 150000\n",
       "\n",
       "_C8: production_(8,_'A') + production_(8,_'B') = 170000\n",
       "\n",
       "_C9: production_(9,_'A') + production_(9,_'B') = 200000\n",
       "\n",
       "_C10: production_(10,_'A') + production_(10,_'B') = 190000\n",
       "\n",
       "_C11: production_(11,_'A') + production_(11,_'B') = 140000\n",
       "\n",
       "_C12: production_(12,_'A') + production_(12,_'B') = 100000\n",
       "\n",
       "VARIABLES\n",
       "0 <= factory_status_(1,_'A') <= 1 Integer\n",
       "0 <= factory_status_(1,_'B') <= 1 Integer\n",
       "0 <= factory_status_(10,_'A') <= 1 Integer\n",
       "0 <= factory_status_(10,_'B') <= 1 Integer\n",
       "0 <= factory_status_(11,_'A') <= 1 Integer\n",
       "0 <= factory_status_(11,_'B') <= 1 Integer\n",
       "0 <= factory_status_(12,_'A') <= 1 Integer\n",
       "0 <= factory_status_(12,_'B') <= 1 Integer\n",
       "0 <= factory_status_(2,_'A') <= 1 Integer\n",
       "0 <= factory_status_(2,_'B') <= 1 Integer\n",
       "0 <= factory_status_(3,_'A') <= 1 Integer\n",
       "0 <= factory_status_(3,_'B') <= 1 Integer\n",
       "0 <= factory_status_(4,_'A') <= 1 Integer\n",
       "0 <= factory_status_(4,_'B') <= 1 Integer\n",
       "0 <= factory_status_(5,_'A') <= 1 Integer\n",
       "0 <= factory_status_(6,_'A') <= 1 Integer\n",
       "0 <= factory_status_(6,_'B') <= 1 Integer\n",
       "0 <= factory_status_(7,_'A') <= 1 Integer\n",
       "0 <= factory_status_(7,_'B') <= 1 Integer\n",
       "0 <= factory_status_(8,_'A') <= 1 Integer\n",
       "0 <= factory_status_(8,_'B') <= 1 Integer\n",
       "0 <= factory_status_(9,_'A') <= 1 Integer\n",
       "0 <= factory_status_(9,_'B') <= 1 Integer\n",
       "0 <= production_(1,_'A') Integer\n",
       "0 <= production_(1,_'B') Integer\n",
       "0 <= production_(10,_'A') Integer\n",
       "0 <= production_(10,_'B') Integer\n",
       "0 <= production_(11,_'A') Integer\n",
       "0 <= production_(11,_'B') Integer\n",
       "0 <= production_(12,_'A') Integer\n",
       "0 <= production_(12,_'B') Integer\n",
       "0 <= production_(2,_'A') Integer\n",
       "0 <= production_(2,_'B') Integer\n",
       "0 <= production_(3,_'A') Integer\n",
       "0 <= production_(3,_'B') Integer\n",
       "0 <= production_(4,_'A') Integer\n",
       "0 <= production_(4,_'B') Integer\n",
       "0 <= production_(5,_'A') Integer\n",
       "0 <= production_(5,_'B') Integer\n",
       "0 <= production_(6,_'A') Integer\n",
       "0 <= production_(6,_'B') Integer\n",
       "0 <= production_(7,_'A') Integer\n",
       "0 <= production_(7,_'B') Integer\n",
       "0 <= production_(8,_'A') Integer\n",
       "0 <= production_(8,_'B') Integer\n",
       "0 <= production_(9,_'A') Integer\n",
       "0 <= production_(9,_'B') Integer"
      ]
     },
     "execution_count": 19,
     "metadata": {},
     "output_type": "execute_result"
    }
   ],
   "source": [
    "model"
   ]
  },
  {
   "cell_type": "code",
   "execution_count": 30,
   "id": "8ed9d2aa-daa6-4a9c-a93d-99738d89d6fd",
   "metadata": {},
   "outputs": [],
   "source": [
    "# Constraints\n",
    "# Production must be between min and max capacity each month in each factory\n",
    "\n",
    "for month, factory in factories.index:\n",
    "    min_production = factories.loc[(month, factory), \"Min_Capacity\"]\n",
    "    max_production = factories.loc[(month, factory), \"Max_Capacity\"]\n",
    "    model+= production[(month, factory)] >= min_production * factory_status[month, factory]\n",
    "    model+= production[(month, factory)] <= max_production * factory_status[month, factory]"
   ]
  },
  {
   "cell_type": "code",
   "execution_count": 37,
   "id": "cf7cd77d-6e61-45f4-a830-8bcda4c247f5",
   "metadata": {},
   "outputs": [],
   "source": [
    "# Set factory B off in may\n",
    "model += factory_status[5, \"B\"] == 0\n",
    "model += production[5, \"B\"] == 0"
   ]
  },
  {
   "cell_type": "code",
   "execution_count": 38,
   "id": "70dc5891-f3e8-4916-ba4e-20789220012a",
   "metadata": {},
   "outputs": [
    {
     "data": {
      "text/plain": [
       "'Optimal'"
      ]
     },
     "execution_count": 38,
     "metadata": {},
     "output_type": "execute_result"
    }
   ],
   "source": [
    "model.solve()\n",
    "LpStatus[model.status]"
   ]
  },
  {
   "cell_type": "code",
   "execution_count": 45,
   "id": "2c656d99-b49a-4722-a7d4-a8596c5989b6",
   "metadata": {},
   "outputs": [
    {
     "data": {
      "text/html": [
       "<div>\n",
       "<style scoped>\n",
       "    .dataframe tbody tr th:only-of-type {\n",
       "        vertical-align: middle;\n",
       "    }\n",
       "\n",
       "    .dataframe tbody tr th {\n",
       "        vertical-align: top;\n",
       "    }\n",
       "\n",
       "    .dataframe thead th {\n",
       "        text-align: right;\n",
       "    }\n",
       "</style>\n",
       "<table border=\"1\" class=\"dataframe\">\n",
       "  <thead>\n",
       "    <tr style=\"text-align: right;\">\n",
       "      <th></th>\n",
       "      <th></th>\n",
       "      <th>Production</th>\n",
       "      <th>Factory Status</th>\n",
       "    </tr>\n",
       "    <tr>\n",
       "      <th>Month</th>\n",
       "      <th>Factory</th>\n",
       "      <th></th>\n",
       "      <th></th>\n",
       "    </tr>\n",
       "  </thead>\n",
       "  <tbody>\n",
       "    <tr>\n",
       "      <th rowspan=\"2\" valign=\"top\">1</th>\n",
       "      <th>A</th>\n",
       "      <td>70000</td>\n",
       "      <td>1</td>\n",
       "    </tr>\n",
       "    <tr>\n",
       "      <th>B</th>\n",
       "      <td>50000</td>\n",
       "      <td>1</td>\n",
       "    </tr>\n",
       "    <tr>\n",
       "      <th rowspan=\"2\" valign=\"top\">2</th>\n",
       "      <th>A</th>\n",
       "      <td>45000</td>\n",
       "      <td>1</td>\n",
       "    </tr>\n",
       "    <tr>\n",
       "      <th>B</th>\n",
       "      <td>55000</td>\n",
       "      <td>1</td>\n",
       "    </tr>\n",
       "    <tr>\n",
       "      <th rowspan=\"2\" valign=\"top\">3</th>\n",
       "      <th>A</th>\n",
       "      <td>70000</td>\n",
       "      <td>1</td>\n",
       "    </tr>\n",
       "    <tr>\n",
       "      <th>B</th>\n",
       "      <td>60000</td>\n",
       "      <td>1</td>\n",
       "    </tr>\n",
       "    <tr>\n",
       "      <th rowspan=\"2\" valign=\"top\">4</th>\n",
       "      <th>A</th>\n",
       "      <td>30000</td>\n",
       "      <td>1</td>\n",
       "    </tr>\n",
       "    <tr>\n",
       "      <th>B</th>\n",
       "      <td>100000</td>\n",
       "      <td>1</td>\n",
       "    </tr>\n",
       "    <tr>\n",
       "      <th rowspan=\"2\" valign=\"top\">5</th>\n",
       "      <th>A</th>\n",
       "      <td>140000</td>\n",
       "      <td>1</td>\n",
       "    </tr>\n",
       "    <tr>\n",
       "      <th>B</th>\n",
       "      <td>0</td>\n",
       "      <td>0</td>\n",
       "    </tr>\n",
       "    <tr>\n",
       "      <th rowspan=\"2\" valign=\"top\">6</th>\n",
       "      <th>A</th>\n",
       "      <td>60000</td>\n",
       "      <td>1</td>\n",
       "    </tr>\n",
       "    <tr>\n",
       "      <th>B</th>\n",
       "      <td>70000</td>\n",
       "      <td>1</td>\n",
       "    </tr>\n",
       "    <tr>\n",
       "      <th rowspan=\"2\" valign=\"top\">7</th>\n",
       "      <th>A</th>\n",
       "      <td>90000</td>\n",
       "      <td>1</td>\n",
       "    </tr>\n",
       "    <tr>\n",
       "      <th>B</th>\n",
       "      <td>60000</td>\n",
       "      <td>1</td>\n",
       "    </tr>\n",
       "    <tr>\n",
       "      <th rowspan=\"2\" valign=\"top\">8</th>\n",
       "      <th>A</th>\n",
       "      <td>70000</td>\n",
       "      <td>1</td>\n",
       "    </tr>\n",
       "    <tr>\n",
       "      <th>B</th>\n",
       "      <td>100000</td>\n",
       "      <td>1</td>\n",
       "    </tr>\n",
       "    <tr>\n",
       "      <th rowspan=\"2\" valign=\"top\">9</th>\n",
       "      <th>A</th>\n",
       "      <td>100000</td>\n",
       "      <td>1</td>\n",
       "    </tr>\n",
       "    <tr>\n",
       "      <th>B</th>\n",
       "      <td>100000</td>\n",
       "      <td>1</td>\n",
       "    </tr>\n",
       "    <tr>\n",
       "      <th rowspan=\"2\" valign=\"top\">10</th>\n",
       "      <th>A</th>\n",
       "      <td>190000</td>\n",
       "      <td>1</td>\n",
       "    </tr>\n",
       "    <tr>\n",
       "      <th>B</th>\n",
       "      <td>0</td>\n",
       "      <td>0</td>\n",
       "    </tr>\n",
       "    <tr>\n",
       "      <th rowspan=\"2\" valign=\"top\">11</th>\n",
       "      <th>A</th>\n",
       "      <td>80000</td>\n",
       "      <td>1</td>\n",
       "    </tr>\n",
       "    <tr>\n",
       "      <th>B</th>\n",
       "      <td>60000</td>\n",
       "      <td>1</td>\n",
       "    </tr>\n",
       "    <tr>\n",
       "      <th rowspan=\"2\" valign=\"top\">12</th>\n",
       "      <th>A</th>\n",
       "      <td>100000</td>\n",
       "      <td>1</td>\n",
       "    </tr>\n",
       "    <tr>\n",
       "      <th>B</th>\n",
       "      <td>0</td>\n",
       "      <td>0</td>\n",
       "    </tr>\n",
       "  </tbody>\n",
       "</table>\n",
       "</div>"
      ],
      "text/plain": [
       "               Production  Factory Status\n",
       "Month Factory                            \n",
       "1     A             70000               1\n",
       "      B             50000               1\n",
       "2     A             45000               1\n",
       "      B             55000               1\n",
       "3     A             70000               1\n",
       "      B             60000               1\n",
       "4     A             30000               1\n",
       "      B            100000               1\n",
       "5     A            140000               1\n",
       "      B                 0               0\n",
       "6     A             60000               1\n",
       "      B             70000               1\n",
       "7     A             90000               1\n",
       "      B             60000               1\n",
       "8     A             70000               1\n",
       "      B            100000               1\n",
       "9     A            100000               1\n",
       "      B            100000               1\n",
       "10    A            190000               1\n",
       "      B                 0               0\n",
       "11    A             80000               1\n",
       "      B             60000               1\n",
       "12    A            100000               1\n",
       "      B                 0               0"
      ]
     },
     "execution_count": 45,
     "metadata": {},
     "output_type": "execute_result"
    }
   ],
   "source": [
    "output = []\n",
    "for month, factory in production:\n",
    "    var_output = {\n",
    "        \"Month\" : month,\n",
    "        \"Factory\": factory,\n",
    "        \"Production\": production[(month, factory)].varValue,\n",
    "        \"Factory Status\": factory_status[(month, factory)].varValue\n",
    "    }\n",
    "    output.append(var_output)\n",
    "#create DF for the output\n",
    "output_df = pd.DataFrame.from_records(output).sort_values([\"Month\", \"Factory\"])\n",
    "output_df.set_index([\"Month\", \"Factory\"], inplace=True)\n",
    "output_df"
   ]
  },
  {
   "cell_type": "code",
   "execution_count": 46,
   "id": "44c36102-bc83-4f49-84ea-ba2e87bdbcfc",
   "metadata": {},
   "outputs": [
    {
     "name": "stdout",
     "output_type": "stream",
     "text": [
      "The total cost is €12906400 for operating both factories in the given year\n"
     ]
    }
   ],
   "source": [
    "total_cost = pulp.value(model.objective)\n",
    "print(\"The total cost is €{} for operating both factories in the given year\".format(round(total_cost, 2)))"
   ]
  }
 ],
 "metadata": {
  "kernelspec": {
   "display_name": "Python 3 (ipykernel)",
   "language": "python",
   "name": "python3"
  },
  "language_info": {
   "codemirror_mode": {
    "name": "ipython",
    "version": 3
   },
   "file_extension": ".py",
   "mimetype": "text/x-python",
   "name": "python",
   "nbconvert_exporter": "python",
   "pygments_lexer": "ipython3",
   "version": "3.9.6"
  }
 },
 "nbformat": 4,
 "nbformat_minor": 5
}
